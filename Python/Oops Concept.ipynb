{
 "cells": [
  {
   "cell_type": "code",
   "execution_count": 2,
   "id": "73ecf0c2",
   "metadata": {},
   "outputs": [],
   "source": [
    "# We are using Oops concept here"
   ]
  },
  {
   "cell_type": "code",
   "execution_count": 1,
   "id": "d2b9a422",
   "metadata": {},
   "outputs": [
    {
     "name": "stdout",
     "output_type": "stream",
     "text": [
      "Please Enter you first name SURAJ\n",
      "Please enter your last name KUMAR\n",
      "Please enter Your city FARIDABAD\n",
      "Please enter your User ID   SKV9655\n",
      "Please enter your password 12345\n"
     ]
    }
   ],
   "source": [
    "#created account class\n",
    "\n",
    "class Account: # this is class\n",
    "    def __init__(self, name = input(\"Please Enter you first name \"),\n",
    "    last_name= input(\"Please enter your last name \"),\n",
    "               city = input(\"Please enter Your city \"),\n",
    "               user_id = input(\"Please enter your User ID   \"),\n",
    "               password = input(\"Please enter your password \")):\n",
    "        self.name = name #  data initilization \n",
    "        self.last_name = last_name\n",
    "        self.city = city\n",
    "        self.user_id =user_id\n",
    "        self.password= password\n",
    "        \n",
    "    def login(self): # method\n",
    "        sign_in = input(\"Please enter the user_ID \")\n",
    "        Password =input(\"Please enter the password \")\n",
    "        while True:\n",
    "            if sign_in == self.user_id and  Password == self.password:\n",
    "                print(\"Login Successfully\")\n",
    "                break\n",
    "            else:\n",
    "                print(\"Please enter correct credentials \")\n",
    "                continue\n",
    "        "
   ]
  },
  {
   "cell_type": "code",
   "execution_count": 4,
   "id": "8efdf19c",
   "metadata": {},
   "outputs": [],
   "source": [
    "#create an object\n",
    "c =Account()"
   ]
  },
  {
   "cell_type": "code",
   "execution_count": 3,
   "id": "91001155",
   "metadata": {},
   "outputs": [
    {
     "name": "stdout",
     "output_type": "stream",
     "text": [
      "Please enter the user_ID SKV9655\n",
      "Please enter the password 12345\n",
      "Login Successfully\n"
     ]
    }
   ],
   "source": [
    "# call the function using the object\n",
    "c.login()"
   ]
  },
  {
   "cell_type": "code",
   "execution_count": 79,
   "id": "fbc251e5",
   "metadata": {},
   "outputs": [],
   "source": [
    "#we are inheriting account class Account \n",
    "\n",
    "class User_Account(Account):\n",
    "    def __init__(self, account_number, balance, *args):\n",
    "        super(User_Account, self).__init__(*args)\n",
    "        self.account_number = account_number\n",
    "        self.balance = balance\n",
    "        \n",
    "    def user_details(self):\n",
    "        while True:\n",
    "            account = int(input(\"Please enter the account numner\"))\n",
    "            if account ==self.account_number:\n",
    "                print(\"Name : \", self.name)\n",
    "                print(\"Your account Number is : \", self.account_number)\n",
    "                print(\"Balance is : \",self.balance)\n",
    "                break\n",
    "            else:\n",
    "                print(\"Please enter valid Account numer\")\n",
    "                continue\n",
    "\n",
    "                \n",
    "    def deposit(self):\n",
    "        print(\"Your current Balance is\",self.balance)\n",
    "        add_cash = int(input(\"Enter Amount :\"))\n",
    "        self.balance += add_cash\n",
    "        print(\"Your amount is Credit with \",add_cash,\"Now your balance is :\", self.balance)\n",
    "        \n",
    "    def withdraw(self):\n",
    "        print(\"Your current balance is \", self.balance)\n",
    "        withd = int(input(\"Enter the amount you wish to withdraw \"))\n",
    "        if withd <= self.balance:\n",
    "            self.balance -= withd\n",
    "            print(\"Your withdraw amount is \",withd,\"Now your current balance is :\",self.balance)\n",
    "            \n",
    "        else:\n",
    "            print(\"Alart!, You do not have enough Balance\")\n",
    "            "
   ]
  },
  {
   "cell_type": "code",
   "execution_count": 80,
   "id": "85adec5b",
   "metadata": {},
   "outputs": [],
   "source": [
    "bank = User_Account(7777, 0)"
   ]
  },
  {
   "cell_type": "code",
   "execution_count": 81,
   "id": "74d62ae7",
   "metadata": {},
   "outputs": [
    {
     "name": "stdout",
     "output_type": "stream",
     "text": [
      "Please enter the account numner1500\n",
      "Please enter valid Account numer\n",
      "Please enter the account numner7777\n",
      "Name :  SURAJ\n",
      "Your account Number is :  7777\n",
      "Balance is :  0\n"
     ]
    }
   ],
   "source": [
    "bank.user_details()"
   ]
  },
  {
   "cell_type": "code",
   "execution_count": 85,
   "id": "a33a91e9",
   "metadata": {},
   "outputs": [
    {
     "name": "stdout",
     "output_type": "stream",
     "text": [
      "Your current Balance is 400\n",
      "Enter Amount :2000\n",
      "Your amount is Credit with  2000 Now your balance is : 2400\n"
     ]
    }
   ],
   "source": [
    "bank.deposit()"
   ]
  },
  {
   "cell_type": "code",
   "execution_count": 84,
   "id": "36dcb629",
   "metadata": {},
   "outputs": [
    {
     "name": "stdout",
     "output_type": "stream",
     "text": [
      "Your current balance is  600\n",
      "Enter the amount you wish to withdraw 200\n",
      "Your withdraw amount is  200 Now your current balance is : 400\n"
     ]
    }
   ],
   "source": [
    "bank.withdraw()"
   ]
  },
  {
   "cell_type": "markdown",
   "id": "4e64a70f",
   "metadata": {},
   "source": [
    "# Car"
   ]
  },
  {
   "cell_type": "code",
   "execution_count": 52,
   "id": "01bba6b4",
   "metadata": {},
   "outputs": [],
   "source": [
    "## Encapsulation - Encapsulation is an another powerful way to extend a class which consists\n",
    "## we will study about Encapsulation now\n",
    "\n",
    "class Tyre:\n",
    "    def __init__(self,company, dimention, pressure):\n",
    "        self.dimention = dimention\n",
    "        self.pressure = pressure\n",
    "        self.company = company\n",
    "    def __str__(self):    #When you dont have to define methdod name but you want this to execute\n",
    "        return (\"Tyre \\n \\tCompany: \"+self.company+\n",
    "               \"\\n\\tTyre Dimention will be: \"+str(self.dimention)+\n",
    "               \"\\n\\tAnd the Pressure will be: \"+str(self.pressure))\n",
    "    \n",
    "class Engine:\n",
    "    def __init__(self, fuel_type,noise_level):\n",
    "        self.fuel_type = fuel_type\n",
    "        self.noise_level = noise_level\n",
    "    def __str__(self):\n",
    "        return (\"Engine \\n \\tFuel Type is: \"+self.fuel_type+\n",
    "               \"\\n\\tNoise Level is: \"+str(self.noise_level))\n",
    "    \n",
    "    \n",
    "class Size:\n",
    "    def __init__(self, size):\n",
    "        self.size = size\n",
    "    def __str__(self):\n",
    "        return (\"Size\\n \\tSize will be: \" +self.size)\n",
    "    \n",
    "class Car:\n",
    "    def __init__(self,Tyre, Engine, Size):\n",
    "        self.Tyre = Tyre\n",
    "        self.Engine = Engine\n",
    "        self.Size = Size\n",
    "    def __str__(self):\n",
    "        return  str(self.Tyre) +\"\\n \"+ str(self.Engine) +\"\\n \"+str(self.Size)\n",
    "\n"
   ]
  },
  {
   "cell_type": "code",
   "execution_count": 54,
   "id": "a143e3ec",
   "metadata": {},
   "outputs": [
    {
     "name": "stdout",
     "output_type": "stream",
     "text": [
      "Tyre \n",
      " \tCompany: MRF\n",
      "\tTyre Dimention will be: 25\n",
      "\tAnd the Pressure will be: 5\n",
      " Engine \n",
      " \tFuel Type is: CNG\n",
      "\tNoise Level is: 56\n",
      " Size\n",
      " \tSize will be: Sedan\n"
     ]
    }
   ],
   "source": [
    "# Create object and run\n",
    "\n",
    "a=Tyre(\"MRF\", 25, 5)\n",
    "b=Engine(\"CNG\", 56) \n",
    "c=Size(\"Sedan\")\n",
    "d =Car(a,b,c)\n",
    "\n",
    "print(d)"
   ]
  },
  {
   "cell_type": "code",
   "execution_count": null,
   "id": "ff040b16",
   "metadata": {},
   "outputs": [],
   "source": []
  }
 ],
 "metadata": {
  "kernelspec": {
   "display_name": "Python 3 (ipykernel)",
   "language": "python",
   "name": "python3"
  },
  "language_info": {
   "codemirror_mode": {
    "name": "ipython",
    "version": 3
   },
   "file_extension": ".py",
   "mimetype": "text/x-python",
   "name": "python",
   "nbconvert_exporter": "python",
   "pygments_lexer": "ipython3",
   "version": "3.11.5"
  }
 },
 "nbformat": 4,
 "nbformat_minor": 5
}
