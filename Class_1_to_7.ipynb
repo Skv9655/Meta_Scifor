{
 "cells": [
  {
   "cell_type": "markdown",
   "id": "e44644dc",
   "metadata": {},
   "source": [
    "# Python"
   ]
  },
  {
   "cell_type": "markdown",
   "id": "e1ff8daf",
   "metadata": {},
   "source": [
    "Python is a high-level, interpreted programming language known for its readability, simplicity, and versatility. It was created by Guido van Rossum and first released in 1991. Python emphasizes code readability and allows programmers to express concepts in fewer lines of code compared to languages such as C++ or Java."
   ]
  },
  {
   "cell_type": "code",
   "execution_count": 1,
   "id": "14f6117e",
   "metadata": {},
   "outputs": [],
   "source": [
    "#Basics Python \n",
    "#Lets Start With Simple Expression"
   ]
  },
  {
   "cell_type": "code",
   "execution_count": 2,
   "id": "532caa0d",
   "metadata": {},
   "outputs": [],
   "source": [
    "import keyword"
   ]
  },
  {
   "cell_type": "code",
   "execution_count": 4,
   "id": "220e0302",
   "metadata": {},
   "outputs": [
    {
     "data": {
      "text/plain": [
       "['False',\n",
       " 'None',\n",
       " 'True',\n",
       " 'and',\n",
       " 'as',\n",
       " 'assert',\n",
       " 'async',\n",
       " 'await',\n",
       " 'break',\n",
       " 'class',\n",
       " 'continue',\n",
       " 'def',\n",
       " 'del',\n",
       " 'elif',\n",
       " 'else',\n",
       " 'except',\n",
       " 'finally',\n",
       " 'for',\n",
       " 'from',\n",
       " 'global',\n",
       " 'if',\n",
       " 'import',\n",
       " 'in',\n",
       " 'is',\n",
       " 'lambda',\n",
       " 'nonlocal',\n",
       " 'not',\n",
       " 'or',\n",
       " 'pass',\n",
       " 'raise',\n",
       " 'return',\n",
       " 'try',\n",
       " 'while',\n",
       " 'with',\n",
       " 'yield']"
      ]
     },
     "execution_count": 4,
     "metadata": {},
     "output_type": "execute_result"
    }
   ],
   "source": [
    "keyword.kwlist"
   ]
  },
  {
   "cell_type": "code",
   "execution_count": 5,
   "id": "40730fbc",
   "metadata": {},
   "outputs": [],
   "source": [
    "#Lets start with  Boolean expression\n",
    "#what is boolean expression-Boolean express created with keywords like- and,or,not,True,False\n",
    "#lets se with examples."
   ]
  },
  {
   "cell_type": "code",
   "execution_count": 6,
   "id": "1e5a8fff",
   "metadata": {},
   "outputs": [
    {
     "data": {
      "text/plain": [
       "False"
      ]
     },
     "execution_count": 6,
     "metadata": {},
     "output_type": "execute_result"
    }
   ],
   "source": [
    "True and False"
   ]
  },
  {
   "cell_type": "code",
   "execution_count": 7,
   "id": "0b2a6088",
   "metadata": {},
   "outputs": [
    {
     "data": {
      "text/plain": [
       "True"
      ]
     },
     "execution_count": 7,
     "metadata": {},
     "output_type": "execute_result"
    }
   ],
   "source": [
    "True and True"
   ]
  },
  {
   "cell_type": "code",
   "execution_count": 8,
   "id": "78505c5f",
   "metadata": {},
   "outputs": [
    {
     "data": {
      "text/plain": [
       "True"
      ]
     },
     "execution_count": 8,
     "metadata": {},
     "output_type": "execute_result"
    }
   ],
   "source": [
    "True or False"
   ]
  },
  {
   "cell_type": "code",
   "execution_count": 9,
   "id": "835d96a4",
   "metadata": {},
   "outputs": [],
   "source": [
    "#lets see the diffrence between and/or\n",
    "#and-और\n",
    "#or-या\n",
    "#i think you should understand.\n",
    "#lets see with other example"
   ]
  },
  {
   "cell_type": "code",
   "execution_count": 10,
   "id": "cf23e5ff",
   "metadata": {},
   "outputs": [
    {
     "data": {
      "text/plain": [
       "False"
      ]
     },
     "execution_count": 10,
     "metadata": {},
     "output_type": "execute_result"
    }
   ],
   "source": [
    "not True"
   ]
  },
  {
   "cell_type": "code",
   "execution_count": 11,
   "id": "ee475331",
   "metadata": {},
   "outputs": [
    {
     "data": {
      "text/plain": [
       "True"
      ]
     },
     "execution_count": 11,
     "metadata": {},
     "output_type": "execute_result"
    }
   ],
   "source": [
    "not False"
   ]
  },
  {
   "cell_type": "code",
   "execution_count": 12,
   "id": "207b4a87",
   "metadata": {},
   "outputs": [
    {
     "data": {
      "text/plain": [
       "True"
      ]
     },
     "execution_count": 12,
     "metadata": {},
     "output_type": "execute_result"
    }
   ],
   "source": [
    "True is True"
   ]
  },
  {
   "cell_type": "code",
   "execution_count": 13,
   "id": "bae3013c",
   "metadata": {},
   "outputs": [
    {
     "data": {
      "text/plain": [
       "False"
      ]
     },
     "execution_count": 13,
     "metadata": {},
     "output_type": "execute_result"
    }
   ],
   "source": [
    "False is True"
   ]
  },
  {
   "cell_type": "code",
   "execution_count": 14,
   "id": "4c652218",
   "metadata": {},
   "outputs": [
    {
     "name": "stderr",
     "output_type": "stream",
     "text": [
      "<>:1: SyntaxWarning: \"is\" with a literal. Did you mean \"==\"?\n",
      "<>:1: SyntaxWarning: \"is\" with a literal. Did you mean \"==\"?\n",
      "C:\\Users\\skv96\\AppData\\Local\\Temp\\ipykernel_18400\\4173413985.py:1: SyntaxWarning: \"is\" with a literal. Did you mean \"==\"?\n",
      "  'a' is 'b'\n"
     ]
    },
    {
     "data": {
      "text/plain": [
       "False"
      ]
     },
     "execution_count": 14,
     "metadata": {},
     "output_type": "execute_result"
    }
   ],
   "source": [
    "'a' is 'b'"
   ]
  },
  {
   "cell_type": "code",
   "execution_count": 16,
   "id": "594a8b95",
   "metadata": {},
   "outputs": [],
   "source": [
    "#lets know one more thing\n",
    "#True=1\n",
    "#False=0"
   ]
  },
  {
   "cell_type": "code",
   "execution_count": 17,
   "id": "77015f4b",
   "metadata": {},
   "outputs": [
    {
     "data": {
      "text/plain": [
       "2"
      ]
     },
     "execution_count": 17,
     "metadata": {},
     "output_type": "execute_result"
    }
   ],
   "source": [
    "True + True"
   ]
  },
  {
   "cell_type": "code",
   "execution_count": 18,
   "id": "c1abd83c",
   "metadata": {},
   "outputs": [
    {
     "data": {
      "text/plain": [
       "1"
      ]
     },
     "execution_count": 18,
     "metadata": {},
     "output_type": "execute_result"
    }
   ],
   "source": [
    "True + False"
   ]
  },
  {
   "cell_type": "code",
   "execution_count": 19,
   "id": "d302c82b",
   "metadata": {},
   "outputs": [
    {
     "data": {
      "text/plain": [
       "0"
      ]
     },
     "execution_count": 19,
     "metadata": {},
     "output_type": "execute_result"
    }
   ],
   "source": [
    "False + False"
   ]
  },
  {
   "cell_type": "code",
   "execution_count": 20,
   "id": "4d1ccb2e",
   "metadata": {},
   "outputs": [
    {
     "data": {
      "text/plain": [
       "-1"
      ]
     },
     "execution_count": 20,
     "metadata": {},
     "output_type": "execute_result"
    }
   ],
   "source": [
    "False-True"
   ]
  },
  {
   "cell_type": "code",
   "execution_count": 22,
   "id": "2dd21c1a",
   "metadata": {},
   "outputs": [],
   "source": [
    "#lets know one more thing\n",
    "# (is)  and  (==) is same        == Means eqaul to"
   ]
  },
  {
   "cell_type": "code",
   "execution_count": 24,
   "id": "25263883",
   "metadata": {},
   "outputs": [
    {
     "data": {
      "text/plain": [
       "True"
      ]
     },
     "execution_count": 24,
     "metadata": {},
     "output_type": "execute_result"
    }
   ],
   "source": [
    "10<=10"
   ]
  },
  {
   "cell_type": "code",
   "execution_count": 25,
   "id": "fb1e7ab2",
   "metadata": {},
   "outputs": [
    {
     "data": {
      "text/plain": [
       "True"
      ]
     },
     "execution_count": 25,
     "metadata": {},
     "output_type": "execute_result"
    }
   ],
   "source": [
    "10==10"
   ]
  },
  {
   "cell_type": "code",
   "execution_count": 26,
   "id": "29843ecc",
   "metadata": {},
   "outputs": [
    {
     "data": {
      "text/plain": [
       "True"
      ]
     },
     "execution_count": 26,
     "metadata": {},
     "output_type": "execute_result"
    }
   ],
   "source": [
    "True and False or True"
   ]
  },
  {
   "cell_type": "code",
   "execution_count": 28,
   "id": "2e5724cc",
   "metadata": {},
   "outputs": [],
   "source": [
    "#This all are the simple expression in boolean"
   ]
  },
  {
   "cell_type": "code",
   "execution_count": 29,
   "id": "540d7de3",
   "metadata": {},
   "outputs": [],
   "source": [
    "#lets know about Data Types\n",
    "#Data Types\n",
    "# 1- Numbers/Integer\n",
    "# 2-String\n",
    "# 3-List\n",
    "# 4-Tuple\n",
    "# 5-Set\n",
    "# 6-Dictionary\n",
    "\n",
    "\n",
    "\n",
    "\n",
    "\n",
    "#Lets Start with Numbers"
   ]
  },
  {
   "cell_type": "code",
   "execution_count": 30,
   "id": "c7195a00",
   "metadata": {},
   "outputs": [],
   "source": [
    "x=20"
   ]
  },
  {
   "cell_type": "code",
   "execution_count": 31,
   "id": "c577edb7",
   "metadata": {},
   "outputs": [],
   "source": [
    "# x is variable\n",
    "# 20 is Data\n",
    "# How to check datatype.\n",
    "#lets see."
   ]
  },
  {
   "cell_type": "code",
   "execution_count": 32,
   "id": "1d414fd0",
   "metadata": {},
   "outputs": [
    {
     "data": {
      "text/plain": [
       "int"
      ]
     },
     "execution_count": 32,
     "metadata": {},
     "output_type": "execute_result"
    }
   ],
   "source": [
    "type(x)"
   ]
  },
  {
   "cell_type": "code",
   "execution_count": 33,
   "id": "a8ad8e84",
   "metadata": {},
   "outputs": [],
   "source": [
    "#Now See Float numbers\n",
    "#Float number is which number they have decimels \n",
    "#like , see example"
   ]
  },
  {
   "cell_type": "code",
   "execution_count": 35,
   "id": "0475d472",
   "metadata": {},
   "outputs": [],
   "source": [
    "x=20.2"
   ]
  },
  {
   "cell_type": "code",
   "execution_count": 36,
   "id": "c56b5531",
   "metadata": {},
   "outputs": [
    {
     "data": {
      "text/plain": [
       "20.2"
      ]
     },
     "execution_count": 36,
     "metadata": {},
     "output_type": "execute_result"
    }
   ],
   "source": [
    "x"
   ]
  },
  {
   "cell_type": "code",
   "execution_count": 38,
   "id": "f18dfbbc",
   "metadata": {},
   "outputs": [
    {
     "data": {
      "text/plain": [
       "float"
      ]
     },
     "execution_count": 38,
     "metadata": {},
     "output_type": "execute_result"
    }
   ],
   "source": [
    "type(x)"
   ]
  },
  {
   "cell_type": "code",
   "execution_count": 39,
   "id": "cf9b2ce2",
   "metadata": {},
   "outputs": [],
   "source": [
    "#lets do small mathematical operation."
   ]
  },
  {
   "cell_type": "code",
   "execution_count": 40,
   "id": "53d14567",
   "metadata": {},
   "outputs": [],
   "source": [
    "x=2+2"
   ]
  },
  {
   "cell_type": "code",
   "execution_count": 41,
   "id": "71539d55",
   "metadata": {},
   "outputs": [
    {
     "data": {
      "text/plain": [
       "4"
      ]
     },
     "execution_count": 41,
     "metadata": {},
     "output_type": "execute_result"
    }
   ],
   "source": [
    "x"
   ]
  },
  {
   "cell_type": "code",
   "execution_count": 42,
   "id": "85eb8c1f",
   "metadata": {},
   "outputs": [],
   "source": [
    "a=44\n",
    "b=22"
   ]
  },
  {
   "cell_type": "code",
   "execution_count": 43,
   "id": "61a8267a",
   "metadata": {},
   "outputs": [],
   "source": [
    "c = a+b"
   ]
  },
  {
   "cell_type": "code",
   "execution_count": 44,
   "id": "67133fc0",
   "metadata": {},
   "outputs": [
    {
     "data": {
      "text/plain": [
       "66"
      ]
     },
     "execution_count": 44,
     "metadata": {},
     "output_type": "execute_result"
    }
   ],
   "source": [
    "c"
   ]
  },
  {
   "cell_type": "markdown",
   "id": "37d334ae",
   "metadata": {},
   "source": [
    "# Class_2"
   ]
  },
  {
   "cell_type": "code",
   "execution_count": 45,
   "id": "4bf45e3a",
   "metadata": {},
   "outputs": [],
   "source": [
    "#lets start with complex number\n",
    "#Complex Number ? A complex number which can we studied in ou school. its abot real number and imaginary number , \n",
    "#which can be denote as i, \n",
    "#example of complex number - 2+5i, But in pyhton i is denoted with j\n",
    "#see example in jupyer cell."
   ]
  },
  {
   "cell_type": "code",
   "execution_count": 46,
   "id": "83cde845",
   "metadata": {},
   "outputs": [],
   "source": [
    "c=2+5j"
   ]
  },
  {
   "cell_type": "code",
   "execution_count": 47,
   "id": "f8165dc4",
   "metadata": {},
   "outputs": [
    {
     "data": {
      "text/plain": [
       "complex"
      ]
     },
     "execution_count": 47,
     "metadata": {},
     "output_type": "execute_result"
    }
   ],
   "source": [
    "type(c)"
   ]
  },
  {
   "cell_type": "code",
   "execution_count": 48,
   "id": "6e848e8d",
   "metadata": {},
   "outputs": [
    {
     "data": {
      "text/plain": [
       "str"
      ]
     },
     "execution_count": 48,
     "metadata": {},
     "output_type": "execute_result"
    }
   ],
   "source": [
    "a = \"ram is hero\"\n",
    "type(a)"
   ]
  },
  {
   "cell_type": "code",
   "execution_count": 49,
   "id": "96453817",
   "metadata": {},
   "outputs": [],
   "source": [
    "str1='python'\n",
    "str2=' is a powerful'\n",
    "str3=' language'"
   ]
  },
  {
   "cell_type": "code",
   "execution_count": 50,
   "id": "db6132d5",
   "metadata": {},
   "outputs": [
    {
     "name": "stdout",
     "output_type": "stream",
     "text": [
      "python is a powerful language\n"
     ]
    }
   ],
   "source": [
    "#how we add str1,str2 and str2\n",
    "\n",
    "print(str1+str2+str3)"
   ]
  },
  {
   "cell_type": "code",
   "execution_count": 51,
   "id": "b5db12af",
   "metadata": {},
   "outputs": [
    {
     "name": "stdout",
     "output_type": "stream",
     "text": [
      "saurav is ex  mining engineer\n"
     ]
    }
   ],
   "source": [
    "print(\"saurav\"+\" is ex\",\" mining engineer\")"
   ]
  },
  {
   "cell_type": "code",
   "execution_count": 52,
   "id": "b6aa6ffc",
   "metadata": {},
   "outputs": [
    {
     "name": "stdout",
     "output_type": "stream",
     "text": [
      "  Day  Day  Day  Day  Day\n"
     ]
    }
   ],
   "source": [
    "print('  Day' *  5)  #(* use for multiplication)"
   ]
  },
  {
   "cell_type": "code",
   "execution_count": 54,
   "id": "535da548",
   "metadata": {},
   "outputs": [
    {
     "name": "stdout",
     "output_type": "stream",
     "text": [
      " = = = = = = = = = = = = = = = = = = = = = = = = = = = = = = = = = = = = = = = = = = = = = = = = = = = = = = = = = = = = = = = = = = = = = = = = = = = = = = = = = = = = = = = = = = = = = = = = = = = =\n"
     ]
    }
   ],
   "source": [
    "print(' =' * 100)"
   ]
  },
  {
   "cell_type": "code",
   "execution_count": 55,
   "id": "555e45a1",
   "metadata": {},
   "outputs": [],
   "source": [
    "#lets add string + integer"
   ]
  },
  {
   "cell_type": "code",
   "execution_count": 56,
   "id": "defe0925",
   "metadata": {},
   "outputs": [
    {
     "ename": "TypeError",
     "evalue": "can only concatenate str (not \"int\") to str",
     "output_type": "error",
     "traceback": [
      "\u001b[1;31m---------------------------------------------------------------------------\u001b[0m",
      "\u001b[1;31mTypeError\u001b[0m                                 Traceback (most recent call last)",
      "Cell \u001b[1;32mIn[56], line 1\u001b[0m\n\u001b[1;32m----> 1\u001b[0m \u001b[38;5;28mprint\u001b[39m(\u001b[38;5;124m'\u001b[39m\u001b[38;5;124mDay\u001b[39m\u001b[38;5;124m'\u001b[39m \u001b[38;5;241m+\u001b[39m \u001b[38;5;241m5\u001b[39m)\n",
      "\u001b[1;31mTypeError\u001b[0m: can only concatenate str (not \"int\") to str"
     ]
    }
   ],
   "source": [
    "print('Day' + 5)"
   ]
  },
  {
   "cell_type": "code",
   "execution_count": 57,
   "id": "9c301a97",
   "metadata": {},
   "outputs": [],
   "source": [
    "#How we can concatenate string + integer ?\n",
    "#we gave to convert integer into sring."
   ]
  },
  {
   "cell_type": "code",
   "execution_count": 58,
   "id": "938011a7",
   "metadata": {},
   "outputs": [
    {
     "name": "stdout",
     "output_type": "stream",
     "text": [
      "Day5\n"
     ]
    }
   ],
   "source": [
    "print('Day' + str(5))"
   ]
  },
  {
   "cell_type": "code",
   "execution_count": 59,
   "id": "dc1525df",
   "metadata": {},
   "outputs": [],
   "source": [
    "#Now We Studied about Data Structure.\n",
    "#what is data structure ? Data structure which can hold,store and save out data\n",
    "#there are different different typre data structure\n",
    "#1- List\n",
    "#2- Tuple\n",
    "#3- Set\n",
    "#4- Dictionary"
   ]
  },
  {
   "cell_type": "code",
   "execution_count": 60,
   "id": "f24c0a29",
   "metadata": {},
   "outputs": [],
   "source": [
    "#Create empty  list\n",
    "\n",
    "lst=[]"
   ]
  },
  {
   "cell_type": "code",
   "execution_count": 61,
   "id": "22b511eb",
   "metadata": {},
   "outputs": [
    {
     "data": {
      "text/plain": [
       "[]"
      ]
     },
     "execution_count": 61,
     "metadata": {},
     "output_type": "execute_result"
    }
   ],
   "source": [
    "lst"
   ]
  },
  {
   "cell_type": "code",
   "execution_count": 63,
   "id": "22a498d0",
   "metadata": {},
   "outputs": [
    {
     "data": {
      "text/plain": [
       "list"
      ]
     },
     "execution_count": 63,
     "metadata": {},
     "output_type": "execute_result"
    }
   ],
   "source": [
    "type(lst)"
   ]
  },
  {
   "cell_type": "code",
   "execution_count": 65,
   "id": "62ae1e3d",
   "metadata": {},
   "outputs": [],
   "source": [
    "#create proper list"
   ]
  },
  {
   "cell_type": "code",
   "execution_count": 66,
   "id": "fc19a43a",
   "metadata": {},
   "outputs": [],
   "source": [
    "lst=['a','b','c','d']"
   ]
  },
  {
   "cell_type": "code",
   "execution_count": 67,
   "id": "ec23bb54",
   "metadata": {},
   "outputs": [
    {
     "data": {
      "text/plain": [
       "['a', 'b', 'c', 'd']"
      ]
     },
     "execution_count": 67,
     "metadata": {},
     "output_type": "execute_result"
    }
   ],
   "source": [
    "lst"
   ]
  },
  {
   "cell_type": "code",
   "execution_count": 68,
   "id": "dc147be3",
   "metadata": {},
   "outputs": [],
   "source": [
    "#How to copy into their list"
   ]
  },
  {
   "cell_type": "code",
   "execution_count": 69,
   "id": "03423228",
   "metadata": {},
   "outputs": [],
   "source": [
    "l2=list(lst)"
   ]
  },
  {
   "cell_type": "code",
   "execution_count": 70,
   "id": "c21985f1",
   "metadata": {},
   "outputs": [
    {
     "data": {
      "text/plain": [
       "['a', 'b', 'c', 'd']"
      ]
     },
     "execution_count": 70,
     "metadata": {},
     "output_type": "execute_result"
    }
   ],
   "source": [
    "l2"
   ]
  },
  {
   "cell_type": "code",
   "execution_count": 71,
   "id": "5bd6c504",
   "metadata": {},
   "outputs": [],
   "source": [
    "marks=[30,40,50,60]"
   ]
  },
  {
   "cell_type": "code",
   "execution_count": 72,
   "id": "d2b0e6ba",
   "metadata": {},
   "outputs": [],
   "source": [
    "copy_marks=marks.copy()"
   ]
  },
  {
   "cell_type": "code",
   "execution_count": 73,
   "id": "6e7d8d8a",
   "metadata": {},
   "outputs": [
    {
     "data": {
      "text/plain": [
       "[30, 40, 50, 60]"
      ]
     },
     "execution_count": 73,
     "metadata": {},
     "output_type": "execute_result"
    }
   ],
   "source": [
    "copy_marks"
   ]
  },
  {
   "cell_type": "code",
   "execution_count": 75,
   "id": "a707beba",
   "metadata": {},
   "outputs": [],
   "source": [
    "#Another way to make list"
   ]
  },
  {
   "cell_type": "code",
   "execution_count": 76,
   "id": "b92338ca",
   "metadata": {},
   "outputs": [
    {
     "data": {
      "text/plain": [
       "['s', 'a', 'u', 'r', 'a', 'v']"
      ]
     },
     "execution_count": 76,
     "metadata": {},
     "output_type": "execute_result"
    }
   ],
   "source": [
    "list('saurav') #this method can separate all the elemnts."
   ]
  },
  {
   "cell_type": "code",
   "execution_count": 78,
   "id": "920f0752",
   "metadata": {},
   "outputs": [
    {
     "ename": "TypeError",
     "evalue": "'int' object is not iterable",
     "output_type": "error",
     "traceback": [
      "\u001b[1;31m---------------------------------------------------------------------------\u001b[0m",
      "\u001b[1;31mTypeError\u001b[0m                                 Traceback (most recent call last)",
      "Cell \u001b[1;32mIn[78], line 3\u001b[0m\n\u001b[0;32m      1\u001b[0m \u001b[38;5;66;03m#Lets Try with integr\u001b[39;00m\n\u001b[1;32m----> 3\u001b[0m \u001b[38;5;28mlist\u001b[39m(\u001b[38;5;241m8885\u001b[39m)\n",
      "\u001b[1;31mTypeError\u001b[0m: 'int' object is not iterable"
     ]
    }
   ],
   "source": [
    "#Lets Try with integr\n",
    "\n",
    "list(8885) #integer object is not iterable"
   ]
  },
  {
   "cell_type": "code",
   "execution_count": 80,
   "id": "0bdaf220",
   "metadata": {},
   "outputs": [],
   "source": [
    "#Lets Try append mends\n",
    "#create an empty list and append data by usind appen method."
   ]
  },
  {
   "cell_type": "code",
   "execution_count": 81,
   "id": "681318d6",
   "metadata": {},
   "outputs": [],
   "source": [
    "l1=[]"
   ]
  },
  {
   "cell_type": "code",
   "execution_count": 82,
   "id": "a2ad5966",
   "metadata": {},
   "outputs": [],
   "source": [
    "l1.append('saurav')"
   ]
  },
  {
   "cell_type": "code",
   "execution_count": 83,
   "id": "28a02fa6",
   "metadata": {},
   "outputs": [],
   "source": [
    "#add one more thing\n",
    "l1.append('vicky')"
   ]
  },
  {
   "cell_type": "code",
   "execution_count": 84,
   "id": "64283bf9",
   "metadata": {},
   "outputs": [
    {
     "data": {
      "text/plain": [
       "['saurav', 'vicky']"
      ]
     },
     "execution_count": 84,
     "metadata": {},
     "output_type": "execute_result"
    }
   ],
   "source": [
    "l1"
   ]
  },
  {
   "cell_type": "code",
   "execution_count": 85,
   "id": "945a82bd",
   "metadata": {},
   "outputs": [],
   "source": [
    "#add two item \n",
    "l1.append('yashu')\n",
    "l1.append('shivangi')"
   ]
  },
  {
   "cell_type": "code",
   "execution_count": 86,
   "id": "56b89397",
   "metadata": {},
   "outputs": [
    {
     "data": {
      "text/plain": [
       "['saurav', 'vicky', 'yashu', 'shivangi']"
      ]
     },
     "execution_count": 86,
     "metadata": {},
     "output_type": "execute_result"
    }
   ],
   "source": [
    "l1"
   ]
  },
  {
   "cell_type": "code",
   "execution_count": 87,
   "id": "8b276a81",
   "metadata": {},
   "outputs": [],
   "source": [
    "#index and insert-Two arguments can be paced in insert method\n",
    "#insert(index,insert) meaning of index is where we have to add objects and  meaning of insert is what object we have to store.\n",
    "#see with  example\n",
    "#lets make new list"
   ]
  },
  {
   "cell_type": "code",
   "execution_count": 89,
   "id": "2a484b53",
   "metadata": {},
   "outputs": [
    {
     "data": {
      "text/plain": [
       "['saurav', 'vicky', 'minakshi', 'Donald Trump', 'Imran khan']"
      ]
     },
     "execution_count": 89,
     "metadata": {},
     "output_type": "execute_result"
    }
   ],
   "source": [
    "l1=['saurav','vicky','minakshi','Donald Trump','Imran khan']\n",
    "l1"
   ]
  },
  {
   "cell_type": "code",
   "execution_count": 91,
   "id": "4bc25965",
   "metadata": {},
   "outputs": [],
   "source": [
    "#now we inserting a data in the place of imran khan\n",
    "#lets see how we can add\n",
    "\n",
    "l1.insert(4,'putin')"
   ]
  },
  {
   "cell_type": "code",
   "execution_count": 92,
   "id": "b9d35fb3",
   "metadata": {},
   "outputs": [
    {
     "data": {
      "text/plain": [
       "['saurav', 'vicky', 'minakshi', 'Donald Trump', 'putin', 'Imran khan']"
      ]
     },
     "execution_count": 92,
     "metadata": {},
     "output_type": "execute_result"
    }
   ],
   "source": [
    "l1"
   ]
  },
  {
   "cell_type": "code",
   "execution_count": 93,
   "id": "24c51f9e",
   "metadata": {},
   "outputs": [],
   "source": [
    "#one more example with numbers\n",
    "\n",
    "l1=[11,22,33,44,55,66]"
   ]
  },
  {
   "cell_type": "code",
   "execution_count": 95,
   "id": "1164e466",
   "metadata": {},
   "outputs": [
    {
     "data": {
      "text/plain": [
       "[11, 22, 88, 88, 33, 44, 55, 66]"
      ]
     },
     "execution_count": 95,
     "metadata": {},
     "output_type": "execute_result"
    }
   ],
   "source": [
    "l1.insert(2,88)\n",
    "l1"
   ]
  },
  {
   "cell_type": "code",
   "execution_count": 96,
   "id": "c8760b97",
   "metadata": {},
   "outputs": [],
   "source": [
    "#list Extended Method\n",
    "#How to check total element in the list.\n",
    "#lets create a list"
   ]
  },
  {
   "cell_type": "code",
   "execution_count": 98,
   "id": "a4ff344f",
   "metadata": {},
   "outputs": [],
   "source": [
    "l1=[44,55,66,99,77,88]"
   ]
  },
  {
   "cell_type": "code",
   "execution_count": 99,
   "id": "3ed05eb8",
   "metadata": {},
   "outputs": [
    {
     "data": {
      "text/plain": [
       "6"
      ]
     },
     "execution_count": 99,
     "metadata": {},
     "output_type": "execute_result"
    }
   ],
   "source": [
    "len(l1) "
   ]
  },
  {
   "cell_type": "code",
   "execution_count": 100,
   "id": "471ca51d",
   "metadata": {},
   "outputs": [],
   "source": [
    "# if you want to decorate your code\n",
    "#then you will do someting to decorate\n",
    "#lets see\n",
    "#making a list and decorate"
   ]
  },
  {
   "cell_type": "raw",
   "id": "b104fca1",
   "metadata": {},
   "source": [
    "print('=' * 100)\n",
    "\n",
    "print(l1)\n",
    "\n",
    "print('=' * 100)   #like that"
   ]
  },
  {
   "cell_type": "code",
   "execution_count": 103,
   "id": "977750f8",
   "metadata": {},
   "outputs": [
    {
     "data": {
      "text/plain": [
       "3"
      ]
     },
     "execution_count": 103,
     "metadata": {},
     "output_type": "execute_result"
    }
   ],
   "source": [
    "marks=[51,56,89,78,89,45,56,12,12,32,45,32,65,45,89,78,45,56,23,12,4,5,23,23,56,]\n",
    "marks.count(23)"
   ]
  },
  {
   "cell_type": "code",
   "execution_count": 104,
   "id": "0d8b0ee3",
   "metadata": {},
   "outputs": [
    {
     "data": {
      "text/plain": [
       "3"
      ]
     },
     "execution_count": 104,
     "metadata": {},
     "output_type": "execute_result"
    }
   ],
   "source": [
    "marks.count(89)"
   ]
  },
  {
   "cell_type": "code",
   "execution_count": 105,
   "id": "5e24eae7",
   "metadata": {},
   "outputs": [],
   "source": [
    "#this will show only first element index if there are duplication.\n"
   ]
  },
  {
   "cell_type": "code",
   "execution_count": 106,
   "id": "81322899",
   "metadata": {},
   "outputs": [],
   "source": [
    "#Extend Method.\n",
    "#manu time people confused with extend and append method. lets i can show you both method extend and append . and \n",
    "#what is the the diffrences\n",
    "#start with append method."
   ]
  },
  {
   "cell_type": "code",
   "execution_count": 107,
   "id": "9fbbb4f1",
   "metadata": {},
   "outputs": [],
   "source": [
    "lst=['munmun','lovely']\n"
   ]
  },
  {
   "cell_type": "code",
   "execution_count": 108,
   "id": "42024916",
   "metadata": {},
   "outputs": [],
   "source": [
    "lst.append(['amisha','khushi'])\n"
   ]
  },
  {
   "cell_type": "code",
   "execution_count": 109,
   "id": "0462aeb5",
   "metadata": {},
   "outputs": [
    {
     "data": {
      "text/plain": [
       "['munmun', 'lovely', ['amisha', 'khushi']]"
      ]
     },
     "execution_count": 109,
     "metadata": {},
     "output_type": "execute_result"
    }
   ],
   "source": [
    "lst"
   ]
  },
  {
   "cell_type": "code",
   "execution_count": 112,
   "id": "615b3f02",
   "metadata": {},
   "outputs": [
    {
     "data": {
      "text/plain": [
       "['munmun', 'lovely']"
      ]
     },
     "execution_count": 112,
     "metadata": {},
     "output_type": "execute_result"
    }
   ],
   "source": [
    "lst1=['munmun','lovely']\n",
    "lst1"
   ]
  },
  {
   "cell_type": "code",
   "execution_count": 113,
   "id": "272a6f3a",
   "metadata": {},
   "outputs": [],
   "source": [
    "lst1.extend(['amisha','khusi'])"
   ]
  },
  {
   "cell_type": "code",
   "execution_count": 114,
   "id": "a9feb4f8",
   "metadata": {},
   "outputs": [
    {
     "data": {
      "text/plain": [
       "['munmun', 'lovely', 'amisha', 'khusi']"
      ]
     },
     "execution_count": 114,
     "metadata": {},
     "output_type": "execute_result"
    }
   ],
   "source": [
    "lst1"
   ]
  },
  {
   "cell_type": "code",
   "execution_count": 116,
   "id": "ce45a81b",
   "metadata": {},
   "outputs": [],
   "source": [
    "#thats look cool \n",
    "#this is the diffrences.\n",
    "#similarly you can add integer data as well concepts is same for any type data.\n",
    "\n",
    "#Pop method\n",
    "#what is pop method ? pop mehod help for delete last index elemnt from any list.\n",
    "#lets see with example."
   ]
  },
  {
   "cell_type": "code",
   "execution_count": 118,
   "id": "8a12047a",
   "metadata": {},
   "outputs": [
    {
     "data": {
      "text/plain": [
       "['Raj', 'Saurav', 'Garima', 'Riya', 'Gaurav', 'Ratnesh', 'Shailesh']"
      ]
     },
     "execution_count": 118,
     "metadata": {},
     "output_type": "execute_result"
    }
   ],
   "source": [
    "lst1=['Raj','Saurav','Garima','Riya','Gaurav','Ratnesh','Shailesh']\n",
    "lst1"
   ]
  },
  {
   "cell_type": "code",
   "execution_count": 119,
   "id": "37b51b12",
   "metadata": {},
   "outputs": [],
   "source": [
    "#what we do if we have to delete \"Shailesh\" from our list."
   ]
  },
  {
   "cell_type": "code",
   "execution_count": 121,
   "id": "d73c61df",
   "metadata": {},
   "outputs": [
    {
     "data": {
      "text/plain": [
       "'Ratnesh'"
      ]
     },
     "execution_count": 121,
     "metadata": {},
     "output_type": "execute_result"
    }
   ],
   "source": [
    "pop_shailesh=lst1.pop()\n",
    "pop_shailesh"
   ]
  },
  {
   "cell_type": "code",
   "execution_count": 122,
   "id": "bf9f926e",
   "metadata": {},
   "outputs": [
    {
     "data": {
      "text/plain": [
       "['Raj', 'Saurav', 'Garima', 'Riya', 'Gaurav']"
      ]
     },
     "execution_count": 122,
     "metadata": {},
     "output_type": "execute_result"
    }
   ],
   "source": [
    "lst1"
   ]
  },
  {
   "cell_type": "code",
   "execution_count": 123,
   "id": "4116b7b0",
   "metadata": {},
   "outputs": [],
   "source": [
    "#Delete based on index positon\n",
    "#lets check"
   ]
  },
  {
   "cell_type": "code",
   "execution_count": 124,
   "id": "c620701f",
   "metadata": {},
   "outputs": [
    {
     "data": {
      "text/plain": [
       "['Raj', 'Saurav', 'Garima', 'Riya', 'Gaurav']"
      ]
     },
     "execution_count": 124,
     "metadata": {},
     "output_type": "execute_result"
    }
   ],
   "source": [
    "lst1"
   ]
  },
  {
   "cell_type": "code",
   "execution_count": 125,
   "id": "5c70b57f",
   "metadata": {},
   "outputs": [],
   "source": [
    "#we have to delete \"Garima\" From our list"
   ]
  },
  {
   "cell_type": "code",
   "execution_count": 126,
   "id": "6063f1ff",
   "metadata": {},
   "outputs": [
    {
     "data": {
      "text/plain": [
       "'Garima'"
      ]
     },
     "execution_count": 126,
     "metadata": {},
     "output_type": "execute_result"
    }
   ],
   "source": [
    "pop_garima=lst1.pop(2)\n",
    "pop_garima"
   ]
  },
  {
   "cell_type": "code",
   "execution_count": 127,
   "id": "61fd83a6",
   "metadata": {},
   "outputs": [],
   "source": [
    "#Remove method\n",
    "#what is remove method ?  remove method helps for delete element from our list.\n",
    "#lets see with example"
   ]
  },
  {
   "cell_type": "code",
   "execution_count": 128,
   "id": "7a65701e",
   "metadata": {},
   "outputs": [
    {
     "data": {
      "text/plain": [
       "[12, 33, 66, 55, 44, 77, 88, 99, 11, 22, 33, 44, 55, 66, 77, 88]"
      ]
     },
     "execution_count": 128,
     "metadata": {},
     "output_type": "execute_result"
    }
   ],
   "source": [
    "lst1=[12,33,66,55,44,77,88,99,11,22,33,44,55,66,77,88]\n",
    "lst1"
   ]
  },
  {
   "cell_type": "code",
   "execution_count": 129,
   "id": "be26df90",
   "metadata": {},
   "outputs": [],
   "source": [
    "lst1.remove(55)"
   ]
  },
  {
   "cell_type": "code",
   "execution_count": 130,
   "id": "41257843",
   "metadata": {},
   "outputs": [
    {
     "data": {
      "text/plain": [
       "[12, 33, 66, 44, 77, 88, 99, 11, 22, 33, 44, 55, 66, 77, 88]"
      ]
     },
     "execution_count": 130,
     "metadata": {},
     "output_type": "execute_result"
    }
   ],
   "source": [
    "lst1"
   ]
  },
  {
   "cell_type": "code",
   "execution_count": 132,
   "id": "745bfcca",
   "metadata": {},
   "outputs": [],
   "source": [
    "#lets remember one thing remove method only work with integer.\n",
    "#and they can delete first element if there is any duplication"
   ]
  },
  {
   "cell_type": "code",
   "execution_count": 133,
   "id": "3b4e9330",
   "metadata": {},
   "outputs": [],
   "source": [
    "#Reverse Mehtod.\n",
    "#what is reverse method ? reverse method helps in to reverse show the all element in list.\n",
    "#lets see.."
   ]
  },
  {
   "cell_type": "code",
   "execution_count": 136,
   "id": "8414f081",
   "metadata": {},
   "outputs": [
    {
     "data": {
      "text/plain": [
       "[99, 88, 77, 66, 55, 44, 66, 55, 44, 33, 22, 11]"
      ]
     },
     "execution_count": 136,
     "metadata": {},
     "output_type": "execute_result"
    }
   ],
   "source": [
    "lst1=[11,22,33,44,55,66,44,55,66,77,88,99]\n",
    "lst1.reverse()\n",
    "lst1"
   ]
  },
  {
   "cell_type": "code",
   "execution_count": 137,
   "id": "e9794613",
   "metadata": {},
   "outputs": [],
   "source": [
    "#Sort Method\n",
    "#What is sort method ? sort method helps in  to arrange the elements by ascending and descending order.\n",
    "#lets see"
   ]
  },
  {
   "cell_type": "code",
   "execution_count": 139,
   "id": "0c4bc5da",
   "metadata": {},
   "outputs": [
    {
     "data": {
      "text/plain": [
       "[11, 22, 33, 44, 44, 55, 55, 66, 66, 77, 88, 99]"
      ]
     },
     "execution_count": 139,
     "metadata": {},
     "output_type": "execute_result"
    }
   ],
   "source": [
    "lst1.sort()\n",
    "lst1"
   ]
  },
  {
   "cell_type": "code",
   "execution_count": 141,
   "id": "403468ee",
   "metadata": {},
   "outputs": [],
   "source": [
    "#sort in descending order.\n",
    "\n",
    "lst1.sort(reverse=True)"
   ]
  },
  {
   "cell_type": "code",
   "execution_count": 142,
   "id": "e517adcf",
   "metadata": {},
   "outputs": [
    {
     "data": {
      "text/plain": [
       "[99, 88, 77, 66, 66, 55, 55, 44, 44, 33, 22, 11]"
      ]
     },
     "execution_count": 142,
     "metadata": {},
     "output_type": "execute_result"
    }
   ],
   "source": [
    "lst1 "
   ]
  },
  {
   "cell_type": "markdown",
   "id": "427ea524",
   "metadata": {},
   "source": [
    "# Class_3"
   ]
  },
  {
   "cell_type": "code",
   "execution_count": 143,
   "id": "3f32c784",
   "metadata": {},
   "outputs": [],
   "source": [
    "#Last lecture we learned about Data Structure.Now Continue With Tuples , Set and Dictionary\n",
    "#Lets start with tuple"
   ]
  },
  {
   "cell_type": "code",
   "execution_count": 144,
   "id": "63b14c95",
   "metadata": {},
   "outputs": [],
   "source": [
    "#what is tuples ? Tuple is a data structure of python. tuple are always in () round brackets\n",
    "#tuples are immutable.and its work with all data types.\n",
    "#lets see with example."
   ]
  },
  {
   "cell_type": "code",
   "execution_count": 145,
   "id": "86c21aa3",
   "metadata": {},
   "outputs": [
    {
     "data": {
      "text/plain": [
       "('Bengluru', 'Kolkata', 'Chennai', 'raipur')"
      ]
     },
     "execution_count": 145,
     "metadata": {},
     "output_type": "execute_result"
    }
   ],
   "source": [
    "work_location=('Bengluru','Kolkata','Chennai','raipur')\n",
    "work_location\n"
   ]
  },
  {
   "cell_type": "code",
   "execution_count": 146,
   "id": "8e20122e",
   "metadata": {},
   "outputs": [
    {
     "data": {
      "text/plain": [
       "tuple"
      ]
     },
     "execution_count": 146,
     "metadata": {},
     "output_type": "execute_result"
    }
   ],
   "source": [
    "#check type\n",
    "type(work_location)\n"
   ]
  },
  {
   "cell_type": "code",
   "execution_count": 147,
   "id": "f0a894fb",
   "metadata": {},
   "outputs": [],
   "source": [
    "work_location=list(work_location)"
   ]
  },
  {
   "cell_type": "code",
   "execution_count": 148,
   "id": "e79ba27c",
   "metadata": {},
   "outputs": [
    {
     "data": {
      "text/plain": [
       "['Bengluru', 'Kolkata', 'Chennai', 'raipur']"
      ]
     },
     "execution_count": 148,
     "metadata": {},
     "output_type": "execute_result"
    }
   ],
   "source": [
    "work_location"
   ]
  },
  {
   "cell_type": "code",
   "execution_count": 149,
   "id": "d9d49786",
   "metadata": {},
   "outputs": [],
   "source": [
    "#slicing just like a list"
   ]
  },
  {
   "cell_type": "code",
   "execution_count": 150,
   "id": "95f47e6d",
   "metadata": {},
   "outputs": [
    {
     "data": {
      "text/plain": [
       "'Chennai'"
      ]
     },
     "execution_count": 150,
     "metadata": {},
     "output_type": "execute_result"
    }
   ],
   "source": [
    "work_location[-2]\n"
   ]
  },
  {
   "cell_type": "code",
   "execution_count": 153,
   "id": "d589d409",
   "metadata": {},
   "outputs": [],
   "source": [
    "#Basics Tuple Method.\n",
    "#Tuple have buit in method , but not many as list,\n",
    "#lets see two samples of tuples built in method\n",
    "\n",
    "\n",
    "numbers=(50,60,40,90,80,70,60,50,40,70,10,20,30,7,50,50)"
   ]
  },
  {
   "cell_type": "code",
   "execution_count": 154,
   "id": "ccfdffda",
   "metadata": {},
   "outputs": [],
   "source": [
    "#use .index to enter a value,  and return the index"
   ]
  },
  {
   "cell_type": "code",
   "execution_count": 155,
   "id": "26cb000d",
   "metadata": {},
   "outputs": [
    {
     "data": {
      "text/plain": [
       "12"
      ]
     },
     "execution_count": 155,
     "metadata": {},
     "output_type": "execute_result"
    }
   ],
   "source": [
    "numbers.index(30)"
   ]
  },
  {
   "cell_type": "code",
   "execution_count": 157,
   "id": "264f139c",
   "metadata": {},
   "outputs": [
    {
     "data": {
      "text/plain": [
       "4"
      ]
     },
     "execution_count": 157,
     "metadata": {},
     "output_type": "execute_result"
    }
   ],
   "source": [
    "#Use .count to count the number of times a value appears\n",
    "\n",
    "numbers.count(50)"
   ]
  },
  {
   "cell_type": "code",
   "execution_count": 158,
   "id": "2f4be693",
   "metadata": {},
   "outputs": [],
   "source": [
    "#Lets Study about Set.\n",
    "#So what is set ? set is a data structure in pyhton. sets are an unordered collection of unique element- \n",
    "#-which can be constructed using set() fucntion."
   ]
  },
  {
   "cell_type": "code",
   "execution_count": 159,
   "id": "09bce179",
   "metadata": {},
   "outputs": [],
   "source": [
    "#Sets   =   1 -  Keeps item in sorted order\n",
    "#           2 - eliminate the duplicates element.    \n",
    "#lets see with examples."
   ]
  },
  {
   "cell_type": "code",
   "execution_count": 160,
   "id": "31d0f67a",
   "metadata": {},
   "outputs": [],
   "source": [
    "roll_number=set()\n"
   ]
  },
  {
   "cell_type": "code",
   "execution_count": 161,
   "id": "775ed6ce",
   "metadata": {},
   "outputs": [
    {
     "data": {
      "text/plain": [
       "set"
      ]
     },
     "execution_count": 161,
     "metadata": {},
     "output_type": "execute_result"
    }
   ],
   "source": [
    "type(roll_number)"
   ]
  },
  {
   "cell_type": "code",
   "execution_count": 162,
   "id": "cd83a2f5",
   "metadata": {},
   "outputs": [],
   "source": [
    "#we add to set with the add methods\n",
    "\n",
    "roll_number.add(1)\n"
   ]
  },
  {
   "cell_type": "code",
   "execution_count": 163,
   "id": "3a14ca62",
   "metadata": {},
   "outputs": [
    {
     "data": {
      "text/plain": [
       "{1}"
      ]
     },
     "execution_count": 163,
     "metadata": {},
     "output_type": "execute_result"
    }
   ],
   "source": [
    "roll_number\n"
   ]
  },
  {
   "cell_type": "code",
   "execution_count": 164,
   "id": "4d652fcc",
   "metadata": {},
   "outputs": [],
   "source": [
    "#we know that set has only take unique element . lets se if we add duplicates. whats python shows.\n"
   ]
  },
  {
   "cell_type": "code",
   "execution_count": 165,
   "id": "b04eb571",
   "metadata": {},
   "outputs": [],
   "source": [
    "roll_number.add(2)"
   ]
  },
  {
   "cell_type": "code",
   "execution_count": 166,
   "id": "afae4196",
   "metadata": {},
   "outputs": [
    {
     "data": {
      "text/plain": [
       "{1, 2}"
      ]
     },
     "execution_count": 166,
     "metadata": {},
     "output_type": "execute_result"
    }
   ],
   "source": [
    "roll_number"
   ]
  },
  {
   "cell_type": "code",
   "execution_count": 167,
   "id": "3f3310fe",
   "metadata": {},
   "outputs": [],
   "source": [
    "#Try to add the same element \n"
   ]
  },
  {
   "cell_type": "code",
   "execution_count": 168,
   "id": "fb33ccc3",
   "metadata": {},
   "outputs": [],
   "source": [
    "roll_number.add(1)\n"
   ]
  },
  {
   "cell_type": "code",
   "execution_count": 169,
   "id": "3ef6ae71",
   "metadata": {},
   "outputs": [
    {
     "data": {
      "text/plain": [
       "{1, 2}"
      ]
     },
     "execution_count": 169,
     "metadata": {},
     "output_type": "execute_result"
    }
   ],
   "source": [
    "roll_number\n"
   ]
  },
  {
   "cell_type": "code",
   "execution_count": 170,
   "id": "c4323098",
   "metadata": {},
   "outputs": [],
   "source": [
    "numbers=[1,2,3,4,5,6,7,8,9,1,2,3,4,56,789,12,74,74,85,96,74,85,96,4,1,52,63,52,41,56,56]\n"
   ]
  },
  {
   "cell_type": "code",
   "execution_count": 173,
   "id": "c90c9099",
   "metadata": {},
   "outputs": [
    {
     "data": {
      "text/plain": [
       "{1, 2, 3, 4, 5, 6, 7, 8, 9, 12, 41, 52, 56, 63, 74, 85, 96, 789}"
      ]
     },
     "execution_count": 173,
     "metadata": {},
     "output_type": "execute_result"
    }
   ],
   "source": [
    "#cast to get unique elements from list\n",
    "\n",
    "remove_duplicate=set(numbers)\n",
    "remove_duplicate"
   ]
  },
  {
   "cell_type": "code",
   "execution_count": 174,
   "id": "9760eb3c",
   "metadata": {},
   "outputs": [],
   "source": [
    "#lets see the can show only unique element ."
   ]
  },
  {
   "cell_type": "code",
   "execution_count": 181,
   "id": "ff8fd0d0",
   "metadata": {},
   "outputs": [
    {
     "name": "stdout",
     "output_type": "stream",
     "text": [
      "[96, 1, 2, 3, 4, 5, 6, 7, 8, 9, 74, 41, 12, 52, 789, 85, 56, 63]\n"
     ]
    },
    {
     "data": {
      "text/plain": [
       "[1, 2, 3, 4, 5, 6, 7, 8, 9, 12, 41, 52, 56, 63, 74, 85, 96, 789]"
      ]
     },
     "execution_count": 181,
     "metadata": {},
     "output_type": "execute_result"
    }
   ],
   "source": [
    "#again you can covert to list if you want (after removing duplicates)\n",
    "\n",
    "numberss=list(remove_duplicate)\n",
    "print(numberss)\n",
    "\n",
    "numberss.sort()\n",
    "numberss"
   ]
  },
  {
   "cell_type": "code",
   "execution_count": 176,
   "id": "f71b68d1",
   "metadata": {},
   "outputs": [],
   "source": [
    "#Now Study about dictionary\n",
    "# what is dictionary ? dictionary is also a data staructure,dictionary contain keys:value in curly {} brackets.\n",
    "#dictionary will take corresponding value \n",
    "#we can construct dictionary to get better understanding."
   ]
  },
  {
   "cell_type": "code",
   "execution_count": 183,
   "id": "a9852b0c",
   "metadata": {},
   "outputs": [
    {
     "data": {
      "text/plain": [
       "{'key1': 'value1', 'key2': 'value2'}"
      ]
     },
     "execution_count": 183,
     "metadata": {},
     "output_type": "execute_result"
    }
   ],
   "source": [
    "my_dict={'key1':'value1','key2':'value2'}\n",
    "my_dict"
   ]
  },
  {
   "cell_type": "code",
   "execution_count": 184,
   "id": "36c328f7",
   "metadata": {},
   "outputs": [
    {
     "data": {
      "text/plain": [
       "'value1'"
      ]
     },
     "execution_count": 184,
     "metadata": {},
     "output_type": "execute_result"
    }
   ],
   "source": [
    "my_dict['key1']"
   ]
  },
  {
   "cell_type": "code",
   "execution_count": 185,
   "id": "8b4f3650",
   "metadata": {},
   "outputs": [],
   "source": [
    "my_dict={'Roll Number':123,'Subjects':['Maths','science','Computer'],'Marks':[24,29,25]}\n"
   ]
  },
  {
   "cell_type": "code",
   "execution_count": 186,
   "id": "237835ea",
   "metadata": {},
   "outputs": [
    {
     "data": {
      "text/plain": [
       "{'Roll Number': 123,\n",
       " 'Subjects': ['Maths', 'science', 'Computer'],\n",
       " 'Marks': [24, 29, 25]}"
      ]
     },
     "execution_count": 186,
     "metadata": {},
     "output_type": "execute_result"
    }
   ],
   "source": [
    "my_dict"
   ]
  },
  {
   "cell_type": "code",
   "execution_count": 187,
   "id": "c5c4a631",
   "metadata": {},
   "outputs": [],
   "source": [
    "#Lets call items from the dictionary"
   ]
  },
  {
   "cell_type": "code",
   "execution_count": 188,
   "id": "3ecb5e0d",
   "metadata": {},
   "outputs": [
    {
     "data": {
      "text/plain": [
       "['Maths', 'science', 'Computer']"
      ]
     },
     "execution_count": 188,
     "metadata": {},
     "output_type": "execute_result"
    }
   ],
   "source": [
    "my_dict['Subjects']\n"
   ]
  },
  {
   "cell_type": "code",
   "execution_count": 189,
   "id": "846d8427",
   "metadata": {},
   "outputs": [
    {
     "data": {
      "text/plain": [
       "{'Roll Number': 100,\n",
       " 'Subjects': ['Maths', 'science', 'Computer'],\n",
       " 'Marks': [24, 29, 25]}"
      ]
     },
     "execution_count": 189,
     "metadata": {},
     "output_type": "execute_result"
    }
   ],
   "source": [
    "my_dict.update({'Roll Number':100})\n",
    "my_dict"
   ]
  },
  {
   "cell_type": "code",
   "execution_count": 190,
   "id": "3905a0f9",
   "metadata": {},
   "outputs": [],
   "source": [
    "#Items will return both keys and corresponding values.\n"
   ]
  },
  {
   "cell_type": "code",
   "execution_count": 192,
   "id": "fcd23a5b",
   "metadata": {},
   "outputs": [
    {
     "data": {
      "text/plain": [
       "dict_items([('Roll Number', 100), ('Subjects', ['Maths', 'science', 'Computer']), ('Marks', [24, 29, 25])])"
      ]
     },
     "execution_count": 192,
     "metadata": {},
     "output_type": "execute_result"
    }
   ],
   "source": [
    "my_dict.items()"
   ]
  },
  {
   "cell_type": "code",
   "execution_count": 193,
   "id": "498176cf",
   "metadata": {},
   "outputs": [],
   "source": [
    "#Branching (if,elif,else).      what is elif ? else + if =elif\n",
    "#Puthon provide the if statement to allow branching based on condition. multiple elif checks-\n",
    "# - can also be peformed followed by an optional else caluse. the statment can be used with any evaluation of truthiness."
   ]
  },
  {
   "cell_type": "code",
   "execution_count": 195,
   "id": "bfa784df",
   "metadata": {},
   "outputs": [
    {
     "name": "stdout",
     "output_type": "stream",
     "text": [
      "i is samller\n"
     ]
    }
   ],
   "source": [
    "i =10\n",
    "if i<11: # definitely you have doubt whay print is in space, is know as indentation.means four space \n",
    "    print('i is samller')\n",
    "else:\n",
    "    print('i is greater')"
   ]
  },
  {
   "cell_type": "code",
   "execution_count": 196,
   "id": "0e25f547",
   "metadata": {},
   "outputs": [],
   "source": [
    "#You can write in this way (2nd way to write (if,elif,else)statement)\n"
   ]
  },
  {
   "cell_type": "code",
   "execution_count": 197,
   "id": "e1c4d0ff",
   "metadata": {},
   "outputs": [
    {
     "name": "stdout",
     "output_type": "stream",
     "text": [
      "i is smaller\n"
     ]
    }
   ],
   "source": [
    "print('i is smaller')if i<11 else print('i is greater')\n"
   ]
  },
  {
   "cell_type": "code",
   "execution_count": 198,
   "id": "05b7fcdb",
   "metadata": {},
   "outputs": [
    {
     "name": "stdout",
     "output_type": "stream",
     "text": [
      "please add 100 Rs worth for free shipping\n"
     ]
    }
   ],
   "source": [
    "#lets se with another example.\n",
    "#free shipping message\n",
    "\n",
    "item_1=100\n",
    "item_2=300\n",
    "\n",
    "if (item_1+item_2)>=500:\n",
    "    print('Your item in eligible for free shipping')\n",
    "else:\n",
    "    extra=500-(item_1+item_2)\n",
    "    print('please add',extra,'Rs worth for free shipping')  "
   ]
  },
  {
   "cell_type": "code",
   "execution_count": 199,
   "id": "37bf7683",
   "metadata": {},
   "outputs": [
    {
     "name": "stdout",
     "output_type": "stream",
     "text": [
      "Both condion are wrong\n"
     ]
    }
   ],
   "source": [
    "\n",
    "#Lets see different example with 'and' method\n",
    "\n",
    "a=200\n",
    "b=33\n",
    "c=500\n",
    "\n",
    "if a>b and c<a:\n",
    "    print('Both condtion are true')\n",
    "else:\n",
    "    print('Both condion are wrong')"
   ]
  },
  {
   "cell_type": "code",
   "execution_count": 200,
   "id": "2dddff33",
   "metadata": {},
   "outputs": [
    {
     "name": "stdout",
     "output_type": "stream",
     "text": [
      "Atleast one of the condition are true\n"
     ]
    }
   ],
   "source": [
    "\n",
    "a=200\n",
    "b=33\n",
    "c=500\n",
    "\n",
    "if a>b or c<a:\n",
    "    print('Atleast one of the condition are true')\n",
    "else:\n",
    "    print('Both condition are wrong')"
   ]
  },
  {
   "cell_type": "code",
   "execution_count": 201,
   "id": "99bf10c3",
   "metadata": {},
   "outputs": [
    {
     "name": "stdout",
     "output_type": "stream",
     "text": [
      "60 First class\n"
     ]
    }
   ],
   "source": [
    "#Lets see with Different Example\n",
    "#Lets check Student leve\n",
    "\n",
    "marks=60\n",
    "\n",
    "if marks>=60:\n",
    "    if  marks>70:\n",
    "        print(marks,'distiction')\n",
    "    else:\n",
    "        print(marks,'First class')\n",
    "elif marks>50 and marks<60:\n",
    "    print(marks,'second division')\n",
    "elif marks>35:\n",
    "    print(marks,'Just pass')\n",
    "else:\n",
    "    ('marks','Fail Better luck next time')"
   ]
  },
  {
   "cell_type": "markdown",
   "id": "469366ca",
   "metadata": {},
   "source": [
    "# Class_4"
   ]
  },
  {
   "cell_type": "code",
   "execution_count": 202,
   "id": "73096ef4",
   "metadata": {},
   "outputs": [],
   "source": [
    "# so, What is range function ? we can genrate a sequence of numbers  using range() function , range(10) will generate numbers -\n",
    "# -from 0 to 9 (10 numbers). we cance also define the starting number of range,which number we can stop, and step size.\n",
    "# its write on the (starting number, stop number,step size)\n",
    "# to force the function to output all the items we can use the function list()\n",
    "\n",
    "\n",
    "\n",
    "# Lets  see Example."
   ]
  },
  {
   "cell_type": "code",
   "execution_count": 203,
   "id": "a47c0815",
   "metadata": {},
   "outputs": [
    {
     "name": "stdout",
     "output_type": "stream",
     "text": [
      "range(0, 10)\n"
     ]
    }
   ],
   "source": [
    "print(range(10))"
   ]
  },
  {
   "cell_type": "code",
   "execution_count": 204,
   "id": "dfaf6e89",
   "metadata": {},
   "outputs": [
    {
     "name": "stdout",
     "output_type": "stream",
     "text": [
      "[0, 1, 2, 3, 4, 5, 6, 7, 8, 9]\n"
     ]
    }
   ],
   "source": [
    "#print range in list.\n",
    "\n",
    "print(list(range(10)))"
   ]
  },
  {
   "cell_type": "code",
   "execution_count": 205,
   "id": "6568a013",
   "metadata": {},
   "outputs": [],
   "source": [
    "#what if we can generate number from 10 and its goes 100 and the step size is 2.\n",
    "#lets see"
   ]
  },
  {
   "cell_type": "code",
   "execution_count": 206,
   "id": "b113c82b",
   "metadata": {},
   "outputs": [
    {
     "name": "stdout",
     "output_type": "stream",
     "text": [
      "[10, 12, 14, 16, 18, 20, 22, 24, 26, 28, 30, 32, 34, 36, 38, 40, 42, 44, 46, 48, 50, 52, 54, 56, 58, 60, 62, 64, 66, 68, 70, 72, 74, 76, 78, 80, 82, 84, 86, 88, 90, 92, 94, 96, 98, 100]\n"
     ]
    }
   ],
   "source": [
    "print(list(range(10,101,2)))"
   ]
  },
  {
   "cell_type": "code",
   "execution_count": 207,
   "id": "ce388e11",
   "metadata": {},
   "outputs": [
    {
     "data": {
      "text/plain": [
       "[10,\n",
       " 11,\n",
       " 12,\n",
       " 13,\n",
       " 14,\n",
       " 15,\n",
       " 16,\n",
       " 17,\n",
       " 18,\n",
       " 19,\n",
       " 20,\n",
       " 21,\n",
       " 22,\n",
       " 23,\n",
       " 24,\n",
       " 25,\n",
       " 26,\n",
       " 27,\n",
       " 28,\n",
       " 29,\n",
       " 30,\n",
       " 31,\n",
       " 32,\n",
       " 33,\n",
       " 34,\n",
       " 35,\n",
       " 36,\n",
       " 37,\n",
       " 38,\n",
       " 39,\n",
       " 40,\n",
       " 41,\n",
       " 42,\n",
       " 43,\n",
       " 44,\n",
       " 45,\n",
       " 46,\n",
       " 47,\n",
       " 48,\n",
       " 49]"
      ]
     },
     "execution_count": 207,
     "metadata": {},
     "output_type": "execute_result"
    }
   ],
   "source": [
    "roll_num=list(range(10,50,1))\n",
    "roll_num"
   ]
  },
  {
   "cell_type": "code",
   "execution_count": 208,
   "id": "0c48f45e",
   "metadata": {},
   "outputs": [],
   "source": [
    "reverse=list(range(1600,99,-100)) #Lets Remember we have to minus sign for going backword.\n"
   ]
  },
  {
   "cell_type": "code",
   "execution_count": 209,
   "id": "074f2d28",
   "metadata": {},
   "outputs": [
    {
     "data": {
      "text/plain": [
       "[1600,\n",
       " 1500,\n",
       " 1400,\n",
       " 1300,\n",
       " 1200,\n",
       " 1100,\n",
       " 1000,\n",
       " 900,\n",
       " 800,\n",
       " 700,\n",
       " 600,\n",
       " 500,\n",
       " 400,\n",
       " 300,\n",
       " 200,\n",
       " 100]"
      ]
     },
     "execution_count": 209,
     "metadata": {},
     "output_type": "execute_result"
    }
   ],
   "source": [
    "reverse"
   ]
  },
  {
   "cell_type": "code",
   "execution_count": 210,
   "id": "16d165d8",
   "metadata": {},
   "outputs": [
    {
     "data": {
      "text/plain": [
       "['Korba', 'Bilaspur', 'Raipur', 'Patna', 'Siwan']"
      ]
     },
     "execution_count": 210,
     "metadata": {},
     "output_type": "execute_result"
    }
   ],
   "source": [
    "location=[\"Korba\",\"Bilaspur\",\"Raipur\",\"Patna\",\"Siwan\"]\n",
    "\\\n",
    "location  #Lets apply for loop method."
   ]
  },
  {
   "cell_type": "code",
   "execution_count": 211,
   "id": "290eb6b0",
   "metadata": {},
   "outputs": [
    {
     "name": "stdout",
     "output_type": "stream",
     "text": [
      "Korba\n",
      "Bilaspur\n",
      "Raipur\n",
      "Patna\n",
      "Siwan\n"
     ]
    }
   ],
   "source": [
    "for city in location:\n",
    "    print(city)"
   ]
  },
  {
   "cell_type": "code",
   "execution_count": 212,
   "id": "f3e815cf",
   "metadata": {},
   "outputs": [
    {
     "name": "stdout",
     "output_type": "stream",
     "text": [
      "1000\n",
      "2000\n",
      "3000\n",
      "5000\n",
      "7000\n",
      "1000\n",
      "2000\n",
      "9000\n"
     ]
    }
   ],
   "source": [
    "salary=[1000,2000,3000,5000,7000,1000,2000,9000]\n",
    "\n",
    "for money in salary:\n",
    "    print(money)"
   ]
  },
  {
   "cell_type": "code",
   "execution_count": 213,
   "id": "bea89a77",
   "metadata": {},
   "outputs": [],
   "source": [
    "#Lets see anothe example of for loop with branching statement.\n",
    "\n",
    "student_score=[78,98,65,45,89,87,32,65,54,98,89,78,69,58,47]\n"
   ]
  },
  {
   "cell_type": "code",
   "execution_count": 214,
   "id": "4ff807ba",
   "metadata": {},
   "outputs": [],
   "source": [
    "#what we have to do in the above cell. we have to create a grades for student_score in abovr list.\n",
    "#lets see how we can do."
   ]
  },
  {
   "cell_type": "code",
   "execution_count": 215,
   "id": "d8f97b31",
   "metadata": {},
   "outputs": [
    {
     "name": "stdout",
     "output_type": "stream",
     "text": [
      "78 First class\n",
      "98 Distiction\n",
      "65 First class\n",
      "45 Jsut Pass\n",
      "89 Second class\n",
      "87 Second class\n",
      "32 You are fail, please try next time\n",
      "65 First class\n",
      "54 Second class\n",
      "98 Distiction\n",
      "89 Second class\n",
      "78 First class\n",
      "69 First class\n",
      "58 Second class\n",
      "47 Second class\n"
     ]
    }
   ],
   "source": [
    "for marks in student_score:\n",
    "    if marks>90:\n",
    "        if marks>85:\n",
    "            print(marks , \"Distiction\")\n",
    "        else :\n",
    "            print(marks , \"First class\")\n",
    "    elif marks >60 and marks<85 :\n",
    "        print(marks ,\"First class\")\n",
    "    elif marks>45:\n",
    "        print(marks ,\"Second class\")\n",
    "    elif marks >35:\n",
    "        print(marks ,\"Jsut Pass\")\n",
    "    else:\n",
    "        print(marks ,\"You are fail, please try next time\")"
   ]
  },
  {
   "cell_type": "code",
   "execution_count": 216,
   "id": "69efb022",
   "metadata": {},
   "outputs": [
    {
     "data": {
      "text/plain": [
       "[2000, 2000]"
      ]
     },
     "execution_count": 216,
     "metadata": {},
     "output_type": "execute_result"
    }
   ],
   "source": [
    "salary=[1000,2000,3000,5000,7000,1000,2000,9000]\n",
    "#then apply list comprehension.\n",
    "\n",
    "\n",
    "sal=[val for val in salary if val==2000]\n",
    "sal"
   ]
  },
  {
   "cell_type": "code",
   "execution_count": 217,
   "id": "428e9fb1",
   "metadata": {},
   "outputs": [],
   "source": [
    "# for loop with else\n",
    "\n",
    "#lets see how we can use for loop with else method.  - A for loop have an optional else block,as well the else part is executed\n",
    "# ,if the items in the sequence used in for loop exhaust. break statement ,can be used to stop a for loop ,in such case the else \n",
    "# part is ignored     ,   Hence a for loop else part runs when not break method occurs."
   ]
  },
  {
   "cell_type": "code",
   "execution_count": 218,
   "id": "faf15919",
   "metadata": {},
   "outputs": [],
   "source": [
    "#Print multiplication table with for loop with else."
   ]
  },
  {
   "cell_type": "code",
   "execution_count": 219,
   "id": "0aefd4f9",
   "metadata": {},
   "outputs": [
    {
     "name": "stdout",
     "output_type": "stream",
     "text": [
      "Multiplication table for 2\n",
      "2\n",
      "4\n",
      "6\n",
      "8\n",
      "10\n",
      "12\n",
      "14\n",
      "16\n",
      "18\n",
      "20\n",
      "\n",
      "\n",
      "Multiplication table for 3\n",
      "3\n",
      "6\n",
      "9\n",
      "12\n",
      "15\n",
      "18\n",
      "21\n",
      "24\n",
      "27\n",
      "30\n",
      "\n",
      "\n",
      "Multiplication table for 4\n",
      "4\n",
      "8\n",
      "12\n",
      "16\n",
      "20\n",
      "24\n",
      "28\n",
      "32\n",
      "36\n",
      "40\n",
      "\n",
      "\n",
      "******************************\n",
      "Thats all\n",
      "******************************\n"
     ]
    }
   ],
   "source": [
    "for num in range(2,5):\n",
    "    print(\"Multiplication table for\",num)\n",
    "    for i in range(1,11):\n",
    "        print(num*i)\n",
    "        if i ==10:\n",
    "            print( \"\\n\" )\n",
    "else:\n",
    "    print(\"*\" * 30)\n",
    "    print(\"Thats all\")\n",
    "    print(\"*\" * 30)"
   ]
  },
  {
   "cell_type": "code",
   "execution_count": 220,
   "id": "c5a31f4f",
   "metadata": {},
   "outputs": [],
   "source": [
    "#Lets se another way of print multiplication table."
   ]
  },
  {
   "cell_type": "code",
   "execution_count": 221,
   "id": "8f2077c0",
   "metadata": {},
   "outputs": [
    {
     "name": "stdout",
     "output_type": "stream",
     "text": [
      "Enter Number which one you want a table5\n",
      "5 X 1 = 5\n",
      "5 X 2 = 10\n",
      "5 X 3 = 15\n",
      "5 X 4 = 20\n",
      "5 X 5 = 25\n",
      "5 X 6 = 30\n",
      "5 X 7 = 35\n",
      "5 X 8 = 40\n",
      "5 X 9 = 45\n",
      "5 X 10 = 50\n"
     ]
    }
   ],
   "source": [
    "num=int(input(\"Enter Number which one you want a table\"))\n",
    "\n",
    "for i in range(1,11):\n",
    "    print(str(num), 'X' ,str(i),\"=\",str(num*i))"
   ]
  },
  {
   "cell_type": "code",
   "execution_count": 222,
   "id": "98fef4c2",
   "metadata": {},
   "outputs": [],
   "source": [
    "#Lets see what is F string ? Formatted string litrel . is use for F-strings can also be used to apply number \n",
    "#- formatting directly to the values.\n",
    "#Lets print multiplication table with f string.\n",
    "#Lets see with example"
   ]
  },
  {
   "cell_type": "code",
   "execution_count": 223,
   "id": "b1b7cc73",
   "metadata": {},
   "outputs": [
    {
     "name": "stdout",
     "output_type": "stream",
     "text": [
      "Enter Number which one you want a table9\n",
      "9X1=9\n",
      "9X2=18\n",
      "9X3=27\n",
      "9X4=36\n",
      "9X5=45\n",
      "9X6=54\n",
      "9X7=63\n",
      "9X8=72\n",
      "9X9=81\n",
      "9X10=90\n"
     ]
    }
   ],
   "source": [
    "num=int(input(\"Enter Number which one you want a table\"))\n",
    "\n",
    "for i in range(1,11):\n",
    "    print(f\"{num}X{i}={num*i}\")   #We have to write varaibles in curly brackets and other is whithour curly brackets."
   ]
  },
  {
   "cell_type": "code",
   "execution_count": 224,
   "id": "33c35a2b",
   "metadata": {},
   "outputs": [],
   "source": [
    "#One More Example of While Loop.\n",
    "#Lets say you have to set an alarm and how its work.\n",
    "#First we havt to import time."
   ]
  },
  {
   "cell_type": "code",
   "execution_count": 225,
   "id": "3b9a71ba",
   "metadata": {},
   "outputs": [],
   "source": [
    "import time"
   ]
  },
  {
   "cell_type": "code",
   "execution_count": 226,
   "id": "af828cb4",
   "metadata": {},
   "outputs": [],
   "source": [
    "result =time.localtime()"
   ]
  },
  {
   "cell_type": "code",
   "execution_count": 227,
   "id": "e787b078",
   "metadata": {},
   "outputs": [
    {
     "data": {
      "text/plain": [
       "time.struct_time(tm_year=2024, tm_mon=7, tm_mday=24, tm_hour=18, tm_min=44, tm_sec=35, tm_wday=2, tm_yday=206, tm_isdst=0)"
      ]
     },
     "execution_count": 227,
     "metadata": {},
     "output_type": "execute_result"
    }
   ],
   "source": [
    "result"
   ]
  },
  {
   "cell_type": "code",
   "execution_count": 228,
   "id": "72ac5a39",
   "metadata": {},
   "outputs": [
    {
     "name": "stdout",
     "output_type": "stream",
     "text": [
      "Wake up buddy\n"
     ]
    }
   ],
   "source": [
    "# Now the time is shown, now we havt to set an alarm .let see how we set alarm with the help of while loop.\n",
    "\n",
    "\n",
    "while True:\n",
    "    result=time.localtime()\n",
    "    if result.tm_hour==18 and result.tm_min==46:\n",
    "        print(\"Wake up buddy\")\n",
    "        break"
   ]
  },
  {
   "cell_type": "code",
   "execution_count": 229,
   "id": "ac97ed66",
   "metadata": {},
   "outputs": [],
   "source": [
    "#lets Study about small and easy thing \n",
    "#enumerate,zip,unzip\n",
    "#Lets Start with enumerate.\n",
    "#What is enumerate ? Enumerate() allows us to iterate through a sequence but it keeps track of both the index and the element.\n",
    "#lets see with example."
   ]
  },
  {
   "cell_type": "code",
   "execution_count": 230,
   "id": "7bbcaff3",
   "metadata": {},
   "outputs": [
    {
     "name": "stdout",
     "output_type": "stream",
     "text": [
      "(0, 'Saurav')\n",
      "(1, 'Gaurav')\n",
      "(2, 'Ramesh')\n",
      "(3, 'Suresh')\n",
      "(4, 'Mukesh')\n"
     ]
    }
   ],
   "source": [
    "student=[\"Saurav\",\"Gaurav\",\"Ramesh\",\"Suresh\",\"Mukesh\"]\n",
    "\n",
    "for i in enumerate(student):\n",
    "    print(i)"
   ]
  },
  {
   "cell_type": "code",
   "execution_count": 231,
   "id": "7e99c630",
   "metadata": {},
   "outputs": [
    {
     "name": "stdout",
     "output_type": "stream",
     "text": [
      "1 Saurav\n",
      "2 Gaurav\n",
      "3 Ramesh\n",
      "4 Suresh\n",
      "5 Mukesh\n"
     ]
    }
   ],
   "source": [
    "for i,name in enumerate(student,1):\n",
    "    print(i,name)"
   ]
  },
  {
   "cell_type": "code",
   "execution_count": 232,
   "id": "9943f3f4",
   "metadata": {},
   "outputs": [],
   "source": [
    "#Lets start zip method.\n",
    "#what is zip method ? zip method use when we join a two list. \n",
    "#see with example you better under stand"
   ]
  },
  {
   "cell_type": "code",
   "execution_count": 233,
   "id": "c1d7e0b8",
   "metadata": {},
   "outputs": [],
   "source": [
    "student_name=[\"Ramesh\",\"Riya\",\"Yashu\",\"Rohit\",\"Amisha\"]\n",
    "student_marks=[54,98,99,100,34]"
   ]
  },
  {
   "cell_type": "code",
   "execution_count": 234,
   "id": "de090f66",
   "metadata": {},
   "outputs": [],
   "source": [
    "student_details=list(zip(student_name,student_marks))\n"
   ]
  },
  {
   "cell_type": "code",
   "execution_count": 235,
   "id": "07a4bdca",
   "metadata": {},
   "outputs": [
    {
     "data": {
      "text/plain": [
       "[('Ramesh', 54), ('Riya', 98), ('Yashu', 99), ('Rohit', 100), ('Amisha', 34)]"
      ]
     },
     "execution_count": 235,
     "metadata": {},
     "output_type": "execute_result"
    }
   ],
   "source": [
    "student_details"
   ]
  },
  {
   "cell_type": "code",
   "execution_count": 236,
   "id": "19fc5685",
   "metadata": {},
   "outputs": [],
   "source": [
    "#and How to Unzip.\n",
    "\n",
    "# use * for unziping"
   ]
  },
  {
   "cell_type": "code",
   "execution_count": 237,
   "id": "590d09f1",
   "metadata": {},
   "outputs": [],
   "source": [
    "name,marks=list(zip(*student_details))"
   ]
  },
  {
   "cell_type": "code",
   "execution_count": 238,
   "id": "d1894224",
   "metadata": {},
   "outputs": [
    {
     "data": {
      "text/plain": [
       "('Ramesh', 'Riya', 'Yashu', 'Rohit', 'Amisha')"
      ]
     },
     "execution_count": 238,
     "metadata": {},
     "output_type": "execute_result"
    }
   ],
   "source": [
    "name"
   ]
  },
  {
   "cell_type": "code",
   "execution_count": 239,
   "id": "170912e3",
   "metadata": {},
   "outputs": [
    {
     "data": {
      "text/plain": [
       "(54, 98, 99, 100, 34)"
      ]
     },
     "execution_count": 239,
     "metadata": {},
     "output_type": "execute_result"
    }
   ],
   "source": [
    "marks"
   ]
  },
  {
   "cell_type": "code",
   "execution_count": 240,
   "id": "dd198381",
   "metadata": {},
   "outputs": [],
   "source": [
    "#Lets know one thing How we can do enumerate and zip in same time."
   ]
  },
  {
   "cell_type": "code",
   "execution_count": 241,
   "id": "1c0f15a8",
   "metadata": {},
   "outputs": [],
   "source": [
    "student_name=[\"Ramesh\",\"Riya\",\"Yashu\",\"Rohit\",\"Amisha\"]\n",
    "student_marks=[54,98,99,100,34]"
   ]
  },
  {
   "cell_type": "code",
   "execution_count": 242,
   "id": "2c63dec7",
   "metadata": {},
   "outputs": [
    {
     "name": "stdout",
     "output_type": "stream",
     "text": [
      "1 Ramesh 54\n",
      "2 Riya 98\n",
      "3 Yashu 99\n",
      "4 Rohit 100\n",
      "5 Amisha 34\n"
     ]
    }
   ],
   "source": [
    "for i,(name,marks) in enumerate(zip(student_name,student_marks),1):\n",
    "    print(i,name,marks)"
   ]
  },
  {
   "cell_type": "markdown",
   "id": "856ec0bc",
   "metadata": {},
   "source": [
    "# Class_5"
   ]
  },
  {
   "cell_type": "code",
   "execution_count": 243,
   "id": "fea298ef",
   "metadata": {},
   "outputs": [],
   "source": [
    "#Using return\n",
    "#what is return? use of return statement return allow a function to \"return\" a result that can then be stored \n",
    "# as a variable, or used in whatever mannner user wants."
   ]
  },
  {
   "cell_type": "code",
   "execution_count": 244,
   "id": "f33f968c",
   "metadata": {},
   "outputs": [],
   "source": [
    "#   Salary update example.\n",
    "#   without return method."
   ]
  },
  {
   "cell_type": "code",
   "execution_count": 245,
   "id": "2f8be9c3",
   "metadata": {},
   "outputs": [],
   "source": [
    "def salary_incr(salary):\n",
    "    if salary<=9000:\n",
    "        (salary + 1000)\n",
    "    else:\n",
    "        (salary)"
   ]
  },
  {
   "cell_type": "code",
   "execution_count": 246,
   "id": "636abc7d",
   "metadata": {},
   "outputs": [
    {
     "name": "stdout",
     "output_type": "stream",
     "text": [
      "Your new salary None\n"
     ]
    }
   ],
   "source": [
    "print(\"Your new salary\",salary_incr(5000))"
   ]
  },
  {
   "cell_type": "code",
   "execution_count": 247,
   "id": "1a268cea",
   "metadata": {},
   "outputs": [],
   "source": [
    "#   why it was showing none . because we dont give a command to return .you think why we did not given a \n",
    "#   print command because print is used by a user and we are coder we check only by using return."
   ]
  },
  {
   "cell_type": "code",
   "execution_count": 248,
   "id": "6793bcc5",
   "metadata": {},
   "outputs": [],
   "source": [
    "def incr_salary(salary):\n",
    "    if salary<=8000:\n",
    "        return (salary+1000)\n",
    "    else:\n",
    "        return(salary)"
   ]
  },
  {
   "cell_type": "code",
   "execution_count": 249,
   "id": "1b78913d",
   "metadata": {},
   "outputs": [
    {
     "data": {
      "text/plain": [
       "8000"
      ]
     },
     "execution_count": 249,
     "metadata": {},
     "output_type": "execute_result"
    }
   ],
   "source": [
    "incr_salary(7000)"
   ]
  },
  {
   "cell_type": "code",
   "execution_count": 250,
   "id": "a24879c0",
   "metadata": {},
   "outputs": [],
   "source": [
    "#  Lambda Function\n",
    "#  What is lamdba fucntion ? lambda function is used for quick calculation and for one time.\n",
    "#How to add in lambda"
   ]
  },
  {
   "cell_type": "code",
   "execution_count": 251,
   "id": "1862d47a",
   "metadata": {},
   "outputs": [],
   "source": [
    "add_num=lambda y:y+30"
   ]
  },
  {
   "cell_type": "code",
   "execution_count": 252,
   "id": "82daf4b3",
   "metadata": {},
   "outputs": [
    {
     "data": {
      "text/plain": [
       "70"
      ]
     },
     "execution_count": 252,
     "metadata": {},
     "output_type": "execute_result"
    }
   ],
   "source": [
    "add_num(40)"
   ]
  },
  {
   "cell_type": "code",
   "execution_count": 254,
   "id": "fa79c4cc",
   "metadata": {},
   "outputs": [],
   "source": [
    "#Multiple arguments-"
   ]
  },
  {
   "cell_type": "code",
   "execution_count": 255,
   "id": "34508829",
   "metadata": {},
   "outputs": [],
   "source": [
    "multi_num=lambda x,y:x*y"
   ]
  },
  {
   "cell_type": "code",
   "execution_count": 256,
   "id": "aa1bcafe",
   "metadata": {},
   "outputs": [
    {
     "data": {
      "text/plain": [
       "8"
      ]
     },
     "execution_count": 256,
     "metadata": {},
     "output_type": "execute_result"
    }
   ],
   "source": [
    "multi_num(4,2)"
   ]
  },
  {
   "cell_type": "code",
   "execution_count": 257,
   "id": "b1aa1d92",
   "metadata": {},
   "outputs": [],
   "source": [
    "#similarly you can have more arguments and work on it.\n",
    "\n",
    "#lets study about *args and *kwargs.\n",
    "#first we study about args , so what  is args ? args take multiple input in the place of function arguments.\n",
    "#Syntax def(*args)\n",
    "#lets see with example"
   ]
  },
  {
   "cell_type": "code",
   "execution_count": 258,
   "id": "04621f57",
   "metadata": {},
   "outputs": [],
   "source": [
    "def my_func(*args):\n",
    "    for i in args:\n",
    "        print(\"my Args \",i)"
   ]
  },
  {
   "cell_type": "code",
   "execution_count": 259,
   "id": "60b92206",
   "metadata": {},
   "outputs": [
    {
     "name": "stdout",
     "output_type": "stream",
     "text": [
      "my Args  Ramesh\n",
      "my Args  Suresh\n",
      "my Args  Korba\n",
      "my Args  78\n"
     ]
    }
   ],
   "source": [
    "my_func(\"Ramesh\",\"Suresh\",\"Korba\",78)\n",
    "\n",
    "#its mean we put the arguments after the function created,this reason we use *args method"
   ]
  },
  {
   "cell_type": "code",
   "execution_count": 260,
   "id": "3176e06f",
   "metadata": {},
   "outputs": [],
   "source": [
    "#   **kwargs.\n",
    "#what is kwargs ? kwargs means Key word arguments, it meaning is result giving same as dictionary."
   ]
  },
  {
   "cell_type": "code",
   "execution_count": 261,
   "id": "9c3314da",
   "metadata": {},
   "outputs": [],
   "source": [
    "def my_func(**kwargs):\n",
    "    for key,value in kwargs.items():\n",
    "        print(key,value)"
   ]
  },
  {
   "cell_type": "code",
   "execution_count": 262,
   "id": "b283817f",
   "metadata": {},
   "outputs": [
    {
     "name": "stdout",
     "output_type": "stream",
     "text": [
      "student ['Ram', 'Shiva']\n",
      "marks [84, 59]\n"
     ]
    }
   ],
   "source": [
    "my_func(student=[\"Ram\",\"Shiva\"],marks=[84,59])\n"
   ]
  },
  {
   "cell_type": "markdown",
   "id": "45d8a579",
   "metadata": {},
   "source": [
    "# Class_6"
   ]
  },
  {
   "cell_type": "code",
   "execution_count": 263,
   "id": "e35c0400",
   "metadata": {},
   "outputs": [],
   "source": [
    "# In this lecture learning about :-\n",
    "# 1 -Global and  local variables\n",
    "# 2 -Input Keyword/User\n",
    "# 3 -Error and Exception Handling\n",
    "# 4 -Finally:"
   ]
  },
  {
   "cell_type": "code",
   "execution_count": 264,
   "id": "03441132",
   "metadata": {},
   "outputs": [],
   "source": [
    "# 1- Global and Local Variables\n",
    "\n",
    "\n",
    "\n",
    "# Global varibale.\n",
    "# What is global variable ? Global varibale means which variable we can use outside the fucntion as well as inside the fucntion.\n",
    "#See with Example"
   ]
  },
  {
   "cell_type": "code",
   "execution_count": 265,
   "id": "0610858c",
   "metadata": {},
   "outputs": [],
   "source": [
    "extra_marks=10   #Its an global variable"
   ]
  },
  {
   "cell_type": "code",
   "execution_count": 266,
   "id": "47d9220a",
   "metadata": {},
   "outputs": [],
   "source": [
    "# Local variable\n",
    "# what is local variable ? local varibale means which varible we can only use inside the fucntion.\n",
    "\n",
    "#See with example."
   ]
  },
  {
   "cell_type": "code",
   "execution_count": 267,
   "id": "64e3b238",
   "metadata": {},
   "outputs": [],
   "source": [
    "def total_marks():\n",
    "    some_marks=50   #its a local variable, and its not work outside the fucntion\n",
    "    print(\"printing inside the fucntion and the total is \",50+some_marks+total_marks)"
   ]
  },
  {
   "cell_type": "code",
   "execution_count": 268,
   "id": "490332f9",
   "metadata": {},
   "outputs": [],
   "source": [
    "#How to use local varibale outside the fucntion\n"
   ]
  },
  {
   "cell_type": "code",
   "execution_count": 270,
   "id": "187ff375",
   "metadata": {},
   "outputs": [],
   "source": [
    "def local_global():\n",
    "    global var12    #see that . what we can do fo var12. (\"there is a coversion\")\n",
    "    var12=\"This is fantastic\"\n",
    "    print(var12)"
   ]
  },
  {
   "cell_type": "code",
   "execution_count": 271,
   "id": "4769c655",
   "metadata": {},
   "outputs": [
    {
     "name": "stdout",
     "output_type": "stream",
     "text": [
      "This is fantastic\n"
     ]
    }
   ],
   "source": [
    "local_global()"
   ]
  },
  {
   "cell_type": "code",
   "execution_count": 272,
   "id": "72a429d4",
   "metadata": {},
   "outputs": [
    {
     "data": {
      "text/plain": [
       "'This is fantastic'"
      ]
     },
     "execution_count": 272,
     "metadata": {},
     "output_type": "execute_result"
    }
   ],
   "source": [
    "var12  #see that we are using local varaible to outside the fucntion because we covert local variable to global varibale\n"
   ]
  },
  {
   "cell_type": "code",
   "execution_count": 273,
   "id": "a014aedf",
   "metadata": {},
   "outputs": [
    {
     "name": "stdout",
     "output_type": "stream",
     "text": [
      "Enter Your Name Baby \n",
      "SURAJ\n",
      "User Enter SURAJ\n"
     ]
    }
   ],
   "source": [
    "name=input(\"Enter Your Name Baby \\n\")\n",
    "print(\"User Enter\",name)"
   ]
  },
  {
   "cell_type": "code",
   "execution_count": 274,
   "id": "8be5587e",
   "metadata": {},
   "outputs": [],
   "source": [
    "#Lets understand how to make user enter only integer."
   ]
  },
  {
   "cell_type": "code",
   "execution_count": 275,
   "id": "287ba36e",
   "metadata": {},
   "outputs": [
    {
     "name": "stdout",
     "output_type": "stream",
     "text": [
      "Enter Your Marks56\n",
      "Enter Your Marks58\n",
      "114  Out of 200\n"
     ]
    }
   ],
   "source": [
    "maths=int(input(\"Enter Your Marks\"))  #(int) use for integer\n",
    "science=int(input(\"Enter Your Marks\"))\n",
    "total_marks=maths + science\n",
    "print(total_marks,\" Out of 200\")"
   ]
  },
  {
   "cell_type": "code",
   "execution_count": 276,
   "id": "9455e2f9",
   "metadata": {},
   "outputs": [
    {
     "name": "stdout",
     "output_type": "stream",
     "text": [
      "Enter Your name sHAYAD\n",
      "You Entered  sHAYAD\n"
     ]
    }
   ],
   "source": [
    "name=input(\"Enter Your name \")\n",
    "if name.isalpha():\n",
    "    print(\"You Entered \",name)\n",
    "else:\n",
    "    print(\"Look like You Did not enter alpha charater\")"
   ]
  },
  {
   "cell_type": "code",
   "execution_count": 277,
   "id": "80f9a19f",
   "metadata": {},
   "outputs": [],
   "source": [
    "def phone_price(phone_make,phone_age,phone_model_gb):\n",
    "    if phone_make==\"iphone13\":\n",
    "        if 0<phone_age<=6:\n",
    "            if phone_model_gb==128:\n",
    "                print(\"Rs 65000 - Rs 75000\")\n",
    "            elif phone_model_gb==256:\n",
    "                print(\"Rs 80000\")\n",
    "        if 6<phone_age<=12:\n",
    "            if phone_model_gb==128:\n",
    "                print(\"Rs 60000 - Rs 65000\")\n",
    "            elif phone_model_gb==256:\n",
    "                print(\"Rs70000\")\n",
    "    elif phone_make==\"iphone11\":\n",
    "        if 0<phone_age<=6:\n",
    "            if phone_model_gb==64:\n",
    "                print(\"Rs 44000 - Rs 48000\")\n",
    "            elif phone_model_gb==128:\n",
    "                print(\"RS 50000 - Rs 550000\")\n",
    "        if 6<phone_age<=12:\n",
    "            if phone_model_gb==64:\n",
    "                print(\"Rs 39000 - Rs 42000\")\n",
    "            elif phone_model_gb:\n",
    "                print(\"Rs 45000 - 48000\")\n",
    "    else:\n",
    "        print(\"No Stock Right Now, Please check after few days\")"
   ]
  },
  {
   "cell_type": "code",
   "execution_count": 278,
   "id": "f39828e4",
   "metadata": {},
   "outputs": [
    {
     "name": "stdout",
     "output_type": "stream",
     "text": [
      " Enter Your Required Phone  iphone11\n",
      " Enter how old phone you need  5\n",
      " Enter how much space do you want in you phone  64\n",
      "Rs 44000 - Rs 48000\n"
     ]
    }
   ],
   "source": [
    "phone=input(\" Enter Your Required Phone  \")\n",
    "months_old=int(input(\" Enter how old phone you need  \"))\n",
    "capacity=int(input(\" Enter how much space do you want in you phone  \"))\n",
    "phone_price(phone,months_old,capacity)"
   ]
  },
  {
   "cell_type": "code",
   "execution_count": 279,
   "id": "75e5e559",
   "metadata": {},
   "outputs": [],
   "source": [
    "#Error and Exception Handling - As we know that when we are coding , we get different different types of\n",
    "# error , this reason python use a error and exception handling.understanding of variouss types of error\n",
    "# will help you to debug your code much faster.\n",
    "\n",
    "#Now se how to handle error and exception hadling .\n",
    "#  try and except\n",
    "#what is try and except ? Try and Except statement is used to handle these errors within our code\n",
    "#in Python. The try block is used to check some code for errors i.e the code inside the try block \n",
    "#will execute when there is no error in the program. Whereas the code inside the except block will\n",
    "#execute whenever the program encounters some error in the preceding try block."
   ]
  },
  {
   "cell_type": "code",
   "execution_count": 280,
   "id": "53a736e4",
   "metadata": {},
   "outputs": [],
   "source": [
    "#Using just except ,we can check for any exception to understand better. lets check out the smaple code.\n"
   ]
  },
  {
   "cell_type": "code",
   "execution_count": 281,
   "id": "b738b41b",
   "metadata": {},
   "outputs": [],
   "source": [
    "marks_1=88\n",
    "subject=\"datascience\"\n",
    "marks_2=33"
   ]
  },
  {
   "cell_type": "code",
   "execution_count": 282,
   "id": "38a40237",
   "metadata": {},
   "outputs": [
    {
     "name": "stdout",
     "output_type": "stream",
     "text": [
      "You are only add integer + integer ,not with integer + string\n"
     ]
    }
   ],
   "source": [
    "try:\n",
    "    total= marks_1 + subject\n",
    "except:\n",
    "    print(\"You are only add integer + integer ,not with integer + string\")\n",
    "else:\n",
    "    (total)"
   ]
  },
  {
   "cell_type": "code",
   "execution_count": 283,
   "id": "d43a16db",
   "metadata": {},
   "outputs": [
    {
     "name": "stdout",
     "output_type": "stream",
     "text": [
      "Your Total marks is \n",
      "\t\t 121\n"
     ]
    }
   ],
   "source": [
    "try:\n",
    "    total=marks_1 + marks_2\n",
    "except:\n",
    "    print(\"plese dont add integer with string\")\n",
    "else:\n",
    "    print(\"Your Total marks is \\n\\t\\t\",total)"
   ]
  },
  {
   "cell_type": "code",
   "execution_count": 284,
   "id": "17b5dd31",
   "metadata": {},
   "outputs": [
    {
     "name": "stdout",
     "output_type": "stream",
     "text": [
      "Enter Your Car number 5684\n",
      "Enter Your Name Baby \n",
      "Enter Your Number Baby 54\n"
     ]
    }
   ],
   "source": [
    "try:\n",
    "    car_number=input(\"Enter Your Car number \")\n",
    "    name=input(\"Enter Your Name Baby \")\n",
    "    mobile_number=input(\"Enter Your Number Baby \")\n",
    "    if car_number ==\" \":\n",
    "        raise Exception()\n",
    "    elif name ==\" \":\n",
    "        raise Exception()\n",
    "    elif mobie_number ==\" \":\n",
    "        raise Exception()\n",
    "    else:\n",
    "        pass\n",
    "except:\n",
    "    if car_number ==\" \":\n",
    "        print(\"\\n The Registration Field Required\")\n",
    "    if name ==\" \":\n",
    "        print(\"\\n The Name Field is required\")\n",
    "    if mobile_number ==\" \":\n",
    "        print(\"\\n The Mobile Number Field is required\")\n",
    "    \n",
    "else:\n",
    "    print(\"Thanks for registration\")"
   ]
  },
  {
   "cell_type": "code",
   "execution_count": 285,
   "id": "99036ccf",
   "metadata": {},
   "outputs": [],
   "source": [
    "#Finally Block. We dont actually need to memorize the list of exception types. \n",
    "# Because fianlly blocks use when try and except both getting error , then finally will print.\n",
    "# and finally will execute all times . if there are any error or not."
   ]
  },
  {
   "cell_type": "code",
   "execution_count": 286,
   "id": "4d13ae62",
   "metadata": {},
   "outputs": [
    {
     "name": "stdout",
     "output_type": "stream",
     "text": [
      "Enter Your Car number 5684\n",
      "Enter Your Name Baby SURAJ\n",
      "Enter Your Number Baby 9992024989\n",
      "Thanks for registration\n"
     ]
    }
   ],
   "source": [
    "\n",
    "try:\n",
    "    car_number=input(\"Enter Your Car number \")\n",
    "    name=input(\"Enter Your Name Baby \")\n",
    "    mobile_number=input(\"Enter Your Number Baby \")\n",
    "    if car_number ==\" \":\n",
    "        raise Exception()\n",
    "    elif name ==\" \":\n",
    "        raise Exception()\n",
    "    elif mobie_number ==\" \":\n",
    "        raise Exception()\n",
    "    else:\n",
    "        pass\n",
    "except:\n",
    "    if car_number ==\" \":\n",
    "        print(\"\\n The Registration Field Required\")\n",
    "    if name ==\" \":\n",
    "        print(\"\\n The Name Field is required\")\n",
    "    if mobile_number ==\" \":\n",
    "        print(\"\\n The Mobile Number Field is required\")\n",
    "    \n",
    "finally:\n",
    "    print(\"Thanks for registration\")"
   ]
  },
  {
   "cell_type": "code",
   "execution_count": 287,
   "id": "16c2a6d1",
   "metadata": {},
   "outputs": [],
   "source": [
    "# We can use this in conjuction will execute , lets see a new example that will take into account\n",
    "# a user putting in the wrong input:-"
   ]
  },
  {
   "cell_type": "code",
   "execution_count": 288,
   "id": "9a60db1c",
   "metadata": {},
   "outputs": [],
   "source": [
    "def mobile_num():\n",
    "    try:\n",
    "        val=int(input(\"Enter Your Number \"))\n",
    "    except:\n",
    "        print(\"Look Like You did not enter an integer\")\n",
    "    print(val)   "
   ]
  },
  {
   "cell_type": "code",
   "execution_count": 289,
   "id": "e6b65d76",
   "metadata": {},
   "outputs": [
    {
     "name": "stdout",
     "output_type": "stream",
     "text": [
      "Enter Your Number 99\n",
      "99\n"
     ]
    }
   ],
   "source": [
    "mobile_num()"
   ]
  },
  {
   "cell_type": "markdown",
   "id": "18535369",
   "metadata": {},
   "source": [
    "# Class_7"
   ]
  },
  {
   "cell_type": "code",
   "execution_count": 290,
   "id": "31efa733",
   "metadata": {},
   "outputs": [],
   "source": [
    "# Today We are learning about OOPS Concept - Object Oriented Programming\n",
    "# What is Object Oriented Programming ? Solving a problem by  creating objects is one of the most \n",
    "# populer approaches in programming this is call object oriented programming.\n",
    "\n",
    "# Real Time Example -Imagine you are opening a bank account and you fill the most of your personel \n",
    "# information .Age,UserName,City,phone number gmail id etc.\n",
    "# Once you fill all your information and it will register with  bank whwnever you want to check your\n",
    "# personel informationyou click on personel tab,your name,last_name,account number city etc will be\n",
    "# displayed\n",
    "\n",
    "#whenever you want to deposit or withdrawl money you click other tabs."
   ]
  },
  {
   "cell_type": "code",
   "execution_count": 291,
   "id": "debdab81",
   "metadata": {},
   "outputs": [
    {
     "name": "stdout",
     "output_type": "stream",
     "text": [
      "Please enter you name SURAJ\n",
      "Please enter you Age 30\n",
      "Please enter you city FARIDABAD\n",
      "Enter your State HARYANA\n",
      "Enter your user_ID SKV9655\n",
      "Enter your password9992024989\n"
     ]
    }
   ],
   "source": [
    "class Basic_details:\n",
    "  def __init__(self,name = input(\"Please enter you name \"),\n",
    "               age = input(\"Please enter you Age \"),\n",
    "               city = input(\"Please enter you city \"),\n",
    "               state =input(\"Enter your State \"),\n",
    "               user_id = input(\"Enter your user_ID \"),\n",
    "               password= input(\"Enter your password\")):\n",
    "    self.name = name\n",
    "    self.age = age\n",
    "    self.city = city\n",
    "    self.state = state\n",
    "    self.user_id = user_id\n",
    "    self.password = password\n",
    "\n",
    "  def signin(self):\n",
    "\n",
    "      while True:\n",
    "        signin = input(\"Please Enter your User_ID \")\n",
    "        Password = input(\"Please enter your Password\")\n",
    "\n",
    "        if signin==self.user_id and Password == self.password:\n",
    "          print(\"Login Sucessfully\\n\")\n",
    "          print(\"*\"*40)\n",
    "          print(f\"Hey {self.name} Welcome to the bank\")\n",
    "          print(\"*\"*40)\n",
    "          break\n",
    "        else:\n",
    "          print(\"Please Enter valid Credentials\")\n",
    "          continue"
   ]
  },
  {
   "cell_type": "code",
   "execution_count": 292,
   "id": "776fde1e",
   "metadata": {},
   "outputs": [],
   "source": [
    "a= Basic_details()\n"
   ]
  },
  {
   "cell_type": "code",
   "execution_count": 293,
   "id": "ad4d1279",
   "metadata": {},
   "outputs": [
    {
     "name": "stdout",
     "output_type": "stream",
     "text": [
      "Please Enter your User_ID SKVhh\n",
      "Please enter your Password9992024989\n",
      "Please Enter valid Credentials\n",
      "Please Enter your User_ID SKV9655\n",
      "Please enter your Password9992024989\n",
      "Login Sucessfully\n",
      "\n",
      "****************************************\n",
      "Hey SURAJ Welcome to the bank\n",
      "****************************************\n"
     ]
    }
   ],
   "source": [
    "a.signin()"
   ]
  },
  {
   "cell_type": "code",
   "execution_count": 299,
   "id": "374a6fac",
   "metadata": {},
   "outputs": [],
   "source": [
    "#Inheritance -Inheritance is a way of creating a new class from an existing class.\n",
    "#There are Three Types Of Inheritance - 1 -Single Inheritance , 2 -Multi Inheritance ,3-Multilevel Inheritance\n",
    "\n",
    "#Lets see with example how to inherits a class from existing class."
   ]
  },
  {
   "cell_type": "code",
   "execution_count": 294,
   "id": "0c87ec58",
   "metadata": {},
   "outputs": [
    {
     "name": "stdout",
     "output_type": "stream",
     "text": [
      "Pleaes enter the Account number 9992024\n",
      "Please enter the balance 0\n"
     ]
    }
   ],
   "source": [
    "class Account_details(Basic_details):\n",
    "    def __init__(self,account_num = input(\"Pleaes enter the Account number \"),\n",
    "               balance = int(input(\"Please enter the balance \"))):\n",
    "\n",
    "               super(Account_details, self).__init__()\n",
    "               self.account_num = account_num\n",
    "               self.balance = balance\n",
    "\n",
    "    def account_verify(self):\n",
    "      while True:\n",
    "        Account_number = input(\"Please enter the Account number \")\n",
    "        if Account_number == self.account_num:\n",
    "          print(\"Your Account has been verified\\n\")\n",
    "          print(\"*\"*40)\n",
    "          print(f\"Hey {self.name} Welcome to the Lena bank\\n\")\n",
    "          print(\"Your Current Balance is :\",self.balance)\n",
    "          print(\"*\"*40)\n",
    "          break\n",
    "        else:\n",
    "          print(\"Please Enter valid Details\")\n",
    "          continue\n",
    "\n",
    "    def deposit(self):\n",
    "      print(\"=\"*40)\n",
    "      print(f\"Hey {self.name}, Your current balance is {self.balance}\")\n",
    "      print(\"=\"*40,\"\\n\")\n",
    "      deposit_amount = int(input(\"Please enter the amount \"))\n",
    "      self.balance += deposit_amount\n",
    "      print(\"#\"*40)\n",
    "      print(\"Your current balance is :\",self.balance)\n",
    "      print(\"#\"*40)\n",
    "\n",
    "    def withdraw(self):\n",
    "      print(\"*\"*40)\n",
    "      print(f\"Hey {self.name}, Your current balance is {self.balance}\")\n",
    "      print(\"*\"*40)\n",
    "      withdraw_amount = int(input(\"Please Enter the amount to withdraw\"))\n",
    "      if withdraw_amount > self.balance:\n",
    "        print(\"Insufficient Balance\")\n",
    "      else:\n",
    "        self.balance -= withdraw_amount\n",
    "        print(\"\\n\")\n",
    "        print(\"*\"*40)\n",
    "        print(\"Your current balance is :\",self.balance)\n",
    "        print(\"Thank You for using Lena Bank\")\n",
    "        print(\"*\"*40)"
   ]
  },
  {
   "cell_type": "code",
   "execution_count": 295,
   "id": "f532a56d",
   "metadata": {},
   "outputs": [],
   "source": [
    "b = Account_details()"
   ]
  },
  {
   "cell_type": "code",
   "execution_count": 296,
   "id": "04e6a080",
   "metadata": {},
   "outputs": [
    {
     "name": "stdout",
     "output_type": "stream",
     "text": [
      "Please enter the Account number 9992024\n",
      "Your Account has been verified\n",
      "\n",
      "****************************************\n",
      "Hey SURAJ Welcome to the Lena bank\n",
      "\n",
      "Your Current Balance is : 0\n",
      "****************************************\n"
     ]
    }
   ],
   "source": [
    "b.account_verify()"
   ]
  },
  {
   "cell_type": "code",
   "execution_count": 297,
   "id": "9de19409",
   "metadata": {},
   "outputs": [
    {
     "name": "stdout",
     "output_type": "stream",
     "text": [
      "========================================\n",
      "Hey SURAJ, Your current balance is 0\n",
      "======================================== \n",
      "\n",
      "Please enter the amount 1500\n",
      "########################################\n",
      "Your current balance is : 1500\n",
      "########################################\n"
     ]
    }
   ],
   "source": [
    "b.deposit()"
   ]
  },
  {
   "cell_type": "code",
   "execution_count": 298,
   "id": "794d543c",
   "metadata": {},
   "outputs": [
    {
     "name": "stdout",
     "output_type": "stream",
     "text": [
      "****************************************\n",
      "Hey SURAJ, Your current balance is 1500\n",
      "****************************************\n",
      "Please Enter the amount to withdraw1000\n",
      "\n",
      "\n",
      "****************************************\n",
      "Your current balance is : 500\n",
      "Thank You for using Lena Bank\n",
      "****************************************\n"
     ]
    }
   ],
   "source": [
    "b.withdraw()"
   ]
  },
  {
   "cell_type": "code",
   "execution_count": 300,
   "id": "1bcda6e2",
   "metadata": {},
   "outputs": [],
   "source": [
    "# Encapsulation - Encapsulation is an another powerful way to extend a class which consists\n",
    "# on wrapping object with second one.\n",
    "\n",
    "#Just like gmail,google photos,g drive and wrapped into one\n",
    "\n",
    "# The abstraction process relies on creating a simplified model that removes useless details from\n",
    "# a concept. In order to be simplified a model should be described in trems of other concepts, \n",
    "# for eaxmple - we can say that a car is composed be :-\n",
    "# Tyre\n",
    "# Engine\n",
    "# Body\n",
    "\n",
    "\n",
    "#And breakdown each one of these element in simpler parts untill we reach primitive data.\n"
   ]
  },
  {
   "cell_type": "code",
   "execution_count": 301,
   "id": "1cf28fe8",
   "metadata": {},
   "outputs": [
    {
     "name": "stdout",
     "output_type": "stream",
     "text": [
      "Tyre \n",
      "\t Branch MRF\n",
      "\tBelted_bias True\n",
      "\topt_pressure 34\n",
      "  \n",
      "\t fuel type is  petrol\n",
      "\t noise leve is  2.3\n",
      "\n",
      "\t Body Size of car is sedan\n"
     ]
    }
   ],
   "source": [
    "class Tyres:\n",
    "    def __init__(self,branch,belted_bias,opt_pressure):\n",
    "        self.branch=branch\n",
    "        self.belted_bias=belted_bias\n",
    "        self.opt_pressure=opt_pressure\n",
    "    def __str__(self) :#__str__ can be used if you dont want to define a method name,but you want this to execute\n",
    "        return(\"Tyre \\n\\t Branch \"+self.branch+\n",
    "               \"\\n\\tBelted_bias \"+str(self.belted_bias)+\n",
    "               \"\\n\\topt_pressure \"+str(self.opt_pressure))\n",
    "class Engine:\n",
    "    def __init__(self,fuel_type,noise_level):\n",
    "        self.fuel_type=fuel_type\n",
    "        self.noise_level=noise_level\n",
    "    def __str__(self):\n",
    "        return(\"\\n\\t fuel type is  \"+self.fuel_type+\n",
    "              \"\\n\\t noise leve is  \"+str(self.noise_level))#__str__ method only returns only text so we are converting into string.\n",
    "class Body():\n",
    "    def __init__(self,size):\n",
    "        self.size=size\n",
    "    def __str__(self):\n",
    "        return(\"\\n\\t Body Size of car is \"+self.size)\n",
    "    \n",
    "class Car():\n",
    "    def __init__(self,Tyres,Engine,Body):\n",
    "        self.Tyres=Tyres\n",
    "        self.Engine=Engine\n",
    "        self.Body=Body\n",
    "    def __str__(self):\n",
    "        return   str(self.Tyres) +\"\\n  \"  + str(self.Engine) +\"\\n\" +  str(self.Body)\n",
    "t=Tyres(\"MRF\",True,34)\n",
    "e=Engine(\"petrol\",2.3)\n",
    "b=Body(\"sedan\")\n",
    "c=Car(t,e,b)\n",
    "print(c)"
   ]
  },
  {
   "cell_type": "code",
   "execution_count": 302,
   "id": "3d8892fe",
   "metadata": {},
   "outputs": [
    {
     "name": "stdout",
     "output_type": "stream",
     "text": [
      "Tyre \n",
      "\t Branch MRF\n",
      "\tBelted_bias True\n",
      "\topt_pressure 34\n",
      "  \n",
      "\t fuel type is  petrol\n",
      "\t noise leve is  2.3\n",
      "\n",
      "\t Body Size of car is sedan\n"
     ]
    }
   ],
   "source": []
  },
  {
   "cell_type": "code",
   "execution_count": null,
   "id": "5eb1b7b7",
   "metadata": {},
   "outputs": [],
   "source": []
  }
 ],
 "metadata": {
  "kernelspec": {
   "display_name": "Python 3 (ipykernel)",
   "language": "python",
   "name": "python3"
  },
  "language_info": {
   "codemirror_mode": {
    "name": "ipython",
    "version": 3
   },
   "file_extension": ".py",
   "mimetype": "text/x-python",
   "name": "python",
   "nbconvert_exporter": "python",
   "pygments_lexer": "ipython3",
   "version": "3.11.5"
  }
 },
 "nbformat": 4,
 "nbformat_minor": 5
}
