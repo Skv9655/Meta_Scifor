{
 "cells": [
  {
   "cell_type": "code",
   "execution_count": 1,
   "id": "5868b79d",
   "metadata": {},
   "outputs": [],
   "source": [
    "# Today we are learning about Numpy\n",
    "# So, what is numpy ? Numpy means Numerical Python\n",
    "# we have to import numpy as sqlite3."
   ]
  },
  {
   "cell_type": "code",
   "execution_count": 2,
   "id": "41e843c7",
   "metadata": {},
   "outputs": [],
   "source": [
    "import numpy as np"
   ]
  },
  {
   "cell_type": "code",
   "execution_count": 3,
   "id": "0560adbb",
   "metadata": {},
   "outputs": [
    {
     "data": {
      "text/plain": [
       "['ALLOW_THREADS',\n",
       " 'BUFSIZE',\n",
       " 'CLIP',\n",
       " 'DataSource',\n",
       " 'ERR_CALL',\n",
       " 'ERR_DEFAULT',\n",
       " 'ERR_IGNORE',\n",
       " 'ERR_LOG',\n",
       " 'ERR_PRINT',\n",
       " 'ERR_RAISE',\n",
       " 'ERR_WARN',\n",
       " 'FLOATING_POINT_SUPPORT',\n",
       " 'FPE_DIVIDEBYZERO',\n",
       " 'FPE_INVALID',\n",
       " 'FPE_OVERFLOW',\n",
       " 'FPE_UNDERFLOW',\n",
       " 'False_',\n",
       " 'Inf',\n",
       " 'Infinity',\n",
       " 'MAXDIMS',\n",
       " 'MAY_SHARE_BOUNDS',\n",
       " 'MAY_SHARE_EXACT',\n",
       " 'NAN',\n",
       " 'NINF',\n",
       " 'NZERO',\n",
       " 'NaN',\n",
       " 'PINF',\n",
       " 'PZERO',\n",
       " 'RAISE',\n",
       " 'RankWarning',\n",
       " 'SHIFT_DIVIDEBYZERO',\n",
       " 'SHIFT_INVALID',\n",
       " 'SHIFT_OVERFLOW',\n",
       " 'SHIFT_UNDERFLOW',\n",
       " 'ScalarType',\n",
       " 'True_',\n",
       " 'UFUNC_BUFSIZE_DEFAULT',\n",
       " 'UFUNC_PYVALS_NAME',\n",
       " 'WRAP',\n",
       " '_CopyMode',\n",
       " '_NoValue',\n",
       " '_UFUNC_API',\n",
       " '__NUMPY_SETUP__',\n",
       " '__all__',\n",
       " '__builtins__',\n",
       " '__cached__',\n",
       " '__config__',\n",
       " '__deprecated_attrs__',\n",
       " '__dir__',\n",
       " '__doc__',\n",
       " '__expired_functions__',\n",
       " '__file__',\n",
       " '__former_attrs__',\n",
       " '__future_scalars__',\n",
       " '__getattr__',\n",
       " '__loader__',\n",
       " '__name__',\n",
       " '__package__',\n",
       " '__path__',\n",
       " '__spec__',\n",
       " '__version__',\n",
       " '_add_newdoc_ufunc',\n",
       " '_builtins',\n",
       " '_distributor_init',\n",
       " '_financial_names',\n",
       " '_get_promotion_state',\n",
       " '_globals',\n",
       " '_int_extended_msg',\n",
       " '_mat',\n",
       " '_no_nep50_warning',\n",
       " '_pyinstaller_hooks_dir',\n",
       " '_pytesttester',\n",
       " '_set_promotion_state',\n",
       " '_specific_msg',\n",
       " '_typing',\n",
       " '_using_numpy2_behavior',\n",
       " '_utils',\n",
       " 'abs',\n",
       " 'absolute',\n",
       " 'add',\n",
       " 'add_docstring',\n",
       " 'add_newdoc',\n",
       " 'add_newdoc_ufunc',\n",
       " 'all',\n",
       " 'allclose',\n",
       " 'alltrue',\n",
       " 'amax',\n",
       " 'amin',\n",
       " 'angle',\n",
       " 'any',\n",
       " 'append',\n",
       " 'apply_along_axis',\n",
       " 'apply_over_axes',\n",
       " 'arange',\n",
       " 'arccos',\n",
       " 'arccosh',\n",
       " 'arcsin',\n",
       " 'arcsinh',\n",
       " 'arctan',\n",
       " 'arctan2',\n",
       " 'arctanh',\n",
       " 'argmax',\n",
       " 'argmin',\n",
       " 'argpartition',\n",
       " 'argsort',\n",
       " 'argwhere',\n",
       " 'around',\n",
       " 'array',\n",
       " 'array2string',\n",
       " 'array_equal',\n",
       " 'array_equiv',\n",
       " 'array_repr',\n",
       " 'array_split',\n",
       " 'array_str',\n",
       " 'asanyarray',\n",
       " 'asarray',\n",
       " 'asarray_chkfinite',\n",
       " 'ascontiguousarray',\n",
       " 'asfarray',\n",
       " 'asfortranarray',\n",
       " 'asmatrix',\n",
       " 'atleast_1d',\n",
       " 'atleast_2d',\n",
       " 'atleast_3d',\n",
       " 'average',\n",
       " 'bartlett',\n",
       " 'base_repr',\n",
       " 'binary_repr',\n",
       " 'bincount',\n",
       " 'bitwise_and',\n",
       " 'bitwise_not',\n",
       " 'bitwise_or',\n",
       " 'bitwise_xor',\n",
       " 'blackman',\n",
       " 'block',\n",
       " 'bmat',\n",
       " 'bool_',\n",
       " 'broadcast',\n",
       " 'broadcast_arrays',\n",
       " 'broadcast_shapes',\n",
       " 'broadcast_to',\n",
       " 'busday_count',\n",
       " 'busday_offset',\n",
       " 'busdaycalendar',\n",
       " 'byte',\n",
       " 'byte_bounds',\n",
       " 'bytes_',\n",
       " 'c_',\n",
       " 'can_cast',\n",
       " 'cast',\n",
       " 'cbrt',\n",
       " 'cdouble',\n",
       " 'ceil',\n",
       " 'cfloat',\n",
       " 'char',\n",
       " 'character',\n",
       " 'chararray',\n",
       " 'choose',\n",
       " 'clip',\n",
       " 'clongdouble',\n",
       " 'clongfloat',\n",
       " 'column_stack',\n",
       " 'common_type',\n",
       " 'compare_chararrays',\n",
       " 'compat',\n",
       " 'complex128',\n",
       " 'complex64',\n",
       " 'complex_',\n",
       " 'complexfloating',\n",
       " 'compress',\n",
       " 'concatenate',\n",
       " 'conj',\n",
       " 'conjugate',\n",
       " 'convolve',\n",
       " 'copy',\n",
       " 'copysign',\n",
       " 'copyto',\n",
       " 'corrcoef',\n",
       " 'correlate',\n",
       " 'cos',\n",
       " 'cosh',\n",
       " 'count_nonzero',\n",
       " 'cov',\n",
       " 'cross',\n",
       " 'csingle',\n",
       " 'ctypeslib',\n",
       " 'cumprod',\n",
       " 'cumproduct',\n",
       " 'cumsum',\n",
       " 'datetime64',\n",
       " 'datetime_as_string',\n",
       " 'datetime_data',\n",
       " 'deg2rad',\n",
       " 'degrees',\n",
       " 'delete',\n",
       " 'deprecate',\n",
       " 'deprecate_with_doc',\n",
       " 'diag',\n",
       " 'diag_indices',\n",
       " 'diag_indices_from',\n",
       " 'diagflat',\n",
       " 'diagonal',\n",
       " 'diff',\n",
       " 'digitize',\n",
       " 'disp',\n",
       " 'divide',\n",
       " 'divmod',\n",
       " 'dot',\n",
       " 'double',\n",
       " 'dsplit',\n",
       " 'dstack',\n",
       " 'dtype',\n",
       " 'dtypes',\n",
       " 'e',\n",
       " 'ediff1d',\n",
       " 'einsum',\n",
       " 'einsum_path',\n",
       " 'emath',\n",
       " 'empty',\n",
       " 'empty_like',\n",
       " 'equal',\n",
       " 'errstate',\n",
       " 'euler_gamma',\n",
       " 'exceptions',\n",
       " 'exp',\n",
       " 'exp2',\n",
       " 'expand_dims',\n",
       " 'expm1',\n",
       " 'extract',\n",
       " 'eye',\n",
       " 'fabs',\n",
       " 'fastCopyAndTranspose',\n",
       " 'fft',\n",
       " 'fill_diagonal',\n",
       " 'find_common_type',\n",
       " 'finfo',\n",
       " 'fix',\n",
       " 'flatiter',\n",
       " 'flatnonzero',\n",
       " 'flexible',\n",
       " 'flip',\n",
       " 'fliplr',\n",
       " 'flipud',\n",
       " 'float16',\n",
       " 'float32',\n",
       " 'float64',\n",
       " 'float_',\n",
       " 'float_power',\n",
       " 'floating',\n",
       " 'floor',\n",
       " 'floor_divide',\n",
       " 'fmax',\n",
       " 'fmin',\n",
       " 'fmod',\n",
       " 'format_float_positional',\n",
       " 'format_float_scientific',\n",
       " 'format_parser',\n",
       " 'frexp',\n",
       " 'from_dlpack',\n",
       " 'frombuffer',\n",
       " 'fromfile',\n",
       " 'fromfunction',\n",
       " 'fromiter',\n",
       " 'frompyfunc',\n",
       " 'fromregex',\n",
       " 'fromstring',\n",
       " 'full',\n",
       " 'full_like',\n",
       " 'gcd',\n",
       " 'generic',\n",
       " 'genfromtxt',\n",
       " 'geomspace',\n",
       " 'get_array_wrap',\n",
       " 'get_include',\n",
       " 'get_printoptions',\n",
       " 'getbufsize',\n",
       " 'geterr',\n",
       " 'geterrcall',\n",
       " 'geterrobj',\n",
       " 'gradient',\n",
       " 'greater',\n",
       " 'greater_equal',\n",
       " 'half',\n",
       " 'hamming',\n",
       " 'hanning',\n",
       " 'heaviside',\n",
       " 'histogram',\n",
       " 'histogram2d',\n",
       " 'histogram_bin_edges',\n",
       " 'histogramdd',\n",
       " 'hsplit',\n",
       " 'hstack',\n",
       " 'hypot',\n",
       " 'i0',\n",
       " 'identity',\n",
       " 'iinfo',\n",
       " 'imag',\n",
       " 'in1d',\n",
       " 'index_exp',\n",
       " 'indices',\n",
       " 'inexact',\n",
       " 'inf',\n",
       " 'info',\n",
       " 'infty',\n",
       " 'inner',\n",
       " 'insert',\n",
       " 'int16',\n",
       " 'int32',\n",
       " 'int64',\n",
       " 'int8',\n",
       " 'int_',\n",
       " 'intc',\n",
       " 'integer',\n",
       " 'interp',\n",
       " 'intersect1d',\n",
       " 'intp',\n",
       " 'invert',\n",
       " 'is_busday',\n",
       " 'isclose',\n",
       " 'iscomplex',\n",
       " 'iscomplexobj',\n",
       " 'isfinite',\n",
       " 'isfortran',\n",
       " 'isin',\n",
       " 'isinf',\n",
       " 'isnan',\n",
       " 'isnat',\n",
       " 'isneginf',\n",
       " 'isposinf',\n",
       " 'isreal',\n",
       " 'isrealobj',\n",
       " 'isscalar',\n",
       " 'issctype',\n",
       " 'issubclass_',\n",
       " 'issubdtype',\n",
       " 'issubsctype',\n",
       " 'iterable',\n",
       " 'ix_',\n",
       " 'kaiser',\n",
       " 'kron',\n",
       " 'lcm',\n",
       " 'ldexp',\n",
       " 'left_shift',\n",
       " 'less',\n",
       " 'less_equal',\n",
       " 'lexsort',\n",
       " 'lib',\n",
       " 'linalg',\n",
       " 'linspace',\n",
       " 'little_endian',\n",
       " 'load',\n",
       " 'loadtxt',\n",
       " 'log',\n",
       " 'log10',\n",
       " 'log1p',\n",
       " 'log2',\n",
       " 'logaddexp',\n",
       " 'logaddexp2',\n",
       " 'logical_and',\n",
       " 'logical_not',\n",
       " 'logical_or',\n",
       " 'logical_xor',\n",
       " 'logspace',\n",
       " 'longcomplex',\n",
       " 'longdouble',\n",
       " 'longfloat',\n",
       " 'longlong',\n",
       " 'lookfor',\n",
       " 'ma',\n",
       " 'mask_indices',\n",
       " 'mat',\n",
       " 'matmul',\n",
       " 'matrix',\n",
       " 'max',\n",
       " 'maximum',\n",
       " 'maximum_sctype',\n",
       " 'may_share_memory',\n",
       " 'mean',\n",
       " 'median',\n",
       " 'memmap',\n",
       " 'meshgrid',\n",
       " 'mgrid',\n",
       " 'min',\n",
       " 'min_scalar_type',\n",
       " 'minimum',\n",
       " 'mintypecode',\n",
       " 'mod',\n",
       " 'modf',\n",
       " 'moveaxis',\n",
       " 'msort',\n",
       " 'multiply',\n",
       " 'nan',\n",
       " 'nan_to_num',\n",
       " 'nanargmax',\n",
       " 'nanargmin',\n",
       " 'nancumprod',\n",
       " 'nancumsum',\n",
       " 'nanmax',\n",
       " 'nanmean',\n",
       " 'nanmedian',\n",
       " 'nanmin',\n",
       " 'nanpercentile',\n",
       " 'nanprod',\n",
       " 'nanquantile',\n",
       " 'nanstd',\n",
       " 'nansum',\n",
       " 'nanvar',\n",
       " 'nbytes',\n",
       " 'ndarray',\n",
       " 'ndenumerate',\n",
       " 'ndim',\n",
       " 'ndindex',\n",
       " 'nditer',\n",
       " 'negative',\n",
       " 'nested_iters',\n",
       " 'newaxis',\n",
       " 'nextafter',\n",
       " 'nonzero',\n",
       " 'not_equal',\n",
       " 'numarray',\n",
       " 'number',\n",
       " 'obj2sctype',\n",
       " 'object_',\n",
       " 'ogrid',\n",
       " 'oldnumeric',\n",
       " 'ones',\n",
       " 'ones_like',\n",
       " 'outer',\n",
       " 'packbits',\n",
       " 'pad',\n",
       " 'partition',\n",
       " 'percentile',\n",
       " 'pi',\n",
       " 'piecewise',\n",
       " 'place',\n",
       " 'poly',\n",
       " 'poly1d',\n",
       " 'polyadd',\n",
       " 'polyder',\n",
       " 'polydiv',\n",
       " 'polyfit',\n",
       " 'polyint',\n",
       " 'polymul',\n",
       " 'polynomial',\n",
       " 'polysub',\n",
       " 'polyval',\n",
       " 'positive',\n",
       " 'power',\n",
       " 'printoptions',\n",
       " 'prod',\n",
       " 'product',\n",
       " 'promote_types',\n",
       " 'ptp',\n",
       " 'put',\n",
       " 'put_along_axis',\n",
       " 'putmask',\n",
       " 'quantile',\n",
       " 'r_',\n",
       " 'rad2deg',\n",
       " 'radians',\n",
       " 'random',\n",
       " 'ravel',\n",
       " 'ravel_multi_index',\n",
       " 'real',\n",
       " 'real_if_close',\n",
       " 'rec',\n",
       " 'recarray',\n",
       " 'recfromcsv',\n",
       " 'recfromtxt',\n",
       " 'reciprocal',\n",
       " 'record',\n",
       " 'remainder',\n",
       " 'repeat',\n",
       " 'require',\n",
       " 'reshape',\n",
       " 'resize',\n",
       " 'result_type',\n",
       " 'right_shift',\n",
       " 'rint',\n",
       " 'roll',\n",
       " 'rollaxis',\n",
       " 'roots',\n",
       " 'rot90',\n",
       " 'round',\n",
       " 'round_',\n",
       " 'row_stack',\n",
       " 's_',\n",
       " 'safe_eval',\n",
       " 'save',\n",
       " 'savetxt',\n",
       " 'savez',\n",
       " 'savez_compressed',\n",
       " 'sctype2char',\n",
       " 'sctypeDict',\n",
       " 'sctypes',\n",
       " 'searchsorted',\n",
       " 'select',\n",
       " 'set_numeric_ops',\n",
       " 'set_printoptions',\n",
       " 'set_string_function',\n",
       " 'setbufsize',\n",
       " 'setdiff1d',\n",
       " 'seterr',\n",
       " 'seterrcall',\n",
       " 'seterrobj',\n",
       " 'setxor1d',\n",
       " 'shape',\n",
       " 'shares_memory',\n",
       " 'short',\n",
       " 'show_config',\n",
       " 'show_runtime',\n",
       " 'sign',\n",
       " 'signbit',\n",
       " 'signedinteger',\n",
       " 'sin',\n",
       " 'sinc',\n",
       " 'single',\n",
       " 'singlecomplex',\n",
       " 'sinh',\n",
       " 'size',\n",
       " 'sometrue',\n",
       " 'sort',\n",
       " 'sort_complex',\n",
       " 'source',\n",
       " 'spacing',\n",
       " 'split',\n",
       " 'sqrt',\n",
       " 'square',\n",
       " 'squeeze',\n",
       " 'stack',\n",
       " 'std',\n",
       " 'str_',\n",
       " 'string_',\n",
       " 'subtract',\n",
       " 'sum',\n",
       " 'swapaxes',\n",
       " 'take',\n",
       " 'take_along_axis',\n",
       " 'tan',\n",
       " 'tanh',\n",
       " 'tensordot',\n",
       " 'test',\n",
       " 'testing',\n",
       " 'tile',\n",
       " 'timedelta64',\n",
       " 'trace',\n",
       " 'tracemalloc_domain',\n",
       " 'transpose',\n",
       " 'trapz',\n",
       " 'tri',\n",
       " 'tril',\n",
       " 'tril_indices',\n",
       " 'tril_indices_from',\n",
       " 'trim_zeros',\n",
       " 'triu',\n",
       " 'triu_indices',\n",
       " 'triu_indices_from',\n",
       " 'true_divide',\n",
       " 'trunc',\n",
       " 'typecodes',\n",
       " 'typename',\n",
       " 'ubyte',\n",
       " 'ufunc',\n",
       " 'uint',\n",
       " 'uint16',\n",
       " 'uint32',\n",
       " 'uint64',\n",
       " 'uint8',\n",
       " 'uintc',\n",
       " 'uintp',\n",
       " 'ulonglong',\n",
       " 'unicode_',\n",
       " 'union1d',\n",
       " 'unique',\n",
       " 'unpackbits',\n",
       " 'unravel_index',\n",
       " 'unsignedinteger',\n",
       " 'unwrap',\n",
       " 'ushort',\n",
       " 'vander',\n",
       " 'var',\n",
       " 'vdot',\n",
       " 'vectorize',\n",
       " 'version',\n",
       " 'void',\n",
       " 'vsplit',\n",
       " 'vstack',\n",
       " 'where',\n",
       " 'who',\n",
       " 'zeros',\n",
       " 'zeros_like']"
      ]
     },
     "execution_count": 3,
     "metadata": {},
     "output_type": "execute_result"
    }
   ],
   "source": [
    "dir(np)"
   ]
  },
  {
   "cell_type": "code",
   "execution_count": 4,
   "id": "04015ac1",
   "metadata": {},
   "outputs": [
    {
     "data": {
      "text/plain": [
       "591"
      ]
     },
     "execution_count": 4,
     "metadata": {},
     "output_type": "execute_result"
    }
   ],
   "source": [
    "len(dir(np))"
   ]
  },
  {
   "cell_type": "code",
   "execution_count": 5,
   "id": "9118ecbd",
   "metadata": {},
   "outputs": [],
   "source": [
    "# This all are the numpy fucntion but as a datascientis we have to use few."
   ]
  },
  {
   "cell_type": "code",
   "execution_count": 7,
   "id": "c2704a12",
   "metadata": {},
   "outputs": [
    {
     "data": {
      "text/plain": [
       "3.1622776601683795"
      ]
     },
     "execution_count": 7,
     "metadata": {},
     "output_type": "execute_result"
    }
   ],
   "source": [
    "np.sqrt(10) #sqrt=square root"
   ]
  },
  {
   "cell_type": "code",
   "execution_count": 11,
   "id": "8480a9b9",
   "metadata": {},
   "outputs": [
    {
     "data": {
      "text/plain": [
       "25"
      ]
     },
     "execution_count": 11,
     "metadata": {},
     "output_type": "execute_result"
    }
   ],
   "source": [
    "np.amin([60,82,25,67,89]) #get minimum value"
   ]
  },
  {
   "cell_type": "code",
   "execution_count": 10,
   "id": "583356a8",
   "metadata": {},
   "outputs": [
    {
     "name": "stdout",
     "output_type": "stream",
     "text": [
      "Minimum Value in [60,82,25,67,89]:   25\n"
     ]
    }
   ],
   "source": [
    "print(\"Minimum Value in [60,82,25,67,89]: \",np.amin([60,82,25,67,89]))"
   ]
  },
  {
   "cell_type": "code",
   "execution_count": 13,
   "id": "c5ac37ca",
   "metadata": {},
   "outputs": [
    {
     "data": {
      "text/plain": [
       "89"
      ]
     },
     "execution_count": 13,
     "metadata": {},
     "output_type": "execute_result"
    }
   ],
   "source": [
    "np.amax([60,82,25,67,89]) #Get Maximum  Value"
   ]
  },
  {
   "cell_type": "code",
   "execution_count": 14,
   "id": "be8323c2",
   "metadata": {},
   "outputs": [
    {
     "name": "stdout",
     "output_type": "stream",
     "text": [
      "Maximum Value in [60,82,25,67,89]:  89\n"
     ]
    }
   ],
   "source": [
    "print(\"Maximum Value in [60,82,25,67,89]: \",np.amax([60,82,25,67,89]))"
   ]
  },
  {
   "cell_type": "code",
   "execution_count": 15,
   "id": "08172a45",
   "metadata": {},
   "outputs": [],
   "source": [
    "#Rounded off to next number  using ceiling."
   ]
  },
  {
   "cell_type": "code",
   "execution_count": 16,
   "id": "80d78eaf",
   "metadata": {},
   "outputs": [
    {
     "data": {
      "text/plain": [
       "30.0"
      ]
     },
     "execution_count": 16,
     "metadata": {},
     "output_type": "execute_result"
    }
   ],
   "source": [
    "np.ceil(29.1) #its means when we use ceil they give roundfigured answer."
   ]
  },
  {
   "cell_type": "code",
   "execution_count": 18,
   "id": "fd904095",
   "metadata": {},
   "outputs": [
    {
     "data": {
      "text/plain": [
       "4.0"
      ]
     },
     "execution_count": 18,
     "metadata": {},
     "output_type": "execute_result"
    }
   ],
   "source": [
    "np.ceil(np.sqrt(10))"
   ]
  },
  {
   "cell_type": "code",
   "execution_count": 20,
   "id": "79d65ce4",
   "metadata": {},
   "outputs": [
    {
     "data": {
      "text/plain": [
       "35.0"
      ]
     },
     "execution_count": 20,
     "metadata": {},
     "output_type": "execute_result"
    }
   ],
   "source": [
    "np.ceil(34.65) # it will give you round figure values"
   ]
  },
  {
   "cell_type": "code",
   "execution_count": 21,
   "id": "21894b47",
   "metadata": {},
   "outputs": [
    {
     "data": {
      "text/plain": [
       "array([4.89897949, 8.71779789, 6.70820393, 7.        ])"
      ]
     },
     "execution_count": 21,
     "metadata": {},
     "output_type": "execute_result"
    }
   ],
   "source": [
    "np.sqrt([24,76,45,49])"
   ]
  },
  {
   "cell_type": "code",
   "execution_count": 22,
   "id": "beedfca2",
   "metadata": {},
   "outputs": [
    {
     "data": {
      "text/plain": [
       "27.324981305147073"
      ]
     },
     "execution_count": 22,
     "metadata": {},
     "output_type": "execute_result"
    }
   ],
   "source": [
    "np.sum(np.sqrt([24,76,45,49]))"
   ]
  },
  {
   "cell_type": "code",
   "execution_count": 23,
   "id": "4fb473eb",
   "metadata": {},
   "outputs": [
    {
     "data": {
      "text/plain": [
       "28.0"
      ]
     },
     "execution_count": 23,
     "metadata": {},
     "output_type": "execute_result"
    }
   ],
   "source": [
    "np.ceil(np.sum(np.sqrt([24,76,45,49])))"
   ]
  },
  {
   "cell_type": "code",
   "execution_count": 24,
   "id": "f6745d3b",
   "metadata": {},
   "outputs": [],
   "source": [
    "# Similarly there are many numpy function ,you can explore them for you knowledge purpose .\n",
    "# But we use limited function in our course let's explore them."
   ]
  },
  {
   "cell_type": "code",
   "execution_count": 25,
   "id": "81536fd9",
   "metadata": {},
   "outputs": [
    {
     "data": {
      "text/plain": [
       "array([ 5,  9, 13])"
      ]
     },
     "execution_count": 25,
     "metadata": {},
     "output_type": "execute_result"
    }
   ],
   "source": [
    "np.array([5,9,13])\n"
   ]
  },
  {
   "cell_type": "code",
   "execution_count": 26,
   "id": "52f5a234",
   "metadata": {},
   "outputs": [
    {
     "data": {
      "text/plain": [
       "list"
      ]
     },
     "execution_count": 26,
     "metadata": {},
     "output_type": "execute_result"
    }
   ],
   "source": [
    "type([5,9,13])"
   ]
  },
  {
   "cell_type": "code",
   "execution_count": 27,
   "id": "6aa0285f",
   "metadata": {},
   "outputs": [],
   "source": [
    "xyz=np.array([5,9,13])"
   ]
  },
  {
   "cell_type": "code",
   "execution_count": 28,
   "id": "4c2c3f8d",
   "metadata": {},
   "outputs": [
    {
     "data": {
      "text/plain": [
       "numpy.ndarray"
      ]
     },
     "execution_count": 28,
     "metadata": {},
     "output_type": "execute_result"
    }
   ],
   "source": [
    "type(xyz)"
   ]
  },
  {
   "cell_type": "code",
   "execution_count": 29,
   "id": "6fb9b1ac",
   "metadata": {},
   "outputs": [],
   "source": [
    "#Two Dimension"
   ]
  },
  {
   "cell_type": "code",
   "execution_count": 30,
   "id": "458920be",
   "metadata": {},
   "outputs": [
    {
     "name": "stdout",
     "output_type": "stream",
     "text": [
      "Type -  int32\n",
      "\n",
      " [[1 2]\n",
      " [3 4]\n",
      " [4 5]]\n"
     ]
    }
   ],
   "source": [
    "a=np.array([[1,2],[3,4],[4,5]])\n",
    "print(\"Type - \",a.dtype)\n",
    "\n",
    "print(\"\\n\",a)"
   ]
  },
  {
   "cell_type": "code",
   "execution_count": 31,
   "id": "7408aace",
   "metadata": {},
   "outputs": [
    {
     "data": {
      "text/plain": [
       "numpy.ndarray"
      ]
     },
     "execution_count": 31,
     "metadata": {},
     "output_type": "execute_result"
    }
   ],
   "source": [
    "type(a)"
   ]
  },
  {
   "cell_type": "code",
   "execution_count": 32,
   "id": "bf8d906e",
   "metadata": {},
   "outputs": [],
   "source": [
    "#  dtype.conversion"
   ]
  },
  {
   "cell_type": "code",
   "execution_count": 33,
   "id": "053e378e",
   "metadata": {},
   "outputs": [
    {
     "data": {
      "text/plain": [
       "array([2., 5., 7., 8.])"
      ]
     },
     "execution_count": 33,
     "metadata": {},
     "output_type": "execute_result"
    }
   ],
   "source": [
    "np.array([2,5,7,8], dtype = 'float')"
   ]
  },
  {
   "cell_type": "code",
   "execution_count": 34,
   "id": "e71ede28",
   "metadata": {},
   "outputs": [
    {
     "data": {
      "text/plain": [
       "array(['2', '5', '7', '8'], dtype='<U1')"
      ]
     },
     "execution_count": 34,
     "metadata": {},
     "output_type": "execute_result"
    }
   ],
   "source": [
    "#lets check is it convert to string?\n",
    "\n",
    "np.array([2,5,7,8], dtype = 'str')"
   ]
  },
  {
   "cell_type": "code",
   "execution_count": 35,
   "id": "0911528f",
   "metadata": {},
   "outputs": [
    {
     "name": "stdout",
     "output_type": "stream",
     "text": [
      "[1 2]\n"
     ]
    }
   ],
   "source": [
    "a=[1,2]\n",
    "c=np.array(a)\n",
    "print(c)"
   ]
  },
  {
   "cell_type": "code",
   "execution_count": 37,
   "id": "a907216e",
   "metadata": {},
   "outputs": [
    {
     "name": "stdout",
     "output_type": "stream",
     "text": [
      "[1 2]\n"
     ]
    }
   ],
   "source": [
    "#copy array into other\n",
    "\n",
    "b=np.asarray(c)\n",
    "print(b)"
   ]
  },
  {
   "cell_type": "code",
   "execution_count": 38,
   "id": "4f41ee32",
   "metadata": {},
   "outputs": [],
   "source": [
    "my_mat=[[1,2,3],[4,5,6],[7,8,9]]"
   ]
  },
  {
   "cell_type": "code",
   "execution_count": 40,
   "id": "39373b38",
   "metadata": {},
   "outputs": [
    {
     "data": {
      "text/plain": [
       "array([[1, 2, 3],\n",
       "       [4, 5, 6],\n",
       "       [7, 8, 9]])"
      ]
     },
     "execution_count": 40,
     "metadata": {},
     "output_type": "execute_result"
    }
   ],
   "source": [
    "mat = np.array(my_mat)\n",
    "mat"
   ]
  },
  {
   "cell_type": "code",
   "execution_count": 44,
   "id": "cd33ac6c",
   "metadata": {},
   "outputs": [
    {
     "name": "stdout",
     "output_type": "stream",
     "text": [
      "Type/class of this object :  <class 'numpy.ndarray'>\n"
     ]
    }
   ],
   "source": [
    "print(\"Type/class of this object : \", (type(mat)))"
   ]
  },
  {
   "cell_type": "code",
   "execution_count": 47,
   "id": "a297c8ba",
   "metadata": {},
   "outputs": [
    {
     "name": "stdout",
     "output_type": "stream",
     "text": [
      "Here is the marks \n",
      "-----------\n",
      " [[1 2 3]\n",
      " [4 5 6]\n",
      " [7 8 9]] \n",
      "-----------\n"
     ]
    }
   ],
   "source": [
    "print(\"Here is the marks \\n-----------\\n\",mat,\"\\n-----------\")"
   ]
  },
  {
   "cell_type": "code",
   "execution_count": 49,
   "id": "6751d4ce",
   "metadata": {},
   "outputs": [
    {
     "name": "stdout",
     "output_type": "stream",
     "text": [
      "print dimension of this matrix :  2\n"
     ]
    }
   ],
   "source": [
    "print(\"print dimension of this matrix : \",mat.ndim) #ndim gives dimension,2 for a matrix and 1 for vector"
   ]
  },
  {
   "cell_type": "code",
   "execution_count": 50,
   "id": "590f408e",
   "metadata": {},
   "outputs": [
    {
     "name": "stdout",
     "output_type": "stream",
     "text": [
      "size of the matrix :  9\n"
     ]
    }
   ],
   "source": [
    "print(\"size of the matrix : \",mat.size)#size shows total number elements"
   ]
  },
  {
   "cell_type": "code",
   "execution_count": 51,
   "id": "70e4aa30",
   "metadata": {},
   "outputs": [
    {
     "name": "stdout",
     "output_type": "stream",
     "text": [
      "Shape of the matrix :  (3, 3)\n"
     ]
    }
   ],
   "source": [
    "print(\"Shape of the matrix : \",mat.shape)#shape shows how many rows and column"
   ]
  },
  {
   "cell_type": "code",
   "execution_count": 52,
   "id": "c16dfcc1",
   "metadata": {},
   "outputs": [
    {
     "name": "stdout",
     "output_type": "stream",
     "text": [
      "Data Type of the matrix ;  int32\n"
     ]
    }
   ],
   "source": [
    "print(\"Data Type of the matrix ; \",mat.dtype)#shoes which type"
   ]
  },
  {
   "cell_type": "code",
   "execution_count": 53,
   "id": "9ed2b912",
   "metadata": {},
   "outputs": [],
   "source": [
    "#arange and linespace"
   ]
  },
  {
   "cell_type": "code",
   "execution_count": 54,
   "id": "8d19fefe",
   "metadata": {},
   "outputs": [],
   "source": [
    "#dont work with python range function"
   ]
  },
  {
   "cell_type": "code",
   "execution_count": 57,
   "id": "54bec1c4",
   "metadata": {},
   "outputs": [
    {
     "data": {
      "text/plain": [
       "array([0, 1, 2, 3, 4, 5, 6, 7, 8, 9])"
      ]
     },
     "execution_count": 57,
     "metadata": {},
     "output_type": "execute_result"
    }
   ],
   "source": [
    "a = np.arange(10)\n",
    "a"
   ]
  },
  {
   "cell_type": "code",
   "execution_count": 58,
   "id": "25a1e7c2",
   "metadata": {},
   "outputs": [],
   "source": [
    "#in numpy range function also work with float number"
   ]
  },
  {
   "cell_type": "code",
   "execution_count": 61,
   "id": "6d4be9a1",
   "metadata": {},
   "outputs": [
    {
     "data": {
      "text/plain": [
       "array([10.5, 12.5, 14.5, 16.5, 18.5])"
      ]
     },
     "execution_count": 61,
     "metadata": {},
     "output_type": "execute_result"
    }
   ],
   "source": [
    "a=np.arange(10.5,20.4,2)\n",
    "a"
   ]
  },
  {
   "cell_type": "code",
   "execution_count": 62,
   "id": "c90e2ebc",
   "metadata": {},
   "outputs": [],
   "source": [
    "#Reverse Order"
   ]
  },
  {
   "cell_type": "code",
   "execution_count": 63,
   "id": "9f27f4fc",
   "metadata": {},
   "outputs": [
    {
     "name": "stdout",
     "output_type": "stream",
     "text": [
      "Every 5th number from 50 in reverse order \n",
      " [50 45 40 35 30 25 20 15 10  5  0]\n"
     ]
    }
   ],
   "source": [
    "print(\"Every 5th number from 50 in reverse order \\n\",np.arange(50,-1,-5))\n"
   ]
  },
  {
   "cell_type": "code",
   "execution_count": 69,
   "id": "f93f2780",
   "metadata": {},
   "outputs": [
    {
     "name": "stdout",
     "output_type": "stream",
     "text": [
      "linearly space numbers between 1 and 5 \n",
      "-----------------\n",
      "[10.  17.5 25.  32.5 40. ] \n",
      "-----------------\n"
     ]
    }
   ],
   "source": [
    "print(\"linearly space numbers between 1 and 5 \\n-----------------\")\n",
    "print(np.linspace(10,40,5),\"\\n-----------------\")"
   ]
  },
  {
   "cell_type": "code",
   "execution_count": 70,
   "id": "f4d76e66",
   "metadata": {},
   "outputs": [],
   "source": [
    "#Include end points and check space between the points\n",
    "#By default endpoint=True\n",
    "#Bydefaul retstep=False"
   ]
  },
  {
   "cell_type": "code",
   "execution_count": 71,
   "id": "0a822cfc",
   "metadata": {},
   "outputs": [
    {
     "data": {
      "text/plain": [
       "(array([2.        , 2.33333333, 2.66666667, 3.        ]), 0.3333333333333333)"
      ]
     },
     "execution_count": 71,
     "metadata": {},
     "output_type": "execute_result"
    }
   ],
   "source": [
    "np.linspace(2.0,3.0,num=4,endpoint=True,retstep=True)"
   ]
  },
  {
   "cell_type": "code",
   "execution_count": 76,
   "id": "324e8d92",
   "metadata": {},
   "outputs": [
    {
     "data": {
      "text/plain": [
       "array([2.        , 2.66666667, 3.33333333, 4.        ])"
      ]
     },
     "execution_count": 76,
     "metadata": {},
     "output_type": "execute_result"
    }
   ],
   "source": [
    "np.linspace(2.0,4.0,num =4, endpoint = True , retstep = False)"
   ]
  },
  {
   "cell_type": "code",
   "execution_count": 77,
   "id": "c5fb16da",
   "metadata": {},
   "outputs": [
    {
     "data": {
      "text/plain": [
       "array([20.5 , 21.52, 22.54, 23.56, 24.58, 25.6 ])"
      ]
     },
     "execution_count": 77,
     "metadata": {},
     "output_type": "execute_result"
    }
   ],
   "source": [
    "np.linspace(20.5,25.6, num =6)"
   ]
  },
  {
   "cell_type": "code",
   "execution_count": 80,
   "id": "8d7f05aa",
   "metadata": {},
   "outputs": [
    {
     "data": {
      "text/plain": [
       "(array([20.5 , 21.35, 22.2 , 23.05, 23.9 , 24.75]), 0.8500000000000002)"
      ]
     },
     "execution_count": 80,
     "metadata": {},
     "output_type": "execute_result"
    }
   ],
   "source": [
    "np.linspace(20.5,25.6, num =6, endpoint = False, retstep = True)"
   ]
  },
  {
   "cell_type": "code",
   "execution_count": 81,
   "id": "cd2384e7",
   "metadata": {},
   "outputs": [
    {
     "data": {
      "text/plain": [
       "(array([20.5 , 21.52, 22.54, 23.56, 24.58, 25.6 ]), 1.0200000000000002)"
      ]
     },
     "execution_count": 81,
     "metadata": {},
     "output_type": "execute_result"
    }
   ],
   "source": [
    "np.linspace(20.5,25.6, num =6, endpoint = True, retstep = True)"
   ]
  },
  {
   "cell_type": "code",
   "execution_count": 86,
   "id": "206bacd4",
   "metadata": {},
   "outputs": [
    {
     "name": "stdout",
     "output_type": "stream",
     "text": [
      "Vector of Zeros \n",
      " ------------------\n",
      " [0. 0. 0. 0. 0.] \n",
      "-------------------\n"
     ]
    }
   ],
   "source": [
    "#Matrics creation\n",
    "\n",
    "print(\"Vector of Zeros \\n ------------------\\n\", np.zeros([5]), \"\\n-------------------\")"
   ]
  },
  {
   "cell_type": "code",
   "execution_count": 87,
   "id": "cee36c26",
   "metadata": {},
   "outputs": [
    {
     "name": "stdout",
     "output_type": "stream",
     "text": [
      "Vector of Zeros \n",
      " ------------------\n",
      " [[0. 0. 0.]\n",
      " [0. 0. 0.]\n",
      " [0. 0. 0.]\n",
      " [0. 0. 0.]\n",
      " [0. 0. 0.]] \n",
      "-------------------\n"
     ]
    }
   ],
   "source": [
    "print(\"Vector of Zeros \\n ------------------\\n\", np.zeros([5,3]), \"\\n-------------------\")"
   ]
  },
  {
   "cell_type": "code",
   "execution_count": 91,
   "id": "e4dfdc79",
   "metadata": {},
   "outputs": [
    {
     "name": "stdout",
     "output_type": "stream",
     "text": [
      "Vector of one \n",
      " ------------------\n",
      " [[1. 1. 1.]\n",
      " [1. 1. 1.]\n",
      " [1. 1. 1.]\n",
      " [1. 1. 1.]\n",
      " [1. 1. 1.]] \n",
      "-------------------\n"
     ]
    }
   ],
   "source": [
    "print(\"Vector of one \\n ------------------\\n\", np.ones([5,3]), \"\\n-------------------\")"
   ]
  },
  {
   "cell_type": "code",
   "execution_count": 92,
   "id": "fff1626e",
   "metadata": {},
   "outputs": [
    {
     "name": "stdout",
     "output_type": "stream",
     "text": [
      "Vector of 5 \n",
      " ------------------\n",
      " [[5. 5. 5.]\n",
      " [5. 5. 5.]\n",
      " [5. 5. 5.]\n",
      " [5. 5. 5.]\n",
      " [5. 5. 5.]] \n",
      "-------------------\n"
     ]
    }
   ],
   "source": [
    "print(\"Vector of 5 \\n ------------------\\n\", 5*(np.ones([5,3])), \"\\n-------------------\")"
   ]
  },
  {
   "cell_type": "code",
   "execution_count": 93,
   "id": "e133ad4a",
   "metadata": {},
   "outputs": [
    {
     "data": {
      "text/plain": [
       "array([[5, 5, 5],\n",
       "       [5, 5, 5],\n",
       "       [5, 5, 5],\n",
       "       [5, 5, 5],\n",
       "       [5, 5, 5]])"
      ]
     },
     "execution_count": 93,
     "metadata": {},
     "output_type": "execute_result"
    }
   ],
   "source": [
    "5*(np.ones([5,3], dtype = \"int\")) # we can change the data type as well"
   ]
  },
  {
   "cell_type": "code",
   "execution_count": 96,
   "id": "775e8f6d",
   "metadata": {},
   "outputs": [
    {
     "data": {
      "text/plain": [
       "array([[ 0,  1,  2,  3,  4,  5],\n",
       "       [ 6,  7,  8,  9, 10, 11],\n",
       "       [12, 13, 14, 15, 16, 17],\n",
       "       [18, 19, 20, 21, 22, 23],\n",
       "       [24, 25, 26, 27, 28, 29]])"
      ]
     },
     "execution_count": 96,
     "metadata": {},
     "output_type": "execute_result"
    }
   ],
   "source": [
    "#Construct diagonal matrix\n",
    "\n",
    "np.arange(30).reshape(5,6)"
   ]
  },
  {
   "cell_type": "code",
   "execution_count": 97,
   "id": "503f388d",
   "metadata": {},
   "outputs": [],
   "source": [
    "x = np.arange(30).reshape(5,6)"
   ]
  },
  {
   "cell_type": "code",
   "execution_count": 98,
   "id": "3414c2ed",
   "metadata": {},
   "outputs": [
    {
     "data": {
      "text/plain": [
       "array([[ 0,  1,  2,  3,  4,  5],\n",
       "       [ 6,  7,  8,  9, 10, 11],\n",
       "       [12, 13, 14, 15, 16, 17],\n",
       "       [18, 19, 20, 21, 22, 23],\n",
       "       [24, 25, 26, 27, 28, 29]])"
      ]
     },
     "execution_count": 98,
     "metadata": {},
     "output_type": "execute_result"
    }
   ],
   "source": [
    "x"
   ]
  },
  {
   "cell_type": "code",
   "execution_count": 101,
   "id": "ffd1880f",
   "metadata": {},
   "outputs": [
    {
     "data": {
      "text/plain": [
       "array([[30, 35],\n",
       "       [40, 45]])"
      ]
     },
     "execution_count": 101,
     "metadata": {},
     "output_type": "execute_result"
    }
   ],
   "source": [
    "np.arange(30,50,5).reshape(2,2)"
   ]
  },
  {
   "cell_type": "code",
   "execution_count": 102,
   "id": "e9bf07b0",
   "metadata": {},
   "outputs": [],
   "source": [
    "#Random Number Generation"
   ]
  },
  {
   "cell_type": "code",
   "execution_count": 103,
   "id": "978aff95",
   "metadata": {},
   "outputs": [],
   "source": [
    "import numpy as np"
   ]
  },
  {
   "cell_type": "code",
   "execution_count": 104,
   "id": "510fe251",
   "metadata": {},
   "outputs": [
    {
     "name": "stdout",
     "output_type": "stream",
     "text": [
      "Random number genration (from uniform distribution)\n"
     ]
    },
    {
     "data": {
      "text/plain": [
       "array([0.89286015, 0.33197981, 0.82122912, 0.04169663, 0.10765668,\n",
       "       0.59505206])"
      ]
     },
     "execution_count": 104,
     "metadata": {},
     "output_type": "execute_result"
    }
   ],
   "source": [
    "np.random.seed(6)\n",
    "print(\"Random number genration (from uniform distribution)\")\n",
    "np.random.rand(6)"
   ]
  },
  {
   "cell_type": "code",
   "execution_count": 116,
   "id": "11cd93c5",
   "metadata": {},
   "outputs": [
    {
     "data": {
      "text/plain": [
       "array([[0.9109522 , 0.46245591, 0.9429037 , 0.04049228],\n",
       "       [0.10745497, 0.75571959, 0.04177758, 0.45156315],\n",
       "       [0.81608583, 0.41919774, 0.18995912, 0.84341059],\n",
       "       [0.10724632, 0.28801859, 0.21696879, 0.46426722],\n",
       "       [0.31959039, 0.90909418, 0.78562738, 0.70575068],\n",
       "       [0.13990345, 0.61182134, 0.85149503, 0.92376847]])"
      ]
     },
     "execution_count": 116,
     "metadata": {},
     "output_type": "execute_result"
    }
   ],
   "source": [
    "np.random.rand(6,4) # Uniform distribution"
   ]
  },
  {
   "cell_type": "code",
   "execution_count": 107,
   "id": "faaef80e",
   "metadata": {},
   "outputs": [],
   "source": [
    "b =np.random.rand(6,4,2)"
   ]
  },
  {
   "cell_type": "code",
   "execution_count": 108,
   "id": "937cbaa6",
   "metadata": {},
   "outputs": [
    {
     "data": {
      "text/plain": [
       "numpy.ndarray"
      ]
     },
     "execution_count": 108,
     "metadata": {},
     "output_type": "execute_result"
    }
   ],
   "source": [
    "type(b)"
   ]
  },
  {
   "cell_type": "code",
   "execution_count": 110,
   "id": "eac1ae7a",
   "metadata": {},
   "outputs": [
    {
     "data": {
      "text/plain": [
       "3"
      ]
     },
     "execution_count": 110,
     "metadata": {},
     "output_type": "execute_result"
    }
   ],
   "source": [
    "b.ndim #check dimension"
   ]
  },
  {
   "cell_type": "code",
   "execution_count": 121,
   "id": "4ee016ef",
   "metadata": {},
   "outputs": [
    {
     "name": "stdout",
     "output_type": "stream",
     "text": [
      "Number from normal distribution with zero mean and standard deviation 1 i.e standard noraml \n",
      " \n"
     ]
    },
    {
     "data": {
      "text/plain": [
       "array([[-0.0328893 ,  0.64656168, -0.1735962 ,  0.41090073],\n",
       "       [ 1.75440845, -0.74722486, -1.81995834,  1.31659165],\n",
       "       [ 0.30258949,  0.71339106,  0.73718956, -0.33620004],\n",
       "       [ 0.20984291, -1.69392935, -0.06434559,  0.1013954 ],\n",
       "       [-1.15590566, -0.68065002, -0.11487073,  0.32687238],\n",
       "       [-0.16840314,  1.39313259,  0.74387068,  0.81423222]])"
      ]
     },
     "execution_count": 121,
     "metadata": {},
     "output_type": "execute_result"
    }
   ],
   "source": [
    "print(\"Number from normal distribution with zero mean and standard deviation 1 i.e standard noraml \\n \")\n",
    "np.random.randn(6,4) # Normal Distribution"
   ]
  },
  {
   "cell_type": "code",
   "execution_count": 132,
   "id": "0717d5e0",
   "metadata": {},
   "outputs": [
    {
     "name": "stdout",
     "output_type": "stream",
     "text": [
      "Random integer vector :  [15 14  8  9 15 18 15  5 19 14]\n"
     ]
    }
   ],
   "source": [
    "np.random.seed(6)\n",
    "\n",
    "print(\"Random integer vector : \",np.random.randint(5,20,10))"
   ]
  },
  {
   "cell_type": "code",
   "execution_count": 134,
   "id": "5f1dd65a",
   "metadata": {},
   "outputs": [
    {
     "name": "stdout",
     "output_type": "stream",
     "text": [
      "\n",
      " Random integer matrix\n",
      "[[10063  7288 25542 24903 24811 27712 19211]\n",
      " [28484  1366 29580 20610  5203 22436  9111]\n",
      " [13436 12138 10777 11185 28715 26564 21384]\n",
      " [22053 12364  9145 11810 28741 27554 18192]\n",
      " [26822  7472 14462  7062   252 17538  4106]\n",
      " [29821 13233 14438 10795   553  8270 22090]]\n"
     ]
    }
   ],
   "source": [
    "print(\"\\n Random integer matrix\")\n",
    "print(np.random.randint(1,30000,(6,7)))"
   ]
  },
  {
   "cell_type": "code",
   "execution_count": 135,
   "id": "34b06ce9",
   "metadata": {},
   "outputs": [],
   "source": [
    "#One of the real time example of randint is"
   ]
  },
  {
   "cell_type": "code",
   "execution_count": 136,
   "id": "ddbd6b55",
   "metadata": {},
   "outputs": [],
   "source": [
    "def generate_otp():\n",
    "    otp = np.random.randint(1000,1999,1)\n",
    "    print(\"Your OTP is \",otp)\n",
    "    user_otp = int(input(\"Please enter the OTP \"))\n",
    "    if user_otp == otp:\n",
    "        print(\"Login Successfully\")\n",
    "    else:\n",
    "        print('Please enter Valid OTP')"
   ]
  },
  {
   "cell_type": "code",
   "execution_count": 140,
   "id": "c6ba969f",
   "metadata": {},
   "outputs": [
    {
     "name": "stdout",
     "output_type": "stream",
     "text": [
      "Your OTP is  [1322]\n",
      "Please enter the OTP 1322\n",
      "Login Successfully\n"
     ]
    }
   ],
   "source": [
    "generate_otp()"
   ]
  },
  {
   "cell_type": "code",
   "execution_count": 179,
   "id": "f33e432b",
   "metadata": {},
   "outputs": [],
   "source": [
    "sk = np.random.randint(8,90, 7)"
   ]
  },
  {
   "cell_type": "code",
   "execution_count": 180,
   "id": "a68b97e9",
   "metadata": {},
   "outputs": [
    {
     "data": {
      "text/plain": [
       "array([63, 54, 86, 71, 52,  9, 25])"
      ]
     },
     "execution_count": 180,
     "metadata": {},
     "output_type": "execute_result"
    }
   ],
   "source": [
    "sk"
   ]
  },
  {
   "cell_type": "code",
   "execution_count": 156,
   "id": "fae7758e",
   "metadata": {},
   "outputs": [
    {
     "data": {
      "text/plain": [
       "numpy.ndarray"
      ]
     },
     "execution_count": 156,
     "metadata": {},
     "output_type": "execute_result"
    }
   ],
   "source": [
    "type(sk)"
   ]
  },
  {
   "cell_type": "code",
   "execution_count": 157,
   "id": "3f9cfda8",
   "metadata": {},
   "outputs": [],
   "source": [
    "#set minimum and maximum salary using a_min and a_max "
   ]
  },
  {
   "cell_type": "code",
   "execution_count": 158,
   "id": "36ab52e4",
   "metadata": {},
   "outputs": [
    {
     "data": {
      "text/plain": [
       "array([50, 36, 50, 50, 42, 36, 50])"
      ]
     },
     "execution_count": 158,
     "metadata": {},
     "output_type": "execute_result"
    }
   ],
   "source": [
    "np.clip(sk,a_min=20,a_max=50)# if we use clip method then all maximum and minimum value we can set as per our use"
   ]
  },
  {
   "cell_type": "code",
   "execution_count": 160,
   "id": "39e98dfe",
   "metadata": {},
   "outputs": [],
   "source": [
    "#If you want to find actual salary which are less then or greater than some salary use np.where\n",
    "#np.where gives index detail"
   ]
  },
  {
   "cell_type": "code",
   "execution_count": 165,
   "id": "b0d01c4b",
   "metadata": {},
   "outputs": [
    {
     "data": {
      "text/plain": [
       "(array([1, 5], dtype=int64),)"
      ]
     },
     "execution_count": 165,
     "metadata": {},
     "output_type": "execute_result"
    }
   ],
   "source": [
    "np.where(sk< 40) # it is showing index"
   ]
  },
  {
   "cell_type": "code",
   "execution_count": 166,
   "id": "a7e750ca",
   "metadata": {},
   "outputs": [
    {
     "data": {
      "text/plain": [
       "(array([1, 4, 5], dtype=int64),)"
      ]
     },
     "execution_count": 166,
     "metadata": {},
     "output_type": "execute_result"
    }
   ],
   "source": [
    "np.where(sk< 50)"
   ]
  },
  {
   "cell_type": "code",
   "execution_count": 168,
   "id": "f080e7e0",
   "metadata": {},
   "outputs": [
    {
     "data": {
      "text/plain": [
       "array([36, 42, 36])"
      ]
     },
     "execution_count": 168,
     "metadata": {},
     "output_type": "execute_result"
    }
   ],
   "source": [
    "sk[[1,4,5]] #we can check using index"
   ]
  },
  {
   "cell_type": "code",
   "execution_count": 171,
   "id": "2e4ee89f",
   "metadata": {},
   "outputs": [
    {
     "data": {
      "text/plain": [
       "(array([0, 2, 3, 6], dtype=int64),)"
      ]
     },
     "execution_count": 171,
     "metadata": {},
     "output_type": "execute_result"
    }
   ],
   "source": [
    "np.where(sk >=50)"
   ]
  },
  {
   "cell_type": "code",
   "execution_count": 184,
   "id": "1eb78e21",
   "metadata": {},
   "outputs": [
    {
     "data": {
      "text/plain": [
       "array([63, 86, 71, 25])"
      ]
     },
     "execution_count": 184,
     "metadata": {},
     "output_type": "execute_result"
    }
   ],
   "source": [
    "sk[[0, 2, 3, 6]]"
   ]
  },
  {
   "cell_type": "code",
   "execution_count": 183,
   "id": "97fdc4bb",
   "metadata": {},
   "outputs": [
    {
     "data": {
      "text/plain": [
       "(array([], dtype=int64),)"
      ]
     },
     "execution_count": 183,
     "metadata": {},
     "output_type": "execute_result"
    }
   ],
   "source": [
    "np.where(sk==58)"
   ]
  },
  {
   "cell_type": "code",
   "execution_count": 182,
   "id": "ffe6b50f",
   "metadata": {},
   "outputs": [
    {
     "data": {
      "text/plain": [
       "(array([0, 1, 2, 3, 4], dtype=int64),)"
      ]
     },
     "execution_count": 182,
     "metadata": {},
     "output_type": "execute_result"
    }
   ],
   "source": [
    "np.where(sk>50)"
   ]
  },
  {
   "cell_type": "code",
   "execution_count": 181,
   "id": "d336fb2f",
   "metadata": {},
   "outputs": [
    {
     "data": {
      "text/plain": [
       "array([63, 54, 86, 71, 52,  9, 25])"
      ]
     },
     "execution_count": 181,
     "metadata": {},
     "output_type": "execute_result"
    }
   ],
   "source": [
    "sk"
   ]
  },
  {
   "cell_type": "code",
   "execution_count": 186,
   "id": "7a688179",
   "metadata": {},
   "outputs": [],
   "source": [
    "import numpy as np\n",
    "from numpy.random import randint as ri"
   ]
  },
  {
   "cell_type": "code",
   "execution_count": 190,
   "id": "4a0801b5",
   "metadata": {},
   "outputs": [],
   "source": [
    "a = ri(1,99,30)"
   ]
  },
  {
   "cell_type": "code",
   "execution_count": 191,
   "id": "551c7c09",
   "metadata": {},
   "outputs": [
    {
     "data": {
      "text/plain": [
       "array([80, 58, 83, 33, 77, 47, 24, 23, 49, 40, 92, 38, 34, 89, 42, 28, 91,\n",
       "       23, 52, 96, 72, 72,  6, 68, 73, 80, 40, 43,  6, 58])"
      ]
     },
     "execution_count": 191,
     "metadata": {},
     "output_type": "execute_result"
    }
   ],
   "source": [
    "a"
   ]
  },
  {
   "cell_type": "code",
   "execution_count": 197,
   "id": "238cbe51",
   "metadata": {},
   "outputs": [],
   "source": [
    "b= a.reshape(5,2,3) # we can reshape in 3 dimension"
   ]
  },
  {
   "cell_type": "code",
   "execution_count": 199,
   "id": "6fbe4ecf",
   "metadata": {},
   "outputs": [
    {
     "data": {
      "text/plain": [
       "3"
      ]
     },
     "execution_count": 199,
     "metadata": {},
     "output_type": "execute_result"
    }
   ],
   "source": [
    "b.ndim # we can check the dimension"
   ]
  },
  {
   "cell_type": "code",
   "execution_count": 200,
   "id": "78b56e81",
   "metadata": {},
   "outputs": [
    {
     "data": {
      "text/plain": [
       "(5, 2, 3)"
      ]
     },
     "execution_count": 200,
     "metadata": {},
     "output_type": "execute_result"
    }
   ],
   "source": [
    "b.shape # we can check the shape"
   ]
  },
  {
   "cell_type": "code",
   "execution_count": 201,
   "id": "64fbe9f9",
   "metadata": {},
   "outputs": [
    {
     "data": {
      "text/plain": [
       "30"
      ]
     },
     "execution_count": 201,
     "metadata": {},
     "output_type": "execute_result"
    }
   ],
   "source": [
    "b.size # we can check the size of the array"
   ]
  },
  {
   "cell_type": "code",
   "execution_count": 203,
   "id": "f45c9880",
   "metadata": {},
   "outputs": [
    {
     "data": {
      "text/plain": [
       "numpy.ndarray"
      ]
     },
     "execution_count": 203,
     "metadata": {},
     "output_type": "execute_result"
    }
   ],
   "source": [
    "type(b) # we can check the type as well"
   ]
  },
  {
   "cell_type": "code",
   "execution_count": 204,
   "id": "f327d471",
   "metadata": {},
   "outputs": [
    {
     "data": {
      "text/plain": [
       "array([[[80, 58, 83],\n",
       "        [33, 77, 47]],\n",
       "\n",
       "       [[24, 23, 49],\n",
       "        [40, 92, 38]],\n",
       "\n",
       "       [[34, 89, 42],\n",
       "        [28, 91, 23]],\n",
       "\n",
       "       [[52, 96, 72],\n",
       "        [72,  6, 68]],\n",
       "\n",
       "       [[73, 80, 40],\n",
       "        [43,  6, 58]]])"
      ]
     },
     "execution_count": 204,
     "metadata": {},
     "output_type": "execute_result"
    }
   ],
   "source": [
    "b"
   ]
  },
  {
   "cell_type": "code",
   "execution_count": 206,
   "id": "53ec8777",
   "metadata": {},
   "outputs": [
    {
     "data": {
      "text/plain": [
       "6"
      ]
     },
     "execution_count": 206,
     "metadata": {},
     "output_type": "execute_result"
    }
   ],
   "source": [
    "b.min()"
   ]
  },
  {
   "cell_type": "code",
   "execution_count": 207,
   "id": "c20db981",
   "metadata": {},
   "outputs": [
    {
     "data": {
      "text/plain": [
       "96"
      ]
     },
     "execution_count": 207,
     "metadata": {},
     "output_type": "execute_result"
    }
   ],
   "source": [
    "b.max()"
   ]
  },
  {
   "cell_type": "code",
   "execution_count": 208,
   "id": "a4acd444",
   "metadata": {},
   "outputs": [
    {
     "data": {
      "text/plain": [
       "53.9"
      ]
     },
     "execution_count": 208,
     "metadata": {},
     "output_type": "execute_result"
    }
   ],
   "source": [
    "b.mean()"
   ]
  },
  {
   "cell_type": "code",
   "execution_count": 209,
   "id": "d23dc21d",
   "metadata": {},
   "outputs": [],
   "source": [
    "b.sort()"
   ]
  },
  {
   "cell_type": "code",
   "execution_count": 210,
   "id": "e223f6a3",
   "metadata": {},
   "outputs": [
    {
     "data": {
      "text/plain": [
       "array([[[58, 80, 83],\n",
       "        [33, 47, 77]],\n",
       "\n",
       "       [[23, 24, 49],\n",
       "        [38, 40, 92]],\n",
       "\n",
       "       [[34, 42, 89],\n",
       "        [23, 28, 91]],\n",
       "\n",
       "       [[52, 72, 96],\n",
       "        [ 6, 68, 72]],\n",
       "\n",
       "       [[40, 73, 80],\n",
       "        [ 6, 43, 58]]])"
      ]
     },
     "execution_count": 210,
     "metadata": {},
     "output_type": "execute_result"
    }
   ],
   "source": [
    "b"
   ]
  },
  {
   "cell_type": "code",
   "execution_count": 211,
   "id": "7929ee35",
   "metadata": {},
   "outputs": [],
   "source": [
    "# sorting"
   ]
  },
  {
   "cell_type": "code",
   "execution_count": 235,
   "id": "bee32b74",
   "metadata": {},
   "outputs": [],
   "source": [
    "se = ri(1,100,25)"
   ]
  },
  {
   "cell_type": "code",
   "execution_count": 236,
   "id": "29724c19",
   "metadata": {},
   "outputs": [
    {
     "data": {
      "text/plain": [
       "25"
      ]
     },
     "execution_count": 236,
     "metadata": {},
     "output_type": "execute_result"
    }
   ],
   "source": [
    "se.size"
   ]
  },
  {
   "cell_type": "code",
   "execution_count": 237,
   "id": "11c01f7f",
   "metadata": {},
   "outputs": [
    {
     "data": {
      "text/plain": [
       "array([[38, 47, 90, 45, 57],\n",
       "       [46, 38, 74, 61,  2],\n",
       "       [66, 26, 26, 38, 92],\n",
       "       [87, 85, 75, 17, 69],\n",
       "       [99, 55, 96, 67, 13]])"
      ]
     },
     "execution_count": 237,
     "metadata": {},
     "output_type": "execute_result"
    }
   ],
   "source": [
    "se.reshape(5,5)"
   ]
  },
  {
   "cell_type": "code",
   "execution_count": 238,
   "id": "d001ecf8",
   "metadata": {},
   "outputs": [
    {
     "name": "stdout",
     "output_type": "stream",
     "text": [
      "\n",
      " 5 X 5 matrix of random integer \n",
      " -------------------------------------------------- \n",
      " [38 47 90 45 57 46 38 74 61  2 66 26 26 38 92 87 85 75 17 69 99 55 96 67\n",
      " 13]\n"
     ]
    }
   ],
   "source": [
    "print(\"\\n 5 X 5 matrix of random integer \\n\",'-'*50,'\\n',se)"
   ]
  },
  {
   "cell_type": "code",
   "execution_count": 239,
   "id": "8d94367a",
   "metadata": {},
   "outputs": [
    {
     "name": "stdout",
     "output_type": "stream",
     "text": [
      "\n",
      " Here is the sorted matrix along each row \n",
      " -------------------------------------------------- \n",
      " [ 2 13 17 26 26 38 38 38 45 46 47 55 57 61 66 67 69 74 75 85 87 90 92 96\n",
      " 99]\n"
     ]
    }
   ],
   "source": [
    "print(\"\\n Here is the sorted matrix along each row \\n\",'-'*50,'\\n',np.sort(se))#default axis=1"
   ]
  },
  {
   "cell_type": "code",
   "execution_count": 240,
   "id": "f1ab8110",
   "metadata": {},
   "outputs": [],
   "source": [
    "se.sort()"
   ]
  },
  {
   "cell_type": "code",
   "execution_count": 241,
   "id": "f8ae4bb7",
   "metadata": {},
   "outputs": [],
   "source": [
    "se1 = se.reshape(5,5)"
   ]
  },
  {
   "cell_type": "code",
   "execution_count": 242,
   "id": "99fe11fe",
   "metadata": {},
   "outputs": [],
   "source": [
    "se1.sort(axis = 1)"
   ]
  },
  {
   "cell_type": "code",
   "execution_count": 243,
   "id": "b16f2312",
   "metadata": {},
   "outputs": [
    {
     "data": {
      "text/plain": [
       "array([[ 2, 13, 17, 26, 26],\n",
       "       [38, 38, 38, 45, 46],\n",
       "       [47, 55, 57, 61, 66],\n",
       "       [67, 69, 74, 75, 85],\n",
       "       [87, 90, 92, 96, 99]])"
      ]
     },
     "execution_count": 243,
     "metadata": {},
     "output_type": "execute_result"
    }
   ],
   "source": [
    "se1"
   ]
  },
  {
   "cell_type": "code",
   "execution_count": 246,
   "id": "cd2c4d52",
   "metadata": {},
   "outputs": [
    {
     "data": {
      "text/plain": [
       "array([[ 2, 13, 17, 26, 26],\n",
       "       [38, 38, 38, 45, 46],\n",
       "       [47, 55, 57, 61, 66],\n",
       "       [67, 69, 74, 75, 85],\n",
       "       [87, 90, 92, 96, 99]])"
      ]
     },
     "execution_count": 246,
     "metadata": {},
     "output_type": "execute_result"
    }
   ],
   "source": [
    "np.sort(se1, axis = 1)"
   ]
  },
  {
   "cell_type": "code",
   "execution_count": 248,
   "id": "d366848d",
   "metadata": {},
   "outputs": [],
   "source": [
    "# Index and slicing"
   ]
  },
  {
   "cell_type": "code",
   "execution_count": 249,
   "id": "f144133b",
   "metadata": {},
   "outputs": [],
   "source": [
    "arr = np.arange(13,30)"
   ]
  },
  {
   "cell_type": "code",
   "execution_count": 251,
   "id": "cd97838b",
   "metadata": {},
   "outputs": [
    {
     "data": {
      "text/plain": [
       "array([13, 14, 15, 16, 17, 18, 19, 20, 21, 22, 23, 24, 25, 26, 27, 28, 29])"
      ]
     },
     "execution_count": 251,
     "metadata": {},
     "output_type": "execute_result"
    }
   ],
   "source": [
    "arr"
   ]
  },
  {
   "cell_type": "code",
   "execution_count": 252,
   "id": "2456969b",
   "metadata": {},
   "outputs": [
    {
     "data": {
      "text/plain": [
       "20"
      ]
     },
     "execution_count": 252,
     "metadata": {},
     "output_type": "execute_result"
    }
   ],
   "source": [
    "arr[7]"
   ]
  },
  {
   "cell_type": "code",
   "execution_count": 255,
   "id": "2108b6d7",
   "metadata": {},
   "outputs": [
    {
     "data": {
      "text/plain": [
       "array([15, 17, 18])"
      ]
     },
     "execution_count": 255,
     "metadata": {},
     "output_type": "execute_result"
    }
   ],
   "source": [
    "arr[[2,4,5]]"
   ]
  },
  {
   "cell_type": "code",
   "execution_count": 257,
   "id": "e04dbe0c",
   "metadata": {},
   "outputs": [
    {
     "data": {
      "text/plain": [
       "array([16, 17, 18])"
      ]
     },
     "execution_count": 257,
     "metadata": {},
     "output_type": "execute_result"
    }
   ],
   "source": [
    "arr[3:6]"
   ]
  },
  {
   "cell_type": "code",
   "execution_count": 259,
   "id": "407b1f05",
   "metadata": {},
   "outputs": [
    {
     "name": "stdout",
     "output_type": "stream",
     "text": [
      "Element up to 4th index are : [17 18 19 20 21 22 23 24 25 26 27 28 29]\n"
     ]
    }
   ],
   "source": [
    "print(\"Element up to 4th index are :\",arr[4:])"
   ]
  },
  {
   "cell_type": "code",
   "execution_count": 262,
   "id": "44234a8e",
   "metadata": {},
   "outputs": [
    {
     "name": "stdout",
     "output_type": "stream",
     "text": [
      "Element up to 4th index are : [13 14 15 16 17 18 19 20 21 22 23 24 25 26 27 28]\n"
     ]
    }
   ],
   "source": [
    "print(\"Element up to 4th index are :\",arr[:-1])"
   ]
  },
  {
   "cell_type": "code",
   "execution_count": 263,
   "id": "272b9ab6",
   "metadata": {},
   "outputs": [],
   "source": [
    "abc = arr[4:]"
   ]
  },
  {
   "cell_type": "code",
   "execution_count": 264,
   "id": "7c993f09",
   "metadata": {},
   "outputs": [
    {
     "data": {
      "text/plain": [
       "array([17, 18, 19, 20, 21, 22, 23, 24, 25, 26, 27, 28, 29])"
      ]
     },
     "execution_count": 264,
     "metadata": {},
     "output_type": "execute_result"
    }
   ],
   "source": [
    "abc"
   ]
  },
  {
   "cell_type": "code",
   "execution_count": 265,
   "id": "174d3044",
   "metadata": {},
   "outputs": [
    {
     "name": "stdout",
     "output_type": "stream",
     "text": [
      "Element from last backwords :  [29 27 25 23 21 19 17]\n"
     ]
    }
   ],
   "source": [
    "print(\"Element from last backwords : \",abc[-1::-2])"
   ]
  },
  {
   "cell_type": "code",
   "execution_count": 267,
   "id": "ebd5861b",
   "metadata": {},
   "outputs": [
    {
     "name": "stdout",
     "output_type": "stream",
     "text": [
      "7th elemets from last backword are :  [29 27 25 23]\n"
     ]
    }
   ],
   "source": [
    "print(\"7th elemets from last backword are : \",arr[-1:-8:-2])"
   ]
  },
  {
   "cell_type": "code",
   "execution_count": 268,
   "id": "33f9ed37",
   "metadata": {},
   "outputs": [
    {
     "data": {
      "text/plain": [
       "array([17, 18, 19, 20, 21, 22, 23, 24, 25, 26, 27, 28, 29])"
      ]
     },
     "execution_count": 268,
     "metadata": {},
     "output_type": "execute_result"
    }
   ],
   "source": [
    "abc"
   ]
  },
  {
   "cell_type": "code",
   "execution_count": 269,
   "id": "2ffb4b94",
   "metadata": {},
   "outputs": [
    {
     "data": {
      "text/plain": [
       "array([21, 23])"
      ]
     },
     "execution_count": 269,
     "metadata": {},
     "output_type": "execute_result"
    }
   ],
   "source": [
    "abc[4:8:2]"
   ]
  },
  {
   "cell_type": "code",
   "execution_count": 271,
   "id": "3599c516",
   "metadata": {},
   "outputs": [
    {
     "data": {
      "text/plain": [
       "array([19, 21, 26])"
      ]
     },
     "execution_count": 271,
     "metadata": {},
     "output_type": "execute_result"
    }
   ],
   "source": [
    "abc[[2,4,9]]"
   ]
  },
  {
   "cell_type": "code",
   "execution_count": 272,
   "id": "57569448",
   "metadata": {},
   "outputs": [],
   "source": [
    "my_mat=[[1,2,3],[4,5,6],[7,8,9]]"
   ]
  },
  {
   "cell_type": "code",
   "execution_count": 273,
   "id": "6a522815",
   "metadata": {},
   "outputs": [
    {
     "data": {
      "text/plain": [
       "[[1, 2, 3], [4, 5, 6], [7, 8, 9]]"
      ]
     },
     "execution_count": 273,
     "metadata": {},
     "output_type": "execute_result"
    }
   ],
   "source": [
    "my_mat"
   ]
  },
  {
   "cell_type": "code",
   "execution_count": 274,
   "id": "3f7245af",
   "metadata": {},
   "outputs": [],
   "source": [
    "mat = np.array(my_mat)"
   ]
  },
  {
   "cell_type": "code",
   "execution_count": 275,
   "id": "0a69006d",
   "metadata": {},
   "outputs": [
    {
     "data": {
      "text/plain": [
       "array([[1, 2, 3],\n",
       "       [4, 5, 6],\n",
       "       [7, 8, 9]])"
      ]
     },
     "execution_count": 275,
     "metadata": {},
     "output_type": "execute_result"
    }
   ],
   "source": [
    "mat"
   ]
  },
  {
   "cell_type": "code",
   "execution_count": 278,
   "id": "0def0ce5",
   "metadata": {},
   "outputs": [
    {
     "data": {
      "text/plain": [
       "6"
      ]
     },
     "execution_count": 278,
     "metadata": {},
     "output_type": "execute_result"
    }
   ],
   "source": [
    "mat[1,2]"
   ]
  },
  {
   "cell_type": "code",
   "execution_count": 280,
   "id": "e9e7cc51",
   "metadata": {},
   "outputs": [
    {
     "name": "stdout",
     "output_type": "stream",
     "text": [
      "Entire column at index  3:\n",
      " [[2 3]\n",
      " [5 6]\n",
      " [8 9]]\n"
     ]
    }
   ],
   "source": [
    "print(\"Entire column at index  3:\\n\",mat[:,1:])"
   ]
  },
  {
   "cell_type": "code",
   "execution_count": 284,
   "id": "a214fd6e",
   "metadata": {},
   "outputs": [
    {
     "name": "stdout",
     "output_type": "stream",
     "text": [
      "\n",
      "Subsetting Sub-Matricss\n",
      "---------\n",
      "Matrics with row indices 1 and 2 and column indices 3 and 4\n",
      " [[5]]\n"
     ]
    }
   ],
   "source": [
    "print(\"\\nSubsetting Sub-Matricss\\n---------\")\n",
    "\n",
    "print(\"Matrics with row indices 1 and 2 and column indices 3 and 4\\n\",mat[1:2,1:2])"
   ]
  },
  {
   "cell_type": "code",
   "execution_count": 289,
   "id": "442b2672",
   "metadata": {},
   "outputs": [
    {
     "name": "stdout",
     "output_type": "stream",
     "text": [
      "[[1 2 3]\n",
      " [4 5 6]\n",
      " [7 8 9]] \n",
      "\n"
     ]
    },
    {
     "data": {
      "text/plain": [
       "array([[5]])"
      ]
     },
     "execution_count": 289,
     "metadata": {},
     "output_type": "execute_result"
    }
   ],
   "source": [
    "print(mat,\"\\n\")\n",
    "mat[1:2,1:2]"
   ]
  },
  {
   "cell_type": "code",
   "execution_count": 290,
   "id": "2ad43564",
   "metadata": {},
   "outputs": [
    {
     "data": {
      "text/plain": [
       "array([[4, 5, 6]])"
      ]
     },
     "execution_count": 290,
     "metadata": {},
     "output_type": "execute_result"
    }
   ],
   "source": [
    "mat[1:2,:]"
   ]
  },
  {
   "cell_type": "code",
   "execution_count": 297,
   "id": "1dbf498e",
   "metadata": {},
   "outputs": [
    {
     "data": {
      "text/plain": [
       "array([[1, 2, 3],\n",
       "       [4, 5, 6]])"
      ]
     },
     "execution_count": 297,
     "metadata": {},
     "output_type": "execute_result"
    }
   ],
   "source": [
    "mat[:2,:]"
   ]
  },
  {
   "cell_type": "code",
   "execution_count": 303,
   "id": "da39924b",
   "metadata": {},
   "outputs": [
    {
     "data": {
      "text/plain": [
       "array([[4, 6]])"
      ]
     },
     "execution_count": 303,
     "metadata": {},
     "output_type": "execute_result"
    }
   ],
   "source": [
    "mat[1:2,[0,2]]"
   ]
  },
  {
   "cell_type": "code",
   "execution_count": 306,
   "id": "9069f10b",
   "metadata": {},
   "outputs": [],
   "source": [
    "mat[1,2] = 99"
   ]
  },
  {
   "cell_type": "code",
   "execution_count": 311,
   "id": "48e10832",
   "metadata": {},
   "outputs": [],
   "source": [
    "mat[2:3,[1]] = 100"
   ]
  },
  {
   "cell_type": "code",
   "execution_count": 312,
   "id": "3943f97c",
   "metadata": {},
   "outputs": [
    {
     "data": {
      "text/plain": [
       "array([[  1,   2,   3],\n",
       "       [  4,   5,  99],\n",
       "       [  7, 100,   9]])"
      ]
     },
     "execution_count": 312,
     "metadata": {},
     "output_type": "execute_result"
    }
   ],
   "source": [
    "mat"
   ]
  },
  {
   "cell_type": "code",
   "execution_count": 313,
   "id": "a069b487",
   "metadata": {},
   "outputs": [],
   "source": [
    "#Subsetting-So what is subsetting ? subsetting means when we wann to fetch only few dara from matrix then we use subsetting method.\n"
   ]
  },
  {
   "cell_type": "code",
   "execution_count": 327,
   "id": "0b342142",
   "metadata": {},
   "outputs": [],
   "source": [
    "mat = np.array(ri(10,100,15))"
   ]
  },
  {
   "cell_type": "code",
   "execution_count": 332,
   "id": "224b4df5",
   "metadata": {},
   "outputs": [],
   "source": [
    "mat1 = mat.reshape(5,3)"
   ]
  },
  {
   "cell_type": "code",
   "execution_count": 333,
   "id": "0bdde040",
   "metadata": {},
   "outputs": [
    {
     "data": {
      "text/plain": [
       "numpy.ndarray"
      ]
     },
     "execution_count": 333,
     "metadata": {},
     "output_type": "execute_result"
    }
   ],
   "source": [
    "type(mat1)"
   ]
  },
  {
   "cell_type": "code",
   "execution_count": 334,
   "id": "cbf39987",
   "metadata": {},
   "outputs": [
    {
     "data": {
      "text/plain": [
       "array([[19, 31, 39],\n",
       "       [73, 68, 34],\n",
       "       [76, 30, 44],\n",
       "       [51, 72, 46],\n",
       "       [73, 73, 58]])"
      ]
     },
     "execution_count": 334,
     "metadata": {},
     "output_type": "execute_result"
    }
   ],
   "source": [
    "mat1"
   ]
  },
  {
   "cell_type": "code",
   "execution_count": 336,
   "id": "87fa913f",
   "metadata": {},
   "outputs": [
    {
     "name": "stdout",
     "output_type": "stream",
     "text": [
      "Matrix of random 2 digit number \n",
      "-----------\n",
      " [[19 31 39]\n",
      " [73 68 34]\n",
      " [76 30 44]\n",
      " [51 72 46]\n",
      " [73 73 58]]\n"
     ]
    }
   ],
   "source": [
    "print('Matrix of random 2 digit number \\n-----------\\n',mat1)"
   ]
  },
  {
   "cell_type": "code",
   "execution_count": 340,
   "id": "0f69c171",
   "metadata": {},
   "outputs": [
    {
     "data": {
      "text/plain": [
       "array([73, 68, 76, 51, 72, 73, 73, 58])"
      ]
     },
     "execution_count": 340,
     "metadata": {},
     "output_type": "execute_result"
    }
   ],
   "source": [
    "mat1[mat1>50]"
   ]
  },
  {
   "cell_type": "code",
   "execution_count": 342,
   "id": "52fb3d96",
   "metadata": {},
   "outputs": [
    {
     "data": {
      "text/plain": [
       "array([19, 31, 39, 34, 30, 44, 46])"
      ]
     },
     "execution_count": 342,
     "metadata": {},
     "output_type": "execute_result"
    }
   ],
   "source": [
    "mat1[mat1<50]"
   ]
  },
  {
   "cell_type": "code",
   "execution_count": 344,
   "id": "6a8c9f16",
   "metadata": {},
   "outputs": [
    {
     "data": {
      "text/plain": [
       "(array([2], dtype=int64), array([1], dtype=int64))"
      ]
     },
     "execution_count": 344,
     "metadata": {},
     "output_type": "execute_result"
    }
   ],
   "source": [
    "np.where(mat1==30)"
   ]
  },
  {
   "cell_type": "code",
   "execution_count": 345,
   "id": "6dcb6d7f",
   "metadata": {},
   "outputs": [
    {
     "data": {
      "text/plain": [
       "array([[19, 31, 39],\n",
       "       [73, 68, 34],\n",
       "       [76, 30, 44],\n",
       "       [51, 72, 46],\n",
       "       [73, 73, 58]])"
      ]
     },
     "execution_count": 345,
     "metadata": {},
     "output_type": "execute_result"
    }
   ],
   "source": [
    "mat1"
   ]
  },
  {
   "cell_type": "code",
   "execution_count": 347,
   "id": "4548d327",
   "metadata": {},
   "outputs": [
    {
     "data": {
      "text/plain": [
       "(array([ 3,  4,  6,  9, 10, 12, 13, 14], dtype=int64),)"
      ]
     },
     "execution_count": 347,
     "metadata": {},
     "output_type": "execute_result"
    }
   ],
   "source": [
    "np.where(mat>=50)"
   ]
  },
  {
   "cell_type": "code",
   "execution_count": 348,
   "id": "6a1e7908",
   "metadata": {},
   "outputs": [
    {
     "data": {
      "text/plain": [
       "array('Still working', dtype='<U13')"
      ]
     },
     "execution_count": 348,
     "metadata": {},
     "output_type": "execute_result"
    }
   ],
   "source": [
    "age = 50\n",
    "np.where(age >60,\"Retired\", \"Still working\")"
   ]
  },
  {
   "cell_type": "code",
   "execution_count": 349,
   "id": "72f8eda0",
   "metadata": {},
   "outputs": [],
   "source": [
    "mat1=np.array(ri(1,10,9)).reshape(3,3)\n",
    "mat2=np.array(ri(1,10,9)).reshape(3,3)"
   ]
  },
  {
   "cell_type": "code",
   "execution_count": 350,
   "id": "46c6ebfc",
   "metadata": {},
   "outputs": [
    {
     "data": {
      "text/plain": [
       "array([[6, 8, 7],\n",
       "       [2, 2, 8],\n",
       "       [2, 7, 9]])"
      ]
     },
     "execution_count": 350,
     "metadata": {},
     "output_type": "execute_result"
    }
   ],
   "source": [
    "mat1"
   ]
  },
  {
   "cell_type": "code",
   "execution_count": 351,
   "id": "13a941a9",
   "metadata": {},
   "outputs": [
    {
     "data": {
      "text/plain": [
       "array([[2, 6, 3],\n",
       "       [3, 5, 9],\n",
       "       [8, 2, 6]])"
      ]
     },
     "execution_count": 351,
     "metadata": {},
     "output_type": "execute_result"
    }
   ],
   "source": [
    "mat2"
   ]
  },
  {
   "cell_type": "code",
   "execution_count": 352,
   "id": "3fbff808",
   "metadata": {},
   "outputs": [
    {
     "data": {
      "text/plain": [
       "array([[3.        , 1.33333333, 2.33333333],\n",
       "       [0.66666667, 0.4       , 0.88888889],\n",
       "       [0.25      , 3.5       , 1.5       ]])"
      ]
     },
     "execution_count": 352,
     "metadata": {},
     "output_type": "execute_result"
    }
   ],
   "source": [
    "mat1/mat2"
   ]
  },
  {
   "cell_type": "code",
   "execution_count": 353,
   "id": "5a430b56",
   "metadata": {},
   "outputs": [
    {
     "name": "stdout",
     "output_type": "stream",
     "text": [
      "\n",
      " Linear combination : 3*A - 2*B \n",
      " [[ 14  12  15]\n",
      " [  0  -4   6]\n",
      " [-10  17  15]]\n"
     ]
    }
   ],
   "source": [
    "print(\"\\n Linear combination : 3*A - 2*B \\n\",3*mat1-2*mat2)"
   ]
  },
  {
   "cell_type": "code",
   "execution_count": 355,
   "id": "43659033",
   "metadata": {},
   "outputs": [],
   "source": [
    "start = np.zeros((3,3))"
   ]
  },
  {
   "cell_type": "code",
   "execution_count": 356,
   "id": "f3f8bc38",
   "metadata": {},
   "outputs": [
    {
     "data": {
      "text/plain": [
       "array([[0., 0., 0.],\n",
       "       [0., 0., 0.],\n",
       "       [0., 0., 0.]])"
      ]
     },
     "execution_count": 356,
     "metadata": {},
     "output_type": "execute_result"
    }
   ],
   "source": [
    "start"
   ]
  },
  {
   "cell_type": "code",
   "execution_count": 358,
   "id": "9168650c",
   "metadata": {},
   "outputs": [],
   "source": [
    "add_row = np.array([1,0,3])"
   ]
  },
  {
   "cell_type": "code",
   "execution_count": 359,
   "id": "289f2caa",
   "metadata": {},
   "outputs": [],
   "source": [
    "added = start+add_row"
   ]
  },
  {
   "cell_type": "code",
   "execution_count": 360,
   "id": "7dae3b7a",
   "metadata": {},
   "outputs": [
    {
     "data": {
      "text/plain": [
       "array([[1., 0., 3.],\n",
       "       [1., 0., 3.],\n",
       "       [1., 0., 3.]])"
      ]
     },
     "execution_count": 360,
     "metadata": {},
     "output_type": "execute_result"
    }
   ],
   "source": [
    "added"
   ]
  },
  {
   "cell_type": "code",
   "execution_count": 362,
   "id": "8fc84bb5",
   "metadata": {},
   "outputs": [],
   "source": [
    "add_rows = add_row.T"
   ]
  },
  {
   "cell_type": "code",
   "execution_count": 363,
   "id": "2545f129",
   "metadata": {},
   "outputs": [
    {
     "data": {
      "text/plain": [
       "array([1, 0, 3])"
      ]
     },
     "execution_count": 363,
     "metadata": {},
     "output_type": "execute_result"
    }
   ],
   "source": [
    "add_rows"
   ]
  },
  {
   "cell_type": "code",
   "execution_count": null,
   "id": "84872e12",
   "metadata": {},
   "outputs": [],
   "source": []
  }
 ],
 "metadata": {
  "kernelspec": {
   "display_name": "Python 3 (ipykernel)",
   "language": "python",
   "name": "python3"
  },
  "language_info": {
   "codemirror_mode": {
    "name": "ipython",
    "version": 3
   },
   "file_extension": ".py",
   "mimetype": "text/x-python",
   "name": "python",
   "nbconvert_exporter": "python",
   "pygments_lexer": "ipython3",
   "version": "3.11.5"
  }
 },
 "nbformat": 4,
 "nbformat_minor": 5
}
